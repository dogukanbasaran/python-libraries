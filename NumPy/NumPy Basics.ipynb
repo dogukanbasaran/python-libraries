{
 "cells": [
  {
   "cell_type": "code",
   "execution_count": 1,
   "id": "07d28272-5301-4016-a884-2168bd01e424",
   "metadata": {},
   "outputs": [],
   "source": [
    "import numpy as np"
   ]
  },
  {
   "cell_type": "markdown",
   "id": "4192df3b-d6ea-4b3c-b734-622e7965b17a",
   "metadata": {
    "jp-MarkdownHeadingCollapsed": true
   },
   "source": [
    "## Creating ndarrays"
   ]
  },
  {
   "cell_type": "code",
   "execution_count": 3,
   "id": "0de96b18-e090-469b-adcc-bfeac57afe4e",
   "metadata": {
    "scrolled": true
   },
   "outputs": [
    {
     "data": {
      "text/plain": [
       "list"
      ]
     },
     "execution_count": 3,
     "metadata": {},
     "output_type": "execute_result"
    }
   ],
   "source": [
    "data1 = [6, 7.5, 8, 0, 1]\n",
    "type(data1)"
   ]
  },
  {
   "cell_type": "code",
   "execution_count": 4,
   "id": "37c97f4d-10b5-4c35-acb5-37a311d2b35d",
   "metadata": {},
   "outputs": [
    {
     "data": {
      "text/plain": [
       "[6, 7.5, 8, 0, 1]"
      ]
     },
     "execution_count": 4,
     "metadata": {},
     "output_type": "execute_result"
    }
   ],
   "source": [
    "data1"
   ]
  },
  {
   "cell_type": "code",
   "execution_count": 5,
   "id": "dcdd59c2-b04e-4265-8ee8-8167cdfd5b5b",
   "metadata": {},
   "outputs": [
    {
     "data": {
      "text/plain": [
       "numpy.ndarray"
      ]
     },
     "execution_count": 5,
     "metadata": {},
     "output_type": "execute_result"
    }
   ],
   "source": [
    "arr1 = np.array(data1)\n",
    "type(arr1)"
   ]
  },
  {
   "cell_type": "code",
   "execution_count": 6,
   "id": "f2e98870-2a0a-4698-9cc9-706fb0dfa830",
   "metadata": {},
   "outputs": [
    {
     "data": {
      "text/plain": [
       "array([6. , 7.5, 8. , 0. , 1. ])"
      ]
     },
     "execution_count": 6,
     "metadata": {},
     "output_type": "execute_result"
    }
   ],
   "source": [
    "arr1"
   ]
  },
  {
   "cell_type": "code",
   "execution_count": 7,
   "id": "ff0801b9-b791-4df9-b26a-e6aafcd262cc",
   "metadata": {},
   "outputs": [
    {
     "data": {
      "text/plain": [
       "array([[1, 2, 3, 4],\n",
       "       [5, 6, 7, 8]])"
      ]
     },
     "execution_count": 7,
     "metadata": {},
     "output_type": "execute_result"
    }
   ],
   "source": [
    "data2 = [[1,2,3,4], [5,6,7,8]]\n",
    "arr2 = np.array(data2)\n",
    "arr2"
   ]
  },
  {
   "cell_type": "code",
   "execution_count": 8,
   "id": "187809b4-91e6-4768-afc0-5130df25ab76",
   "metadata": {},
   "outputs": [
    {
     "data": {
      "text/plain": [
       "2"
      ]
     },
     "execution_count": 8,
     "metadata": {},
     "output_type": "execute_result"
    }
   ],
   "source": [
    "arr2.ndim"
   ]
  },
  {
   "cell_type": "code",
   "execution_count": 9,
   "id": "5a61f775-4f54-4cb0-8412-29d720f15b1e",
   "metadata": {},
   "outputs": [
    {
     "data": {
      "text/plain": [
       "(2, 4)"
      ]
     },
     "execution_count": 9,
     "metadata": {},
     "output_type": "execute_result"
    }
   ],
   "source": [
    "arr2.shape"
   ]
  },
  {
   "cell_type": "code",
   "execution_count": 10,
   "id": "9be1fc91-85b6-4e18-8164-98c64460fbc7",
   "metadata": {},
   "outputs": [
    {
     "data": {
      "text/plain": [
       "dtype('int32')"
      ]
     },
     "execution_count": 10,
     "metadata": {},
     "output_type": "execute_result"
    }
   ],
   "source": [
    "arr2.dtype"
   ]
  },
  {
   "cell_type": "code",
   "execution_count": 11,
   "id": "a84b2090-2a2b-4a6b-8856-2954f2305818",
   "metadata": {},
   "outputs": [
    {
     "data": {
      "text/plain": [
       "8"
      ]
     },
     "execution_count": 11,
     "metadata": {},
     "output_type": "execute_result"
    }
   ],
   "source": [
    "arr2.size"
   ]
  },
  {
   "cell_type": "code",
   "execution_count": 12,
   "id": "efa952eb-22f8-46f6-85c0-e2c37fb29b71",
   "metadata": {},
   "outputs": [
    {
     "data": {
      "text/plain": [
       "array([0., 0., 0., 0., 0., 0., 0., 0., 0., 0.])"
      ]
     },
     "execution_count": 12,
     "metadata": {},
     "output_type": "execute_result"
    }
   ],
   "source": [
    "np.zeros(10)"
   ]
  },
  {
   "cell_type": "code",
   "execution_count": 13,
   "id": "3f02ae94-886c-4584-a8d5-21c730738142",
   "metadata": {},
   "outputs": [
    {
     "data": {
      "text/plain": [
       "array([[0., 0., 0., 0., 0.],\n",
       "       [0., 0., 0., 0., 0.],\n",
       "       [0., 0., 0., 0., 0.],\n",
       "       [0., 0., 0., 0., 0.],\n",
       "       [0., 0., 0., 0., 0.]])"
      ]
     },
     "execution_count": 13,
     "metadata": {},
     "output_type": "execute_result"
    }
   ],
   "source": [
    "np.zeros((5,5))"
   ]
  },
  {
   "cell_type": "code",
   "execution_count": 14,
   "id": "3440767b-b38c-472d-bb63-d9572b9694e1",
   "metadata": {},
   "outputs": [
    {
     "data": {
      "text/plain": [
       "array([1., 1., 1., 1., 1., 1., 1., 1., 1., 1.])"
      ]
     },
     "execution_count": 14,
     "metadata": {},
     "output_type": "execute_result"
    }
   ],
   "source": [
    "np.ones(10)"
   ]
  },
  {
   "cell_type": "code",
   "execution_count": 15,
   "id": "8f264d15-a287-4076-a3e6-4722a22c2168",
   "metadata": {},
   "outputs": [
    {
     "data": {
      "text/plain": [
       "array([[1., 1., 1., 1., 1.],\n",
       "       [1., 1., 1., 1., 1.],\n",
       "       [1., 1., 1., 1., 1.],\n",
       "       [1., 1., 1., 1., 1.],\n",
       "       [1., 1., 1., 1., 1.]])"
      ]
     },
     "execution_count": 15,
     "metadata": {},
     "output_type": "execute_result"
    }
   ],
   "source": [
    "np.ones((5,5))"
   ]
  },
  {
   "cell_type": "code",
   "execution_count": 16,
   "id": "385d4889-252f-44b9-9ab2-3e28b410a958",
   "metadata": {},
   "outputs": [
    {
     "data": {
      "text/plain": [
       "array([[[1.14852575e-311, 2.47032823e-322],\n",
       "        [0.00000000e+000, 0.00000000e+000],\n",
       "        [0.00000000e+000, 8.75983079e+164]],\n",
       "\n",
       "       [[7.73780546e-091, 2.35865824e+184],\n",
       "        [4.31984045e-038, 8.69542908e-043],\n",
       "        [3.99910963e+252, 4.11645687e+179]]])"
      ]
     },
     "execution_count": 16,
     "metadata": {},
     "output_type": "execute_result"
    }
   ],
   "source": [
    "np.empty((2,3,2))"
   ]
  },
  {
   "cell_type": "code",
   "execution_count": 17,
   "id": "f7dfb5ed-bf92-458d-8bcf-24e59e727ef9",
   "metadata": {},
   "outputs": [
    {
     "data": {
      "text/plain": [
       "array([ 0,  1,  2,  3,  4,  5,  6,  7,  8,  9, 10, 11, 12, 13, 14])"
      ]
     },
     "execution_count": 17,
     "metadata": {},
     "output_type": "execute_result"
    }
   ],
   "source": [
    "np.arange(15)"
   ]
  },
  {
   "cell_type": "code",
   "execution_count": 18,
   "id": "43945824-8aea-4cef-9ceb-5b4762f16e12",
   "metadata": {},
   "outputs": [
    {
     "data": {
      "text/plain": [
       "array([0, 1, 2, 3, 4])"
      ]
     },
     "execution_count": 18,
     "metadata": {},
     "output_type": "execute_result"
    }
   ],
   "source": [
    "np.arange(5)"
   ]
  },
  {
   "cell_type": "code",
   "execution_count": 19,
   "id": "6e881b46-2ae5-4769-bbc1-d45df168da74",
   "metadata": {},
   "outputs": [
    {
     "data": {
      "text/plain": [
       "array([[1., 0., 0., 0., 0., 0., 0., 0., 0., 0.],\n",
       "       [0., 1., 0., 0., 0., 0., 0., 0., 0., 0.],\n",
       "       [0., 0., 1., 0., 0., 0., 0., 0., 0., 0.],\n",
       "       [0., 0., 0., 1., 0., 0., 0., 0., 0., 0.],\n",
       "       [0., 0., 0., 0., 1., 0., 0., 0., 0., 0.],\n",
       "       [0., 0., 0., 0., 0., 1., 0., 0., 0., 0.],\n",
       "       [0., 0., 0., 0., 0., 0., 1., 0., 0., 0.],\n",
       "       [0., 0., 0., 0., 0., 0., 0., 1., 0., 0.],\n",
       "       [0., 0., 0., 0., 0., 0., 0., 0., 1., 0.],\n",
       "       [0., 0., 0., 0., 0., 0., 0., 0., 0., 1.]])"
      ]
     },
     "execution_count": 19,
     "metadata": {},
     "output_type": "execute_result"
    }
   ],
   "source": [
    "np.eye(10)"
   ]
  },
  {
   "cell_type": "code",
   "execution_count": 20,
   "id": "8e8e3eb5-ab17-4e76-9716-78687da2c69b",
   "metadata": {},
   "outputs": [
    {
     "data": {
      "text/plain": [
       "array([[1., 0., 0., 0., 0., 0., 0., 0., 0., 0.],\n",
       "       [0., 1., 0., 0., 0., 0., 0., 0., 0., 0.],\n",
       "       [0., 0., 1., 0., 0., 0., 0., 0., 0., 0.],\n",
       "       [0., 0., 0., 1., 0., 0., 0., 0., 0., 0.],\n",
       "       [0., 0., 0., 0., 1., 0., 0., 0., 0., 0.],\n",
       "       [0., 0., 0., 0., 0., 1., 0., 0., 0., 0.],\n",
       "       [0., 0., 0., 0., 0., 0., 1., 0., 0., 0.],\n",
       "       [0., 0., 0., 0., 0., 0., 0., 1., 0., 0.],\n",
       "       [0., 0., 0., 0., 0., 0., 0., 0., 1., 0.],\n",
       "       [0., 0., 0., 0., 0., 0., 0., 0., 0., 1.]])"
      ]
     },
     "execution_count": 20,
     "metadata": {},
     "output_type": "execute_result"
    }
   ],
   "source": [
    "np.identity(10)"
   ]
  },
  {
   "cell_type": "code",
   "execution_count": 21,
   "id": "0724f552-290e-4877-b826-595a92786afb",
   "metadata": {},
   "outputs": [
    {
     "data": {
      "text/plain": [
       "array([[1, 2, 3],\n",
       "       [4, 5, 6]])"
      ]
     },
     "execution_count": 21,
     "metadata": {},
     "output_type": "execute_result"
    }
   ],
   "source": [
    "arr3 = np.array([[1, 2, 3], [4, 5, 6]])\n",
    "arr3"
   ]
  },
  {
   "cell_type": "markdown",
   "id": "b62623f6-ee58-4191-813c-11bb2dde39a9",
   "metadata": {
    "jp-MarkdownHeadingCollapsed": true
   },
   "source": [
    "## Arithmetic with NumPy Arrays"
   ]
  },
  {
   "cell_type": "code",
   "execution_count": 23,
   "id": "62af33be-c7fe-4ecc-ba66-e6e33c49d55c",
   "metadata": {},
   "outputs": [],
   "source": [
    "# Vectorization"
   ]
  },
  {
   "cell_type": "code",
   "execution_count": 24,
   "id": "51d4370f-00ed-4bee-a5ca-b7a8da285e69",
   "metadata": {},
   "outputs": [
    {
     "data": {
      "text/plain": [
       "array([[ 2,  4,  6],\n",
       "       [ 8, 10, 12]])"
      ]
     },
     "execution_count": 24,
     "metadata": {},
     "output_type": "execute_result"
    }
   ],
   "source": [
    "arr3 + arr3"
   ]
  },
  {
   "cell_type": "code",
   "execution_count": 25,
   "id": "54bd132a-527b-4f28-963d-a71bd3e89d57",
   "metadata": {},
   "outputs": [
    {
     "data": {
      "text/plain": [
       "array([[0, 0, 0],\n",
       "       [0, 0, 0]])"
      ]
     },
     "execution_count": 25,
     "metadata": {},
     "output_type": "execute_result"
    }
   ],
   "source": [
    "arr3 - arr3"
   ]
  },
  {
   "cell_type": "code",
   "execution_count": 26,
   "id": "482de318-fe0d-4211-a4fd-4be289bd264e",
   "metadata": {},
   "outputs": [
    {
     "data": {
      "text/plain": [
       "array([[ 1,  4,  9],\n",
       "       [16, 25, 36]])"
      ]
     },
     "execution_count": 26,
     "metadata": {},
     "output_type": "execute_result"
    }
   ],
   "source": [
    "arr3 * arr3"
   ]
  },
  {
   "cell_type": "code",
   "execution_count": 27,
   "id": "fd1b4b33-3c2f-4d16-bb20-f87ab6a13b93",
   "metadata": {},
   "outputs": [
    {
     "data": {
      "text/plain": [
       "array([[1., 1., 1.],\n",
       "       [1., 1., 1.]])"
      ]
     },
     "execution_count": 27,
     "metadata": {},
     "output_type": "execute_result"
    }
   ],
   "source": [
    "arr3 / arr3"
   ]
  },
  {
   "cell_type": "code",
   "execution_count": 28,
   "id": "0e301edc-ca18-45b4-a9e2-1084688d5dbd",
   "metadata": {},
   "outputs": [
    {
     "data": {
      "text/plain": [
       "array([[0.2, 0.4, 0.6],\n",
       "       [0.8, 1. , 1.2]])"
      ]
     },
     "execution_count": 28,
     "metadata": {},
     "output_type": "execute_result"
    }
   ],
   "source": [
    "arr3 / 5"
   ]
  },
  {
   "cell_type": "code",
   "execution_count": 29,
   "id": "4c877d73-67b7-4613-859a-e2d5cbcf4a73",
   "metadata": {},
   "outputs": [
    {
     "data": {
      "text/plain": [
       "array([[ 3,  6,  9],\n",
       "       [12, 15, 18]])"
      ]
     },
     "execution_count": 29,
     "metadata": {},
     "output_type": "execute_result"
    }
   ],
   "source": [
    "3 * arr3"
   ]
  },
  {
   "cell_type": "code",
   "execution_count": 30,
   "id": "77ec18c0-8d65-42c2-ac0a-97d96b2a68c0",
   "metadata": {},
   "outputs": [
    {
     "data": {
      "text/plain": [
       "array([[ 1,  4,  9],\n",
       "       [16, 25, 36]])"
      ]
     },
     "execution_count": 30,
     "metadata": {},
     "output_type": "execute_result"
    }
   ],
   "source": [
    "arr3 ** 2"
   ]
  },
  {
   "cell_type": "code",
   "execution_count": 31,
   "id": "15c041c1-9002-4c67-8fa1-427bdb27e63f",
   "metadata": {},
   "outputs": [
    {
     "data": {
      "text/plain": [
       "array([[1, 2, 3],\n",
       "       [4, 5, 6]])"
      ]
     },
     "execution_count": 31,
     "metadata": {},
     "output_type": "execute_result"
    }
   ],
   "source": [
    "arr3"
   ]
  },
  {
   "cell_type": "code",
   "execution_count": 32,
   "id": "8a9b726a-33e0-451a-afda-c8b7fb41f974",
   "metadata": {},
   "outputs": [
    {
     "data": {
      "text/plain": [
       "array([[ 1,  3,  5],\n",
       "       [ 7, 11, 13]])"
      ]
     },
     "execution_count": 32,
     "metadata": {},
     "output_type": "execute_result"
    }
   ],
   "source": [
    "arr4 = np.array([[1, 3, 5], [7, 11, 13]])\n",
    "arr4"
   ]
  },
  {
   "cell_type": "code",
   "execution_count": 33,
   "id": "d2d37796-92a7-4e56-967e-1f8fafc4b0ab",
   "metadata": {},
   "outputs": [],
   "source": [
    "# comparison two equal sized arrays using vectorization"
   ]
  },
  {
   "cell_type": "code",
   "execution_count": 34,
   "id": "b9ef8f80-71c4-4471-b379-9b4b309dbad2",
   "metadata": {},
   "outputs": [
    {
     "data": {
      "text/plain": [
       "array([[False, False, False],\n",
       "       [False, False, False]])"
      ]
     },
     "execution_count": 34,
     "metadata": {},
     "output_type": "execute_result"
    }
   ],
   "source": [
    "arr3 > arr4"
   ]
  },
  {
   "cell_type": "code",
   "execution_count": 35,
   "id": "8e75b0a7-cb57-4f54-a689-2350e5c60170",
   "metadata": {},
   "outputs": [
    {
     "data": {
      "text/plain": [
       "array([[1, 2, 3],\n",
       "       [4, 5, 6]])"
      ]
     },
     "execution_count": 35,
     "metadata": {},
     "output_type": "execute_result"
    }
   ],
   "source": [
    "arr3"
   ]
  },
  {
   "cell_type": "code",
   "execution_count": 36,
   "id": "49cd681e-a659-4b13-86ef-7abe6dc1c761",
   "metadata": {},
   "outputs": [
    {
     "data": {
      "text/plain": [
       "array([[ True, False, False],\n",
       "       [False, False, False]])"
      ]
     },
     "execution_count": 36,
     "metadata": {},
     "output_type": "execute_result"
    }
   ],
   "source": [
    "arr4 == arr3 "
   ]
  },
  {
   "cell_type": "markdown",
   "id": "86cfee0d-c1ff-4378-ba86-73f75ddfa601",
   "metadata": {
    "jp-MarkdownHeadingCollapsed": true
   },
   "source": [
    "## Basic Indexing and Slicing"
   ]
  },
  {
   "cell_type": "code",
   "execution_count": 38,
   "id": "f9700068-8beb-4864-a68e-6f277a722ef0",
   "metadata": {},
   "outputs": [],
   "source": [
    "# indexing on one dimensional array"
   ]
  },
  {
   "cell_type": "code",
   "execution_count": 39,
   "id": "2fdc4c6b-3586-4958-a961-332f2d996ff4",
   "metadata": {},
   "outputs": [
    {
     "data": {
      "text/plain": [
       "array([0, 1, 2, 3, 4, 5, 6, 7, 8, 9])"
      ]
     },
     "execution_count": 39,
     "metadata": {},
     "output_type": "execute_result"
    }
   ],
   "source": [
    "numbers = np.arange(10)\n",
    "numbers"
   ]
  },
  {
   "cell_type": "code",
   "execution_count": 40,
   "id": "f27a2114-f91e-4cee-88df-ec6c19d86b98",
   "metadata": {},
   "outputs": [
    {
     "data": {
      "text/plain": [
       "7"
      ]
     },
     "execution_count": 40,
     "metadata": {},
     "output_type": "execute_result"
    }
   ],
   "source": [
    "numbers[7]"
   ]
  },
  {
   "cell_type": "code",
   "execution_count": 41,
   "id": "433fa737-52c2-4b86-a410-9e175f14fbfe",
   "metadata": {},
   "outputs": [
    {
     "data": {
      "text/plain": [
       "array([5, 6, 7, 8, 9])"
      ]
     },
     "execution_count": 41,
     "metadata": {},
     "output_type": "execute_result"
    }
   ],
   "source": [
    "numbers[5:]"
   ]
  },
  {
   "cell_type": "code",
   "execution_count": 42,
   "id": "f74d72c9-8099-46fd-ac39-daac5c6fcad4",
   "metadata": {},
   "outputs": [
    {
     "data": {
      "text/plain": [
       "array([0, 2, 4, 6, 8])"
      ]
     },
     "execution_count": 42,
     "metadata": {},
     "output_type": "execute_result"
    }
   ],
   "source": [
    "numbers[::2]"
   ]
  },
  {
   "cell_type": "code",
   "execution_count": 43,
   "id": "f7e42500-35d8-4155-abb2-0720f31fee9e",
   "metadata": {},
   "outputs": [
    {
     "data": {
      "text/plain": [
       "array([0, 0, 0, 3, 4, 5, 6, 7, 8, 9])"
      ]
     },
     "execution_count": 43,
     "metadata": {},
     "output_type": "execute_result"
    }
   ],
   "source": [
    "numbers[0:3] = 0\n",
    "numbers"
   ]
  },
  {
   "cell_type": "code",
   "execution_count": 44,
   "id": "3cfa4752-e24d-4bf4-a9cf-3ed57fc5d904",
   "metadata": {},
   "outputs": [
    {
     "data": {
      "text/plain": [
       "array([[ 6, 32, 78],\n",
       "       [86,  5, 75],\n",
       "       [21,  4, 53]])"
      ]
     },
     "execution_count": 44,
     "metadata": {},
     "output_type": "execute_result"
    }
   ],
   "source": [
    "numbers2 = np.array([[6,32,78], [86,5,75], [21, 4, 53]])\n",
    "numbers2"
   ]
  },
  {
   "cell_type": "code",
   "execution_count": 45,
   "id": "1aef669a-73a5-409d-b482-4bea54191ef9",
   "metadata": {},
   "outputs": [
    {
     "data": {
      "text/plain": [
       "array([ 6, 32, 78])"
      ]
     },
     "execution_count": 45,
     "metadata": {},
     "output_type": "execute_result"
    }
   ],
   "source": [
    "numbers2[0]"
   ]
  },
  {
   "cell_type": "code",
   "execution_count": 46,
   "id": "d44aa97f-97b0-4653-a72d-f6c53033813d",
   "metadata": {},
   "outputs": [
    {
     "data": {
      "text/plain": [
       "78"
      ]
     },
     "execution_count": 46,
     "metadata": {},
     "output_type": "execute_result"
    }
   ],
   "source": [
    "numbers2[0, 2]"
   ]
  },
  {
   "cell_type": "code",
   "execution_count": 47,
   "id": "64686098-fde3-4752-a692-d60a0a6676fe",
   "metadata": {},
   "outputs": [
    {
     "data": {
      "text/plain": [
       "78"
      ]
     },
     "execution_count": 47,
     "metadata": {},
     "output_type": "execute_result"
    }
   ],
   "source": [
    "numbers2[0][2]"
   ]
  },
  {
   "cell_type": "code",
   "execution_count": 48,
   "id": "234a5897-4898-41e5-8d40-a8c89d180f11",
   "metadata": {},
   "outputs": [
    {
     "data": {
      "text/plain": [
       "array([[[6, 6, 4],\n",
       "        [3, 0, 0],\n",
       "        [1, 7, 0]],\n",
       "\n",
       "       [[6, 9, 6],\n",
       "        [8, 7, 3],\n",
       "        [3, 4, 7]],\n",
       "\n",
       "       [[3, 7, 1],\n",
       "        [7, 5, 4],\n",
       "        [4, 5, 4]]])"
      ]
     },
     "execution_count": 48,
     "metadata": {},
     "output_type": "execute_result"
    }
   ],
   "source": [
    "numbers3 = np.random.randint(10, size=(3,3,3))\n",
    "numbers3"
   ]
  },
  {
   "cell_type": "code",
   "execution_count": 49,
   "id": "925b3899-1404-415f-a4d9-a288301fb15a",
   "metadata": {},
   "outputs": [
    {
     "data": {
      "text/plain": [
       "7"
      ]
     },
     "execution_count": 49,
     "metadata": {},
     "output_type": "execute_result"
    }
   ],
   "source": [
    "numbers3[2, 0, 1]"
   ]
  },
  {
   "cell_type": "code",
   "execution_count": 50,
   "id": "250b7caf-557a-4596-aa9a-76b0d613a585",
   "metadata": {},
   "outputs": [
    {
     "data": {
      "text/plain": [
       "4"
      ]
     },
     "execution_count": 50,
     "metadata": {},
     "output_type": "execute_result"
    }
   ],
   "source": [
    "numbers3[0, 0, 2]"
   ]
  },
  {
   "cell_type": "code",
   "execution_count": 51,
   "id": "a344133b-6389-4beb-90ce-4d5b73057652",
   "metadata": {},
   "outputs": [
    {
     "data": {
      "text/plain": [
       "0"
      ]
     },
     "execution_count": 51,
     "metadata": {},
     "output_type": "execute_result"
    }
   ],
   "source": [
    "numbers3[0, 2, 2]"
   ]
  },
  {
   "cell_type": "code",
   "execution_count": 52,
   "id": "df146794-e0df-428d-94fb-962c538e30d6",
   "metadata": {},
   "outputs": [
    {
     "data": {
      "text/plain": [
       "array([6, 3, 7])"
      ]
     },
     "execution_count": 52,
     "metadata": {},
     "output_type": "execute_result"
    }
   ],
   "source": [
    "numbers3[1, :, 2]"
   ]
  },
  {
   "cell_type": "code",
   "execution_count": 53,
   "id": "5ac719c2-0f3a-4abf-9d31-cf45441e9da9",
   "metadata": {},
   "outputs": [
    {
     "data": {
      "text/plain": [
       "(3,)"
      ]
     },
     "execution_count": 53,
     "metadata": {},
     "output_type": "execute_result"
    }
   ],
   "source": [
    "numbers3[1, :, 2].shape"
   ]
  },
  {
   "cell_type": "code",
   "execution_count": 54,
   "id": "3bfa7f90-0ca8-4cca-ae5b-0f91b104cb03",
   "metadata": {},
   "outputs": [
    {
     "data": {
      "text/plain": [
       "1"
      ]
     },
     "execution_count": 54,
     "metadata": {},
     "output_type": "execute_result"
    }
   ],
   "source": [
    "numbers3[1, :, 2].ndim"
   ]
  },
  {
   "cell_type": "code",
   "execution_count": 55,
   "id": "28930197-07ef-4948-a7d0-65ef68e7d4da",
   "metadata": {},
   "outputs": [
    {
     "data": {
      "text/plain": [
       "array([[7],\n",
       "       [5],\n",
       "       [5]])"
      ]
     },
     "execution_count": 55,
     "metadata": {},
     "output_type": "execute_result"
    }
   ],
   "source": [
    "numbers3[2, :, 1:2]"
   ]
  },
  {
   "cell_type": "code",
   "execution_count": 56,
   "id": "9a33c760-790a-4be3-acba-08f9c2b4c7e3",
   "metadata": {},
   "outputs": [
    {
     "data": {
      "text/plain": [
       "(3, 1)"
      ]
     },
     "execution_count": 56,
     "metadata": {},
     "output_type": "execute_result"
    }
   ],
   "source": [
    "numbers3[2, :, 1:2].shape"
   ]
  },
  {
   "cell_type": "code",
   "execution_count": 57,
   "id": "9782297e-1bc6-4d74-956c-576f95180905",
   "metadata": {},
   "outputs": [
    {
     "data": {
      "text/plain": [
       "2"
      ]
     },
     "execution_count": 57,
     "metadata": {},
     "output_type": "execute_result"
    }
   ],
   "source": [
    "numbers3[2, :, 1:2].ndim"
   ]
  },
  {
   "cell_type": "markdown",
   "id": "54e93f61-da2e-4eb2-86c7-c33f1558ae5a",
   "metadata": {
    "jp-MarkdownHeadingCollapsed": true
   },
   "source": [
    "## Boolean Indexing"
   ]
  },
  {
   "cell_type": "code",
   "execution_count": 59,
   "id": "f26b89e7-00f0-42a0-ae4a-10ff3efbd93d",
   "metadata": {},
   "outputs": [],
   "source": [
    "names = np.array([\"Doğukan\", \"Atakan\", \"Hazal Asu\", \"Ekinsu\", \"Berke Kaan\", \"Ece Dilara\", \"Yavuzhan\", \"Muhammed Ali\", \"Doğukan\"])"
   ]
  },
  {
   "cell_type": "code",
   "execution_count": 60,
   "id": "000370cd-22cb-46f6-b605-85dd419c4899",
   "metadata": {},
   "outputs": [
    {
     "data": {
      "text/plain": [
       "array(['Doğukan', 'Atakan', 'Hazal Asu', 'Ekinsu', 'Berke Kaan',\n",
       "       'Ece Dilara', 'Yavuzhan', 'Muhammed Ali', 'Doğukan'], dtype='<U12')"
      ]
     },
     "execution_count": 60,
     "metadata": {},
     "output_type": "execute_result"
    }
   ],
   "source": [
    "names"
   ]
  },
  {
   "cell_type": "code",
   "execution_count": 61,
   "id": "8da8818d-9ad9-4a87-878d-de1e9857c9bf",
   "metadata": {},
   "outputs": [],
   "source": [
    "data = np.array([7,3,2,8,3,5,9,4,7])"
   ]
  },
  {
   "cell_type": "code",
   "execution_count": 62,
   "id": "be8eb495-6897-469e-892c-dc5b3bf3e153",
   "metadata": {},
   "outputs": [
    {
     "data": {
      "text/plain": [
       "array([7, 3, 2, 8, 3, 5, 9, 4, 7])"
      ]
     },
     "execution_count": 62,
     "metadata": {},
     "output_type": "execute_result"
    }
   ],
   "source": [
    "data"
   ]
  },
  {
   "cell_type": "code",
   "execution_count": 63,
   "id": "9d56dd5a-1060-4d4c-8fda-bdd3aab872ae",
   "metadata": {},
   "outputs": [
    {
     "data": {
      "text/plain": [
       "array([ True, False, False, False, False, False, False, False,  True])"
      ]
     },
     "execution_count": 63,
     "metadata": {},
     "output_type": "execute_result"
    }
   ],
   "source": [
    "names == \"Doğukan\""
   ]
  },
  {
   "cell_type": "code",
   "execution_count": 64,
   "id": "db5dba25-6b42-492e-bea3-25433cb9263d",
   "metadata": {},
   "outputs": [
    {
     "data": {
      "text/plain": [
       "array([7, 7])"
      ]
     },
     "execution_count": 64,
     "metadata": {},
     "output_type": "execute_result"
    }
   ],
   "source": [
    "data[names == \"Doğukan\"]"
   ]
  },
  {
   "cell_type": "code",
   "execution_count": 65,
   "id": "62d74903-e25b-41b5-8730-4048965dd891",
   "metadata": {},
   "outputs": [
    {
     "data": {
      "text/plain": [
       "7"
      ]
     },
     "execution_count": 65,
     "metadata": {},
     "output_type": "execute_result"
    }
   ],
   "source": [
    "data[names == \"Doğukan\"][0]"
   ]
  },
  {
   "cell_type": "code",
   "execution_count": 66,
   "id": "5f2eb9b0-2313-45e3-a52c-2bb543b85b6f",
   "metadata": {},
   "outputs": [
    {
     "data": {
      "text/plain": [
       "array([False,  True,  True,  True,  True,  True,  True,  True, False])"
      ]
     },
     "execution_count": 66,
     "metadata": {},
     "output_type": "execute_result"
    }
   ],
   "source": [
    "names != \"Doğukan\""
   ]
  },
  {
   "cell_type": "code",
   "execution_count": 67,
   "id": "67519399-6d2a-4fd6-861d-92a7316663fd",
   "metadata": {},
   "outputs": [
    {
     "data": {
      "text/plain": [
       "array([3, 2, 8, 3, 5, 9, 4])"
      ]
     },
     "execution_count": 67,
     "metadata": {},
     "output_type": "execute_result"
    }
   ],
   "source": [
    "data[names != \"Doğukan\"]"
   ]
  },
  {
   "cell_type": "code",
   "execution_count": 68,
   "id": "120b9897-40b4-4c77-831d-2123cad34201",
   "metadata": {},
   "outputs": [
    {
     "data": {
      "text/plain": [
       "array([7, 3, 2, 8, 3, 5, 9, 4, 7])"
      ]
     },
     "execution_count": 68,
     "metadata": {},
     "output_type": "execute_result"
    }
   ],
   "source": [
    "data"
   ]
  },
  {
   "cell_type": "code",
   "execution_count": 69,
   "id": "a247c1ed-be1b-4a24-9710-c4fa1ddb1e69",
   "metadata": {},
   "outputs": [],
   "source": [
    "data[data < 5] = 0"
   ]
  },
  {
   "cell_type": "code",
   "execution_count": 70,
   "id": "c11f7ae1-a0ee-457e-b097-3f97cd770f6f",
   "metadata": {},
   "outputs": [
    {
     "data": {
      "text/plain": [
       "array([7, 0, 0, 8, 0, 5, 9, 0, 7])"
      ]
     },
     "execution_count": 70,
     "metadata": {},
     "output_type": "execute_result"
    }
   ],
   "source": [
    "data"
   ]
  },
  {
   "cell_type": "code",
   "execution_count": 71,
   "id": "04e2b8c4-28d5-4a1b-a3b0-088e1bc27664",
   "metadata": {},
   "outputs": [
    {
     "data": {
      "text/plain": [
       "array([7, 7])"
      ]
     },
     "execution_count": 71,
     "metadata": {},
     "output_type": "execute_result"
    }
   ],
   "source": [
    "data[names == \"Doğukan\"]"
   ]
  },
  {
   "cell_type": "code",
   "execution_count": 72,
   "id": "d6b30548-02a9-4daa-b837-ac65f1cb1963",
   "metadata": {},
   "outputs": [],
   "source": [
    "data[names != \"Doğukan\"] = 13"
   ]
  },
  {
   "cell_type": "code",
   "execution_count": 73,
   "id": "c96e9564-3594-47c0-bfc5-e052bc44a461",
   "metadata": {},
   "outputs": [
    {
     "data": {
      "text/plain": [
       "array([ 7, 13, 13, 13, 13, 13, 13, 13,  7])"
      ]
     },
     "execution_count": 73,
     "metadata": {},
     "output_type": "execute_result"
    }
   ],
   "source": [
    "data"
   ]
  },
  {
   "cell_type": "markdown",
   "id": "f36f7d16-d098-49b3-9aab-e3e88236b085",
   "metadata": {
    "jp-MarkdownHeadingCollapsed": true
   },
   "source": [
    "## Fancy Indexing"
   ]
  },
  {
   "cell_type": "code",
   "execution_count": 75,
   "id": "64232afa-a252-41f5-b2dd-34c4733469f8",
   "metadata": {},
   "outputs": [],
   "source": [
    "# fancy indexing allows us to use an array of indices to access multiple array elements at once."
   ]
  },
  {
   "cell_type": "code",
   "execution_count": 76,
   "id": "9e76ccfa-6f77-44fc-a584-0ebfe07be116",
   "metadata": {},
   "outputs": [
    {
     "data": {
      "text/plain": [
       "array([85, 38, 44, 26, 99, 65, 60, 93, 22,  1])"
      ]
     },
     "execution_count": 76,
     "metadata": {},
     "output_type": "execute_result"
    }
   ],
   "source": [
    "array1 = np.random.randint(100, size=10)\n",
    "array1"
   ]
  },
  {
   "cell_type": "code",
   "execution_count": 77,
   "id": "3adc89ca-dbe6-48de-840d-90891990f950",
   "metadata": {},
   "outputs": [
    {
     "data": {
      "text/plain": [
       "array([93, 44,  1])"
      ]
     },
     "execution_count": 77,
     "metadata": {},
     "output_type": "execute_result"
    }
   ],
   "source": [
    "selected_elements = array1[[7, 2, 9]]\n",
    "selected_elements"
   ]
  },
  {
   "cell_type": "code",
   "execution_count": 78,
   "id": "66c10613-e843-45a8-ad45-eb386e4605a5",
   "metadata": {},
   "outputs": [],
   "source": [
    "# assigning new values using fancy indexing"
   ]
  },
  {
   "cell_type": "code",
   "execution_count": 79,
   "id": "d7b1a485-dd72-455d-bbc3-71eb9de579c5",
   "metadata": {},
   "outputs": [
    {
     "data": {
      "text/plain": [
       "array([85, 38, 44, 26, 99, 65, 60, 93, 22,  1])"
      ]
     },
     "execution_count": 79,
     "metadata": {},
     "output_type": "execute_result"
    }
   ],
   "source": [
    "array1"
   ]
  },
  {
   "cell_type": "code",
   "execution_count": 80,
   "id": "68268840-bf32-43b2-8e9b-636ac8bba658",
   "metadata": {},
   "outputs": [],
   "source": [
    "indices = [0, 1, 2]\n",
    "new_values = [7, 7, 7]"
   ]
  },
  {
   "cell_type": "code",
   "execution_count": 81,
   "id": "2b33936e-e85a-4196-a236-b075e57b85b0",
   "metadata": {
    "scrolled": true
   },
   "outputs": [
    {
     "data": {
      "text/plain": [
       "array([85, 38, 44])"
      ]
     },
     "execution_count": 81,
     "metadata": {},
     "output_type": "execute_result"
    }
   ],
   "source": [
    "array1[indices]"
   ]
  },
  {
   "cell_type": "code",
   "execution_count": 82,
   "id": "5a90185f-e0de-47bd-ae50-b5eb42a64129",
   "metadata": {},
   "outputs": [
    {
     "data": {
      "text/plain": [
       "array([ 7,  7,  7, 26, 99, 65, 60, 93, 22,  1])"
      ]
     },
     "execution_count": 82,
     "metadata": {},
     "output_type": "execute_result"
    }
   ],
   "source": [
    "array1[indices] = new_values\n",
    "array1"
   ]
  },
  {
   "cell_type": "code",
   "execution_count": 83,
   "id": "8dc2341d-14dd-4b44-99ba-2db1085057a8",
   "metadata": {},
   "outputs": [],
   "source": [
    "# using fancy indexing on multi-dimensional arrays"
   ]
  },
  {
   "cell_type": "code",
   "execution_count": 84,
   "id": "bea8d392-fef3-4773-8d34-d28c5ab19bf5",
   "metadata": {},
   "outputs": [
    {
     "data": {
      "text/plain": [
       "array([[68, 24, 79],\n",
       "       [74, 55, 63],\n",
       "       [13, 63, 65]])"
      ]
     },
     "execution_count": 84,
     "metadata": {},
     "output_type": "execute_result"
    }
   ],
   "source": [
    "array2 = np.random.randint(100, size=(3, 3))\n",
    "array2"
   ]
  },
  {
   "cell_type": "code",
   "execution_count": 85,
   "id": "dbe838e1-5394-4179-8d71-3093e0ec0490",
   "metadata": {},
   "outputs": [
    {
     "data": {
      "text/plain": [
       "array([0, 2])"
      ]
     },
     "execution_count": 85,
     "metadata": {},
     "output_type": "execute_result"
    }
   ],
   "source": [
    "row_indices = np.array([0,2])\n",
    "row_indices"
   ]
  },
  {
   "cell_type": "code",
   "execution_count": 86,
   "id": "42cf5734-c6b5-489c-9647-6684adc1b4d1",
   "metadata": {},
   "outputs": [
    {
     "data": {
      "text/plain": [
       "array([[68, 24, 79],\n",
       "       [13, 63, 65]])"
      ]
     },
     "execution_count": 86,
     "metadata": {},
     "output_type": "execute_result"
    }
   ],
   "source": [
    "selected_rows = array2[row_indices, :]\n",
    "selected_rows"
   ]
  },
  {
   "cell_type": "markdown",
   "id": "0970e8dc-7047-4b4a-89f9-f2b4566fbc14",
   "metadata": {
    "jp-MarkdownHeadingCollapsed": true
   },
   "source": [
    "## Transposing Arrays and Swapping Axes"
   ]
  },
  {
   "cell_type": "code",
   "execution_count": 88,
   "id": "fd520292-ecdd-4fd9-8a11-fe098108d876",
   "metadata": {},
   "outputs": [],
   "source": [
    "# Transposing is a special form of reshaping that similarly returns a view on the underlying data."
   ]
  },
  {
   "cell_type": "code",
   "execution_count": 89,
   "id": "634f4ff6-ba9b-409f-aa98-0b0230d9d209",
   "metadata": {},
   "outputs": [
    {
     "data": {
      "text/plain": [
       "array([[ 0,  1,  2,  3,  4],\n",
       "       [ 5,  6,  7,  8,  9],\n",
       "       [10, 11, 12, 13, 14]])"
      ]
     },
     "execution_count": 89,
     "metadata": {},
     "output_type": "execute_result"
    }
   ],
   "source": [
    "array3 = np.arange(15).reshape((3,5))\n",
    "array3"
   ]
  },
  {
   "cell_type": "code",
   "execution_count": 90,
   "id": "aec68038-4621-4745-8538-ffcdb7338c95",
   "metadata": {},
   "outputs": [
    {
     "data": {
      "text/plain": [
       "array([[ 0,  5, 10],\n",
       "       [ 1,  6, 11],\n",
       "       [ 2,  7, 12],\n",
       "       [ 3,  8, 13],\n",
       "       [ 4,  9, 14]])"
      ]
     },
     "execution_count": 90,
     "metadata": {},
     "output_type": "execute_result"
    }
   ],
   "source": [
    "array3.T"
   ]
  },
  {
   "cell_type": "markdown",
   "id": "2a6ed0d7-15cd-4839-a07b-a65f50a74807",
   "metadata": {
    "jp-MarkdownHeadingCollapsed": true
   },
   "source": [
    "## Universal Functions: Fast Element-Wise Array Functions (uFuncs)"
   ]
  },
  {
   "cell_type": "code",
   "execution_count": 92,
   "id": "5ddcdda6-abff-498e-a454-2ca7eb9b5cc7",
   "metadata": {},
   "outputs": [],
   "source": [
    "# They are functions that perform element-wise operations on data in ndarrays."
   ]
  },
  {
   "cell_type": "code",
   "execution_count": 93,
   "id": "11c74be6-48b0-46ce-892e-232b623cab35",
   "metadata": {},
   "outputs": [],
   "source": [
    "# some unary universal functions: abs, sqrt, square, exp, ceil, floor, isnan, etc."
   ]
  },
  {
   "cell_type": "code",
   "execution_count": 94,
   "id": "15d46f23-8249-489a-98c1-99cc974048bb",
   "metadata": {},
   "outputs": [
    {
     "data": {
      "text/plain": [
       "array([  0,  -5,   3, -12,   7])"
      ]
     },
     "execution_count": 94,
     "metadata": {},
     "output_type": "execute_result"
    }
   ],
   "source": [
    "myNumbers = np.array([0, -5, 3, -12, 7])\n",
    "myNumbers"
   ]
  },
  {
   "cell_type": "code",
   "execution_count": 189,
   "id": "381c3f0d-33c1-425c-9221-1f19f866bcbc",
   "metadata": {
    "scrolled": true
   },
   "outputs": [],
   "source": [
    "myNumbers = np.abs(myNumbers)"
   ]
  },
  {
   "cell_type": "code",
   "execution_count": 191,
   "id": "b316c524-ac4f-45b0-8b7d-0c36c2b0decf",
   "metadata": {},
   "outputs": [
    {
     "data": {
      "text/plain": [
       "array([0.        , 2.23606798, 1.73205081, 3.46410162, 2.64575131])"
      ]
     },
     "execution_count": 191,
     "metadata": {},
     "output_type": "execute_result"
    }
   ],
   "source": [
    "np.sqrt(myNumbers)"
   ]
  },
  {
   "cell_type": "code",
   "execution_count": 193,
   "id": "0ba7f992-a943-433e-8c65-442bf7e18964",
   "metadata": {},
   "outputs": [
    {
     "data": {
      "text/plain": [
       "array([  0,  25,   9, 144,  49])"
      ]
     },
     "execution_count": 193,
     "metadata": {},
     "output_type": "execute_result"
    }
   ],
   "source": [
    "np.square(myNumbers)"
   ]
  },
  {
   "cell_type": "code",
   "execution_count": 203,
   "id": "3086bbf3-2e80-408e-83c9-c9f28997296f",
   "metadata": {},
   "outputs": [],
   "source": [
    "# some binary universal functions: add, subtract, multiply, divide, floor_divide, maximum, minimum, greater, less, not_equal, etc."
   ]
  },
  {
   "cell_type": "code",
   "execution_count": 205,
   "id": "dc7548ad-2ccd-40d3-abe4-0fb97fd6a93c",
   "metadata": {},
   "outputs": [
    {
     "data": {
      "text/plain": [
       "array([ 5, 10,  8, 17, 12])"
      ]
     },
     "execution_count": 205,
     "metadata": {},
     "output_type": "execute_result"
    }
   ],
   "source": [
    "np.add(myNumbers, 5)"
   ]
  },
  {
   "cell_type": "code",
   "execution_count": null,
   "id": "7086dd1d-0a14-4e21-9065-472744ba4866",
   "metadata": {},
   "outputs": [],
   "source": []
  },
  {
   "cell_type": "code",
   "execution_count": 208,
   "id": "e99fe422-838e-4848-95e5-c63994bc4a6a",
   "metadata": {},
   "outputs": [
    {
     "data": {
      "text/plain": [
       "array([-2,  3,  1, 10,  5])"
      ]
     },
     "execution_count": 208,
     "metadata": {},
     "output_type": "execute_result"
    }
   ],
   "source": [
    "np.subtract(myNumbers, 2)"
   ]
  },
  {
   "cell_type": "code",
   "execution_count": 210,
   "id": "73284295-d02d-4185-9cc1-552fbbc3465d",
   "metadata": {},
   "outputs": [
    {
     "data": {
      "text/plain": [
       "array([  0,  50,  30, 120,  70])"
      ]
     },
     "execution_count": 210,
     "metadata": {},
     "output_type": "execute_result"
    }
   ],
   "source": [
    "np.multiply(myNumbers, 10)"
   ]
  },
  {
   "cell_type": "code",
   "execution_count": 220,
   "id": "01fb101c-9d85-4ed7-a13e-21218b5ee202",
   "metadata": {},
   "outputs": [
    {
     "data": {
      "text/plain": [
       "array([ 5,  5,  5, 12,  7])"
      ]
     },
     "execution_count": 220,
     "metadata": {},
     "output_type": "execute_result"
    }
   ],
   "source": [
    "np.maximum(myNumbers, 5)"
   ]
  },
  {
   "cell_type": "markdown",
   "id": "6f5da3bb-f9c1-4efb-9475-8ac0406d26ba",
   "metadata": {
    "jp-MarkdownHeadingCollapsed": true
   },
   "source": [
    "## Array-Oriented Programming with Arrays"
   ]
  },
  {
   "cell_type": "code",
   "execution_count": 223,
   "id": "f0127555-baba-48b9-85ec-7d3f29e73947",
   "metadata": {},
   "outputs": [],
   "source": [
    "# expressing conditional logic as array operations"
   ]
  },
  {
   "cell_type": "code",
   "execution_count": 225,
   "id": "db826973-c30f-4945-96ce-929117730021",
   "metadata": {},
   "outputs": [],
   "source": [
    "x_arr = np.array([1.1, 1.2, 1.3, 1.4, 1.5])\n",
    "y_arr = np.array([2.1, 2.2, 2.3, 2.4, 2.5])\n",
    "cond = np.array([True, False, True, True, False])"
   ]
  },
  {
   "cell_type": "code",
   "execution_count": 227,
   "id": "793b3ba2-ee44-4ee3-93e8-530511038dbf",
   "metadata": {},
   "outputs": [],
   "source": [
    "# suppose we wanted to take a value from x array whenever the corresponding value in cond is True, otherwise take the value from y array."
   ]
  },
  {
   "cell_type": "code",
   "execution_count": 229,
   "id": "716a3f36-90cb-4504-a0ce-7492c333e86c",
   "metadata": {},
   "outputs": [
    {
     "data": {
      "text/plain": [
       "array([1.1, 2.2, 1.3, 1.4, 2.5])"
      ]
     },
     "execution_count": 229,
     "metadata": {},
     "output_type": "execute_result"
    }
   ],
   "source": [
    "result = np.where(cond, x_arr, y_arr)\n",
    "result"
   ]
  },
  {
   "cell_type": "code",
   "execution_count": 231,
   "id": "0e2962b2-5687-477a-b538-389b9c036a2e",
   "metadata": {},
   "outputs": [],
   "source": [
    "# the second and third arguments to numpy.where do not need to be arrays; one of them or both of them can be scalars."
   ]
  },
  {
   "cell_type": "code",
   "execution_count": 233,
   "id": "f1d08448-f115-4d6f-bd7a-b2ddbda7f1f4",
   "metadata": {},
   "outputs": [],
   "source": [
    "# also, with numpy.where you can work with multidimensional arrays."
   ]
  },
  {
   "cell_type": "code",
   "execution_count": 235,
   "id": "6b4507f5-a934-4465-9536-f9f2b3796b06",
   "metadata": {},
   "outputs": [],
   "source": [
    "# a typical use of numpy.where in data analysis is to produce a new array of values based on another array. "
   ]
  },
  {
   "cell_type": "code",
   "execution_count": 237,
   "id": "8469249e-86d6-4a67-8495-2fd22e72c305",
   "metadata": {},
   "outputs": [],
   "source": [
    "# For example, suppose you had a matrix of randomly generated data and you wanted to replace all positive values with 2 and all negative values with -2."
   ]
  },
  {
   "cell_type": "code",
   "execution_count": 243,
   "id": "8edf4e2f-a27c-4ea3-9281-84fbb0647c43",
   "metadata": {},
   "outputs": [
    {
     "data": {
      "text/plain": [
       "array([[-1.49837303, -1.39476523, -0.22077452, -1.76861493],\n",
       "       [ 0.27760584,  0.33011752,  3.02358301,  0.61699754],\n",
       "       [ 1.02156149,  2.03697741,  1.50278909,  0.66975453],\n",
       "       [-0.01381532,  0.34769711,  0.36762448, -0.91734362]])"
      ]
     },
     "execution_count": 243,
     "metadata": {},
     "output_type": "execute_result"
    }
   ],
   "source": [
    "arr = np.random.standard_normal((4,4))\n",
    "arr"
   ]
  },
  {
   "cell_type": "code",
   "execution_count": 245,
   "id": "d13f741f-eee7-42d0-8ef8-2ab26cebf20f",
   "metadata": {},
   "outputs": [
    {
     "data": {
      "text/plain": [
       "array([[False, False, False, False],\n",
       "       [ True,  True,  True,  True],\n",
       "       [ True,  True,  True,  True],\n",
       "       [False,  True,  True, False]])"
      ]
     },
     "execution_count": 245,
     "metadata": {},
     "output_type": "execute_result"
    }
   ],
   "source": [
    "arr > 0"
   ]
  },
  {
   "cell_type": "code",
   "execution_count": 247,
   "id": "a80057c7-5e5b-4743-91d8-7774ce7dfe0f",
   "metadata": {
    "scrolled": true
   },
   "outputs": [
    {
     "data": {
      "text/plain": [
       "array([[-2, -2, -2, -2],\n",
       "       [ 2,  2,  2,  2],\n",
       "       [ 2,  2,  2,  2],\n",
       "       [-2,  2,  2, -2]])"
      ]
     },
     "execution_count": 247,
     "metadata": {},
     "output_type": "execute_result"
    }
   ],
   "source": [
    "np.where(arr > 0, 2, -2)"
   ]
  },
  {
   "cell_type": "code",
   "execution_count": 253,
   "id": "a485093f-2fc4-4550-ba88-ca1a1f2d4842",
   "metadata": {},
   "outputs": [],
   "source": [
    "# you can combine scalars and arrays when using numpy.where "
   ]
  },
  {
   "cell_type": "code",
   "execution_count": 255,
   "id": "64c38487-bc05-49d8-99f5-3a563f370038",
   "metadata": {},
   "outputs": [
    {
     "data": {
      "text/plain": [
       "array([[-1.49837303, -1.39476523, -0.22077452, -1.76861493],\n",
       "       [ 2.        ,  2.        ,  2.        ,  2.        ],\n",
       "       [ 2.        ,  2.        ,  2.        ,  2.        ],\n",
       "       [-0.01381532,  2.        ,  2.        , -0.91734362]])"
      ]
     },
     "execution_count": 255,
     "metadata": {},
     "output_type": "execute_result"
    }
   ],
   "source": [
    "np.where(arr > 0, 2, arr) # set only positive values to 2"
   ]
  },
  {
   "cell_type": "code",
   "execution_count": 257,
   "id": "61c698fc-4a57-45b2-b2c2-ce567e7ff6fc",
   "metadata": {},
   "outputs": [],
   "source": [
    "# mathematical and statistical methods"
   ]
  },
  {
   "cell_type": "code",
   "execution_count": 259,
   "id": "2a1fc2db-1740-4dcf-8f8a-0de750d4a16a",
   "metadata": {},
   "outputs": [
    {
     "data": {
      "text/plain": [
       "array([[-1.49837303, -1.39476523, -0.22077452, -1.76861493],\n",
       "       [ 0.27760584,  0.33011752,  3.02358301,  0.61699754],\n",
       "       [ 1.02156149,  2.03697741,  1.50278909,  0.66975453],\n",
       "       [-0.01381532,  0.34769711,  0.36762448, -0.91734362]])"
      ]
     },
     "execution_count": 259,
     "metadata": {},
     "output_type": "execute_result"
    }
   ],
   "source": [
    "arr"
   ]
  },
  {
   "cell_type": "code",
   "execution_count": 261,
   "id": "7765f5a3-8ea5-4ee8-acb2-959a8cc059b8",
   "metadata": {},
   "outputs": [
    {
     "data": {
      "text/plain": [
       "0.2738138358778457"
      ]
     },
     "execution_count": 261,
     "metadata": {},
     "output_type": "execute_result"
    }
   ],
   "source": [
    "arr.mean()"
   ]
  },
  {
   "cell_type": "code",
   "execution_count": 263,
   "id": "68a15151-c5ef-47ec-970c-8fa791cbf20f",
   "metadata": {},
   "outputs": [
    {
     "data": {
      "text/plain": [
       "0.2738138358778457"
      ]
     },
     "execution_count": 263,
     "metadata": {},
     "output_type": "execute_result"
    }
   ],
   "source": [
    "np.mean(arr)"
   ]
  },
  {
   "cell_type": "code",
   "execution_count": 265,
   "id": "5a713b73-dc7a-4b00-9220-4aed0cfc2363",
   "metadata": {},
   "outputs": [
    {
     "data": {
      "text/plain": [
       "4.381021374045531"
      ]
     },
     "execution_count": 265,
     "metadata": {},
     "output_type": "execute_result"
    }
   ],
   "source": [
    "arr.sum()"
   ]
  },
  {
   "cell_type": "code",
   "execution_count": 267,
   "id": "addc077c-61a9-4a93-a2db-21de698b8b83",
   "metadata": {},
   "outputs": [
    {
     "data": {
      "text/plain": [
       "4.381021374045531"
      ]
     },
     "execution_count": 267,
     "metadata": {},
     "output_type": "execute_result"
    }
   ],
   "source": [
    "np.sum(arr)"
   ]
  },
  {
   "cell_type": "code",
   "execution_count": 273,
   "id": "688f0045-b847-491b-9582-9f27b039600f",
   "metadata": {},
   "outputs": [
    {
     "data": {
      "text/plain": [
       "array([[1, 2, 3, 4],\n",
       "       [5, 6, 7, 8]])"
      ]
     },
     "execution_count": 273,
     "metadata": {},
     "output_type": "execute_result"
    }
   ],
   "source": [
    "arr2"
   ]
  },
  {
   "cell_type": "code",
   "execution_count": 275,
   "id": "d70425b7-e11e-4d68-a1ff-c02635f67c74",
   "metadata": {},
   "outputs": [
    {
     "data": {
      "text/plain": [
       "4.5"
      ]
     },
     "execution_count": 275,
     "metadata": {},
     "output_type": "execute_result"
    }
   ],
   "source": [
    "arr2.mean()"
   ]
  },
  {
   "cell_type": "code",
   "execution_count": 277,
   "id": "034d5b43-45aa-4e5a-8da4-b21df432e7fb",
   "metadata": {},
   "outputs": [
    {
     "data": {
      "text/plain": [
       "array([2.5, 6.5])"
      ]
     },
     "execution_count": 277,
     "metadata": {},
     "output_type": "execute_result"
    }
   ],
   "source": [
    "arr2.mean(axis=1)"
   ]
  },
  {
   "cell_type": "code",
   "execution_count": 279,
   "id": "f3eb271c-526c-4499-b1e9-10f5a96f7f95",
   "metadata": {},
   "outputs": [
    {
     "data": {
      "text/plain": [
       "array([3., 4., 5., 6.])"
      ]
     },
     "execution_count": 279,
     "metadata": {},
     "output_type": "execute_result"
    }
   ],
   "source": [
    "arr2.mean(axis=0)"
   ]
  },
  {
   "cell_type": "code",
   "execution_count": 281,
   "id": "54085f35-8a1c-4b99-95d5-8717d850198a",
   "metadata": {},
   "outputs": [
    {
     "data": {
      "text/plain": [
       "36"
      ]
     },
     "execution_count": 281,
     "metadata": {},
     "output_type": "execute_result"
    }
   ],
   "source": [
    "arr2.sum()"
   ]
  },
  {
   "cell_type": "code",
   "execution_count": 283,
   "id": "59aa1d41-902a-4467-8d99-08e3181400f4",
   "metadata": {},
   "outputs": [
    {
     "data": {
      "text/plain": [
       "array([10, 26])"
      ]
     },
     "execution_count": 283,
     "metadata": {},
     "output_type": "execute_result"
    }
   ],
   "source": [
    "arr2.sum(axis=1)"
   ]
  },
  {
   "cell_type": "code",
   "execution_count": 285,
   "id": "ff5e17a2-da96-4063-80ad-f770aa9d8fe1",
   "metadata": {},
   "outputs": [
    {
     "data": {
      "text/plain": [
       "array([ 6,  8, 10, 12])"
      ]
     },
     "execution_count": 285,
     "metadata": {},
     "output_type": "execute_result"
    }
   ],
   "source": [
    "arr2.sum(axis=0)"
   ]
  },
  {
   "cell_type": "code",
   "execution_count": 293,
   "id": "bcd238c4-4152-4724-b215-8404d5148ab7",
   "metadata": {},
   "outputs": [
    {
     "data": {
      "text/plain": [
       "array([0, 1, 2, 3, 4, 5, 6, 7, 8, 9])"
      ]
     },
     "execution_count": 293,
     "metadata": {},
     "output_type": "execute_result"
    }
   ],
   "source": [
    "arr5 = np.arange(10)\n",
    "arr5"
   ]
  },
  {
   "cell_type": "code",
   "execution_count": 295,
   "id": "3bb482eb-d0fa-4dff-82b1-14bd52723819",
   "metadata": {},
   "outputs": [
    {
     "data": {
      "text/plain": [
       "array([ 0,  1,  3,  6, 10, 15, 21, 28, 36, 45])"
      ]
     },
     "execution_count": 295,
     "metadata": {},
     "output_type": "execute_result"
    }
   ],
   "source": [
    "arr5.cumsum()"
   ]
  },
  {
   "cell_type": "code",
   "execution_count": 303,
   "id": "4cbf2edf-35ee-4396-a7d1-54607cc5fc03",
   "metadata": {},
   "outputs": [
    {
     "data": {
      "text/plain": [
       "array([[ 6,  9, 10],\n",
       "       [ 0,  0, 11],\n",
       "       [14,  2,  7]])"
      ]
     },
     "execution_count": 303,
     "metadata": {},
     "output_type": "execute_result"
    }
   ],
   "source": [
    "arr6 = np.random.randint(15, size=((3,3)))\n",
    "arr6"
   ]
  },
  {
   "cell_type": "code",
   "execution_count": 305,
   "id": "ed9a1c3f-eb28-45f6-a736-0a5a9e8c8151",
   "metadata": {},
   "outputs": [
    {
     "data": {
      "text/plain": [
       "array([[ 6,  9, 10],\n",
       "       [ 6,  9, 21],\n",
       "       [20, 11, 28]])"
      ]
     },
     "execution_count": 305,
     "metadata": {},
     "output_type": "execute_result"
    }
   ],
   "source": [
    "arr6.cumsum(axis=0)"
   ]
  },
  {
   "cell_type": "code",
   "execution_count": 307,
   "id": "fded61be-c74b-44ce-aabf-8dafe8e9cac5",
   "metadata": {},
   "outputs": [
    {
     "data": {
      "text/plain": [
       "array([[ 6, 15, 25],\n",
       "       [ 0,  0, 11],\n",
       "       [14, 16, 23]])"
      ]
     },
     "execution_count": 307,
     "metadata": {},
     "output_type": "execute_result"
    }
   ],
   "source": [
    "arr6.cumsum(axis=1)"
   ]
  },
  {
   "cell_type": "code",
   "execution_count": 309,
   "id": "07d574b0-2f13-419d-aeb0-ed89e1cfa348",
   "metadata": {},
   "outputs": [
    {
     "data": {
      "text/plain": [
       "array([6. , 7.5, 8. , 0. , 1. ])"
      ]
     },
     "execution_count": 309,
     "metadata": {},
     "output_type": "execute_result"
    }
   ],
   "source": [
    "arr1"
   ]
  },
  {
   "cell_type": "code",
   "execution_count": 311,
   "id": "dee42af7-2b4d-4a1f-90ac-1455ad745de4",
   "metadata": {},
   "outputs": [
    {
     "data": {
      "text/plain": [
       "22.5"
      ]
     },
     "execution_count": 311,
     "metadata": {},
     "output_type": "execute_result"
    }
   ],
   "source": [
    "arr1.sum()"
   ]
  },
  {
   "cell_type": "code",
   "execution_count": 313,
   "id": "f1d0fd33-5ec1-4f3e-9e85-d5ccee76a8f8",
   "metadata": {},
   "outputs": [
    {
     "data": {
      "text/plain": [
       "0.0"
      ]
     },
     "execution_count": 313,
     "metadata": {},
     "output_type": "execute_result"
    }
   ],
   "source": [
    "arr1.min()"
   ]
  },
  {
   "cell_type": "code",
   "execution_count": 315,
   "id": "537a1b72-9423-434f-824c-22e59af858d2",
   "metadata": {},
   "outputs": [
    {
     "data": {
      "text/plain": [
       "8.0"
      ]
     },
     "execution_count": 315,
     "metadata": {},
     "output_type": "execute_result"
    }
   ],
   "source": [
    "arr1.max()"
   ]
  },
  {
   "cell_type": "code",
   "execution_count": 317,
   "id": "26319102-970d-4292-8f15-0bd1b221ab6d",
   "metadata": {},
   "outputs": [
    {
     "data": {
      "text/plain": [
       "8.0"
      ]
     },
     "execution_count": 317,
     "metadata": {},
     "output_type": "execute_result"
    }
   ],
   "source": [
    "np.max(arr1)"
   ]
  },
  {
   "cell_type": "code",
   "execution_count": 319,
   "id": "954e0389-2f5f-4c2e-96f7-f54db71da4f8",
   "metadata": {},
   "outputs": [
    {
     "data": {
      "text/plain": [
       "3.3466401061363023"
      ]
     },
     "execution_count": 319,
     "metadata": {},
     "output_type": "execute_result"
    }
   ],
   "source": [
    "np.std(arr1)"
   ]
  },
  {
   "cell_type": "code",
   "execution_count": 321,
   "id": "6a0aca7e-d127-4258-b278-0e0d5e55219e",
   "metadata": {},
   "outputs": [
    {
     "data": {
      "text/plain": [
       "11.2"
      ]
     },
     "execution_count": 321,
     "metadata": {},
     "output_type": "execute_result"
    }
   ],
   "source": [
    "np.var(arr1)"
   ]
  },
  {
   "cell_type": "code",
   "execution_count": 323,
   "id": "1e3730cb-90d8-4c3a-910f-dd7daf699cfc",
   "metadata": {},
   "outputs": [],
   "source": [
    "# methods for boolean arrays"
   ]
  },
  {
   "cell_type": "code",
   "execution_count": 325,
   "id": "98ea00db-084a-4624-a722-0c17d96638a1",
   "metadata": {},
   "outputs": [],
   "source": [
    "# using sum method as a means of counting True values in a Boolean array."
   ]
  },
  {
   "cell_type": "code",
   "execution_count": 327,
   "id": "a0c7576d-2c8d-4f4b-893c-3ac041158335",
   "metadata": {},
   "outputs": [
    {
     "data": {
      "text/plain": [
       "array([ 1.31395985e-01, -9.64221352e-01,  6.36507800e-01, -1.59410262e-01,\n",
       "       -1.01432026e+00,  2.28540583e-01, -8.24119277e-01,  1.61221810e+00,\n",
       "       -3.58549221e-01,  3.83703885e-01,  2.72730142e-04,  7.13979781e-01,\n",
       "        9.34934473e-01, -6.58611914e-01,  1.89944613e-01, -2.10162093e+00,\n",
       "        1.20623984e+00, -1.07801499e+00, -5.69399746e-01,  7.85667719e-01,\n",
       "       -2.56756575e-01,  8.89799073e-01,  1.09259635e+00, -7.11835728e-01,\n",
       "       -1.08576125e+00,  8.53750574e-01, -6.35786999e-01,  9.59850144e-01,\n",
       "        9.32268232e-01,  3.10088405e-01,  1.42387239e+00, -2.07087338e-01,\n",
       "        8.74166772e-01,  9.23278442e-01,  1.23885374e+00, -8.61981310e-01,\n",
       "        1.55902382e+00, -5.38877096e-01, -8.42741547e-01,  1.48120936e+00,\n",
       "        1.22003824e+00, -1.86861736e-01, -1.94035669e+00, -6.87456585e-01,\n",
       "       -1.31961375e+00,  2.93869185e-02,  4.81375713e-01,  3.30783494e-01,\n",
       "       -2.37344344e-01, -7.65962600e-01,  9.16302224e-01, -2.99988460e-01,\n",
       "       -9.68123129e-02, -6.30196413e-01,  1.72722015e+00,  5.31076225e-01,\n",
       "        1.76322795e+00,  6.61750871e-01,  1.76304149e-01,  8.84633949e-01,\n",
       "        3.05973974e-01,  7.81385053e-01, -4.67523225e-01, -2.09040901e+00,\n",
       "        5.46606399e-01,  9.55922405e-01, -1.38544523e+00, -2.64356051e-01,\n",
       "       -7.49732875e-01, -2.46146900e-01,  1.91362332e+00,  2.21370202e+00,\n",
       "        9.92041059e-01,  5.20054585e-01, -1.64322558e-01, -5.47411469e-01,\n",
       "        1.53222803e+00,  1.12378378e+00, -3.60021628e-01,  1.17847042e-01,\n",
       "       -1.34896276e-01,  5.73073893e-02, -1.46547013e-01, -1.78722432e+00,\n",
       "        5.25988803e-01,  2.61058322e-01, -7.61875795e-03, -1.11344686e-01,\n",
       "        2.01083939e-02,  5.06540258e-01, -1.23553924e+00, -2.47946905e+00,\n",
       "       -1.82960351e+00, -1.48372458e+00, -3.17700590e-01, -5.07667068e-01,\n",
       "        1.99219592e+00, -4.25286259e-02, -6.89607345e-01,  1.14718610e+00])"
      ]
     },
     "execution_count": 327,
     "metadata": {},
     "output_type": "execute_result"
    }
   ],
   "source": [
    "arr7 = np.random.standard_normal(100)\n",
    "arr7"
   ]
  },
  {
   "cell_type": "code",
   "execution_count": 331,
   "id": "3e3a24b8-469c-4b54-b526-47c35352f7b3",
   "metadata": {},
   "outputs": [
    {
     "data": {
      "text/plain": [
       "52"
      ]
     },
     "execution_count": 331,
     "metadata": {},
     "output_type": "execute_result"
    }
   ],
   "source": [
    "(arr7 > 0).sum() # number of positive values"
   ]
  },
  {
   "cell_type": "code",
   "execution_count": 333,
   "id": "56456991-1f79-4636-9997-f430b2722a2c",
   "metadata": {},
   "outputs": [
    {
     "data": {
      "text/plain": [
       "48"
      ]
     },
     "execution_count": 333,
     "metadata": {},
     "output_type": "execute_result"
    }
   ],
   "source": [
    "(arr7 < 0).sum() # number of non-positive values"
   ]
  },
  {
   "cell_type": "code",
   "execution_count": 339,
   "id": "97371258-37c7-4960-8db0-0715b74602c2",
   "metadata": {},
   "outputs": [],
   "source": [
    "# any: checks whether one or more values in an array is True"
   ]
  },
  {
   "cell_type": "code",
   "execution_count": 341,
   "id": "d2c17370-61f8-4bb9-98e1-2d10e9aa1932",
   "metadata": {},
   "outputs": [
    {
     "data": {
      "text/plain": [
       "True"
      ]
     },
     "execution_count": 341,
     "metadata": {},
     "output_type": "execute_result"
    }
   ],
   "source": [
    "bools = np.array([False, False, True, False])\n",
    "bools.any()"
   ]
  },
  {
   "cell_type": "code",
   "execution_count": 343,
   "id": "bb88e017-9ad3-4118-aebe-6ebad7b7ca59",
   "metadata": {},
   "outputs": [],
   "source": [
    "# all: checks if every value is True"
   ]
  },
  {
   "cell_type": "code",
   "execution_count": 345,
   "id": "a680b15b-eb0c-4a76-bfa1-44785fd33831",
   "metadata": {},
   "outputs": [
    {
     "data": {
      "text/plain": [
       "False"
      ]
     },
     "execution_count": 345,
     "metadata": {},
     "output_type": "execute_result"
    }
   ],
   "source": [
    "bools.all()"
   ]
  },
  {
   "cell_type": "code",
   "execution_count": 347,
   "id": "abb5b1d9-9dea-4d83-8f27-db8109b3ea36",
   "metadata": {},
   "outputs": [],
   "source": [
    "# These two methods above also work with non-Boolean arrays, where nonzero elements are treated as True."
   ]
  },
  {
   "cell_type": "markdown",
   "id": "f6f12574-8fab-41cb-abee-fa58581ce348",
   "metadata": {
    "jp-MarkdownHeadingCollapsed": true
   },
   "source": [
    "## Sorting"
   ]
  },
  {
   "cell_type": "code",
   "execution_count": 370,
   "id": "8b25cff7-fe1c-4cf9-ba4e-4e0bb66f8d9d",
   "metadata": {},
   "outputs": [
    {
     "data": {
      "text/plain": [
       "array([98, 58, 97, 85, 14, 10, 92, 20, 50, 66])"
      ]
     },
     "execution_count": 370,
     "metadata": {},
     "output_type": "execute_result"
    }
   ],
   "source": [
    "arr8 = np.random.randint(100, size=10)\n",
    "arr8"
   ]
  },
  {
   "cell_type": "code",
   "execution_count": 374,
   "id": "94b38ca6-76b3-4bfd-a078-8c16210f3ecf",
   "metadata": {},
   "outputs": [
    {
     "data": {
      "text/plain": [
       "array([10, 14, 20, 50, 58, 66, 85, 92, 97, 98])"
      ]
     },
     "execution_count": 374,
     "metadata": {},
     "output_type": "execute_result"
    }
   ],
   "source": [
    "arr8.sort()\n",
    "arr8"
   ]
  },
  {
   "cell_type": "code",
   "execution_count": 382,
   "id": "aac11673-05f9-421e-9aca-8a05f5e296a4",
   "metadata": {},
   "outputs": [
    {
     "data": {
      "text/plain": [
       "array([[ 5, 68, 29],\n",
       "       [43, 91, 24],\n",
       "       [12, 33, 12],\n",
       "       [58, 90, 66],\n",
       "       [ 5, 58, 39]])"
      ]
     },
     "execution_count": 382,
     "metadata": {},
     "output_type": "execute_result"
    }
   ],
   "source": [
    "arr9 = np.random.randint(100, size=((5,3)))\n",
    "arr9"
   ]
  },
  {
   "cell_type": "code",
   "execution_count": 384,
   "id": "7f1e62f2-a9d7-4a4d-91a4-1aab1a22f163",
   "metadata": {},
   "outputs": [
    {
     "data": {
      "text/plain": [
       "array([[ 5, 33, 12],\n",
       "       [ 5, 58, 24],\n",
       "       [12, 68, 29],\n",
       "       [43, 90, 39],\n",
       "       [58, 91, 66]])"
      ]
     },
     "execution_count": 384,
     "metadata": {},
     "output_type": "execute_result"
    }
   ],
   "source": [
    "arr9.sort(axis=0)\n",
    "arr9"
   ]
  },
  {
   "cell_type": "code",
   "execution_count": 386,
   "id": "8ddef0b3-3c81-4429-812c-b6a356a52f5d",
   "metadata": {},
   "outputs": [
    {
     "data": {
      "text/plain": [
       "array([[ 5, 12, 33],\n",
       "       [ 5, 24, 58],\n",
       "       [12, 29, 68],\n",
       "       [39, 43, 90],\n",
       "       [58, 66, 91]])"
      ]
     },
     "execution_count": 386,
     "metadata": {},
     "output_type": "execute_result"
    }
   ],
   "source": [
    "arr9.sort(axis=1)\n",
    "arr9"
   ]
  },
  {
   "cell_type": "code",
   "execution_count": 388,
   "id": "2e767778-ae54-4590-b859-d2e4b405e9c8",
   "metadata": {},
   "outputs": [
    {
     "data": {
      "text/plain": [
       "array([  5, -10,   7,   1,  -3])"
      ]
     },
     "execution_count": 388,
     "metadata": {},
     "output_type": "execute_result"
    }
   ],
   "source": [
    "arr10  = np.array([5, -10, 7, 1, 0 -3])\n",
    "arr10"
   ]
  },
  {
   "cell_type": "code",
   "execution_count": 396,
   "id": "864963c7-3ca6-47c7-8b3f-b5dea8ffae5d",
   "metadata": {},
   "outputs": [
    {
     "data": {
      "text/plain": [
       "array([-10,  -3,   1,   5,   7])"
      ]
     },
     "execution_count": 396,
     "metadata": {},
     "output_type": "execute_result"
    }
   ],
   "source": [
    "np.sort(arr10) # returns a sorted copy of an array instead of modifying the array in place."
   ]
  },
  {
   "cell_type": "code",
   "execution_count": 398,
   "id": "0d99fe1c-8d3c-44da-b465-fc81537ca185",
   "metadata": {},
   "outputs": [
    {
     "data": {
      "text/plain": [
       "array([  5, -10,   7,   1,  -3])"
      ]
     },
     "execution_count": 398,
     "metadata": {},
     "output_type": "execute_result"
    }
   ],
   "source": [
    "arr10"
   ]
  },
  {
   "cell_type": "code",
   "execution_count": null,
   "id": "9064774b-7c73-42d9-b043-f16bcc8cd840",
   "metadata": {},
   "outputs": [],
   "source": []
  }
 ],
 "metadata": {
  "kernelspec": {
   "display_name": "Python [conda env:base] *",
   "language": "python",
   "name": "conda-base-py"
  },
  "language_info": {
   "codemirror_mode": {
    "name": "ipython",
    "version": 3
   },
   "file_extension": ".py",
   "mimetype": "text/x-python",
   "name": "python",
   "nbconvert_exporter": "python",
   "pygments_lexer": "ipython3",
   "version": "3.12.7"
  }
 },
 "nbformat": 4,
 "nbformat_minor": 5
}
