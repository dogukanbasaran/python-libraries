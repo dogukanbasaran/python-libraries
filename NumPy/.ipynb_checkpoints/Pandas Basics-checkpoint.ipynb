{
 "cells": [
  {
   "cell_type": "code",
   "execution_count": 1,
   "id": "e5f6ed13-29b2-4dd8-a748-dce606b4dae1",
   "metadata": {},
   "outputs": [],
   "source": [
    "import numpy as np\n",
    "import pandas as pd"
   ]
  },
  {
   "cell_type": "markdown",
   "id": "57132678-8249-4552-ad0b-75ec195752dd",
   "metadata": {
    "jp-MarkdownHeadingCollapsed": true
   },
   "source": [
    "## Data Structures in Pandas"
   ]
  },
  {
   "cell_type": "markdown",
   "id": "ba47ed61-01dc-4f83-9512-339ccb92e420",
   "metadata": {},
   "source": [
    "### Series "
   ]
  },
  {
   "cell_type": "code",
   "execution_count": 4,
   "id": "d4129527-7c22-46a4-b399-fbc44396d06f",
   "metadata": {},
   "outputs": [
    {
     "data": {
      "text/plain": [
       "0    4\n",
       "1    7\n",
       "2   -5\n",
       "3    3\n",
       "dtype: int64"
      ]
     },
     "execution_count": 4,
     "metadata": {},
     "output_type": "execute_result"
    }
   ],
   "source": [
    "obj = pd.Series([4, 7, -5, 3])\n",
    "obj"
   ]
  },
  {
   "cell_type": "code",
   "execution_count": 5,
   "id": "7dc1d292-5c06-4d70-9d8b-8528e603b1c6",
   "metadata": {},
   "outputs": [
    {
     "data": {
      "text/plain": [
       "<NumpyExtensionArray>\n",
       "[4, 7, -5, 3]\n",
       "Length: 4, dtype: int64"
      ]
     },
     "execution_count": 5,
     "metadata": {},
     "output_type": "execute_result"
    }
   ],
   "source": [
    "obj.array"
   ]
  },
  {
   "cell_type": "code",
   "execution_count": 6,
   "id": "13d98a3d-1057-4cb0-909e-f8055ed757ab",
   "metadata": {},
   "outputs": [
    {
     "data": {
      "text/plain": [
       "RangeIndex(start=0, stop=4, step=1)"
      ]
     },
     "execution_count": 6,
     "metadata": {},
     "output_type": "execute_result"
    }
   ],
   "source": [
    "obj.index"
   ]
  },
  {
   "cell_type": "code",
   "execution_count": 7,
   "id": "bd595a97-153f-4e39-bc54-c4b88a4d58c6",
   "metadata": {},
   "outputs": [
    {
     "data": {
      "text/plain": [
       "d    4\n",
       "b    7\n",
       "a   -5\n",
       "c    3\n",
       "dtype: int64"
      ]
     },
     "execution_count": 7,
     "metadata": {},
     "output_type": "execute_result"
    }
   ],
   "source": [
    "obj2 = pd.Series([4, 7, -5, 3], index=[\"d\",\"b\",\"a\",\"c\"])\n",
    "obj2"
   ]
  },
  {
   "cell_type": "code",
   "execution_count": 8,
   "id": "fbec68ec-b086-4dda-9461-95f1a09283dd",
   "metadata": {},
   "outputs": [
    {
     "data": {
      "text/plain": [
       "Index(['d', 'b', 'a', 'c'], dtype='object')"
      ]
     },
     "execution_count": 8,
     "metadata": {},
     "output_type": "execute_result"
    }
   ],
   "source": [
    "obj2.index"
   ]
  },
  {
   "cell_type": "code",
   "execution_count": 9,
   "id": "7d7a658a-57cb-4c9c-ad38-6cbc9ae3045a",
   "metadata": {},
   "outputs": [
    {
     "data": {
      "text/plain": [
       "4"
      ]
     },
     "execution_count": 9,
     "metadata": {},
     "output_type": "execute_result"
    }
   ],
   "source": [
    "obj2[\"d\"]"
   ]
  },
  {
   "cell_type": "code",
   "execution_count": 10,
   "id": "2375cad6-9dd3-4085-b274-ceb48f5563b6",
   "metadata": {},
   "outputs": [
    {
     "data": {
      "text/plain": [
       "d    4\n",
       "a   -5\n",
       "dtype: int64"
      ]
     },
     "execution_count": 10,
     "metadata": {},
     "output_type": "execute_result"
    }
   ],
   "source": [
    "obj2[[\"d\",\"a\"]]"
   ]
  },
  {
   "cell_type": "code",
   "execution_count": 11,
   "id": "97d61f2b-ecbe-41e0-be4a-be90ea22e691",
   "metadata": {},
   "outputs": [
    {
     "data": {
      "text/plain": [
       "d    7\n",
       "b    7\n",
       "a    7\n",
       "c    7\n",
       "dtype: int64"
      ]
     },
     "execution_count": 11,
     "metadata": {},
     "output_type": "execute_result"
    }
   ],
   "source": [
    "obj2[:] = 7\n",
    "obj2"
   ]
  },
  {
   "cell_type": "code",
   "execution_count": 12,
   "id": "4ee8948d-9cd0-48ba-a243-15fc161547e7",
   "metadata": {},
   "outputs": [
    {
     "data": {
      "text/plain": [
       "0    0\n",
       "1    7\n",
       "2    3\n",
       "3    1\n",
       "dtype: int32"
      ]
     },
     "execution_count": 12,
     "metadata": {},
     "output_type": "execute_result"
    }
   ],
   "source": [
    "obj2 = pd.Series(np.random.randint(10, size=4))\n",
    "obj2"
   ]
  },
  {
   "cell_type": "code",
   "execution_count": 13,
   "id": "95823a9a-5187-4051-b8bb-3bf4407577ae",
   "metadata": {},
   "outputs": [
    {
     "data": {
      "text/plain": [
       "1    7\n",
       "dtype: int32"
      ]
     },
     "execution_count": 13,
     "metadata": {},
     "output_type": "execute_result"
    }
   ],
   "source": [
    "obj2[obj2 > 3]"
   ]
  },
  {
   "cell_type": "code",
   "execution_count": 14,
   "id": "b6e7c437-7411-4fc3-b168-7fcf48426bc2",
   "metadata": {},
   "outputs": [
    {
     "data": {
      "text/plain": [
       "0     0\n",
       "1    49\n",
       "2     9\n",
       "3     1\n",
       "dtype: int32"
      ]
     },
     "execution_count": 14,
     "metadata": {},
     "output_type": "execute_result"
    }
   ],
   "source": [
    "obj2 * obj2"
   ]
  },
  {
   "cell_type": "code",
   "execution_count": 15,
   "id": "0c2c9545-f85d-4b06-9d62-8a36fd03345f",
   "metadata": {},
   "outputs": [
    {
     "data": {
      "text/plain": [
       "0     0\n",
       "1    14\n",
       "2     6\n",
       "3     2\n",
       "dtype: int32"
      ]
     },
     "execution_count": 15,
     "metadata": {},
     "output_type": "execute_result"
    }
   ],
   "source": [
    "obj2 + obj2"
   ]
  },
  {
   "cell_type": "code",
   "execution_count": 16,
   "id": "cac92b51-3450-4cb4-9e42-29c20a6382d0",
   "metadata": {},
   "outputs": [
    {
     "data": {
      "text/plain": [
       "0    0\n",
       "1    0\n",
       "2    0\n",
       "3    0\n",
       "dtype: int32"
      ]
     },
     "execution_count": 16,
     "metadata": {},
     "output_type": "execute_result"
    }
   ],
   "source": [
    "obj2 - obj2"
   ]
  },
  {
   "cell_type": "code",
   "execution_count": 17,
   "id": "4f5d5d92-677f-4bfe-a05c-b9760f7c5de7",
   "metadata": {},
   "outputs": [
    {
     "data": {
      "text/plain": [
       "0       1.000000\n",
       "1    1096.633158\n",
       "2      20.085537\n",
       "3       2.718282\n",
       "dtype: float64"
      ]
     },
     "execution_count": 17,
     "metadata": {},
     "output_type": "execute_result"
    }
   ],
   "source": [
    "np.exp(obj2)"
   ]
  },
  {
   "cell_type": "code",
   "execution_count": 18,
   "id": "4bcce9e2-8467-45d5-8f93-78a7dd059180",
   "metadata": {},
   "outputs": [
    {
     "data": {
      "text/plain": [
       "2.75"
      ]
     },
     "execution_count": 18,
     "metadata": {},
     "output_type": "execute_result"
    }
   ],
   "source": [
    "np.mean(obj2)"
   ]
  },
  {
   "cell_type": "code",
   "execution_count": 19,
   "id": "6be8b58e-1fc9-4a63-b9e3-f60b49f4ec1e",
   "metadata": {},
   "outputs": [
    {
     "data": {
      "text/plain": [
       "a     7\n",
       "b    13\n",
       "c     0\n",
       "d     4\n",
       "dtype: int64"
      ]
     },
     "execution_count": 19,
     "metadata": {},
     "output_type": "execute_result"
    }
   ],
   "source": [
    "obj3 = pd.Series([7,13,0,4], index=[\"a\",\"b\",\"c\",\"d\"])\n",
    "obj3"
   ]
  },
  {
   "cell_type": "code",
   "execution_count": 20,
   "id": "e9d563fb-30f8-4c46-98af-f76ffbd94205",
   "metadata": {},
   "outputs": [
    {
     "data": {
      "text/plain": [
       "True"
      ]
     },
     "execution_count": 20,
     "metadata": {},
     "output_type": "execute_result"
    }
   ],
   "source": [
    "\"d\" in obj3"
   ]
  },
  {
   "cell_type": "code",
   "execution_count": 21,
   "id": "0b728a04-52f6-4c9f-ab9c-95c65bd2fe31",
   "metadata": {},
   "outputs": [
    {
     "data": {
      "text/plain": [
       "False"
      ]
     },
     "execution_count": 21,
     "metadata": {},
     "output_type": "execute_result"
    }
   ],
   "source": [
    "\"e\" in obj3"
   ]
  },
  {
   "cell_type": "code",
   "execution_count": 22,
   "id": "71c22814-870f-4478-a693-195ea376a677",
   "metadata": {},
   "outputs": [
    {
     "data": {
      "text/plain": [
       "İstanbul    19000000\n",
       "Amasya        500000\n",
       "Giresun       450000\n",
       "dtype: int64"
      ]
     },
     "execution_count": 22,
     "metadata": {},
     "output_type": "execute_result"
    }
   ],
   "source": [
    "sdata = {\"İstanbul\": 19000000, \"Amasya\": 500000, \"Giresun\": 450000} # series from a dictionary\n",
    "obj4 = pd.Series(sdata)\n",
    "obj4"
   ]
  },
  {
   "cell_type": "code",
   "execution_count": 23,
   "id": "17369337-01e6-41a8-8e03-6aeec48c57ee",
   "metadata": {},
   "outputs": [
    {
     "data": {
      "text/plain": [
       "{'İstanbul': 19000000, 'Amasya': 500000, 'Giresun': 450000}"
      ]
     },
     "execution_count": 23,
     "metadata": {},
     "output_type": "execute_result"
    }
   ],
   "source": [
    "obj4.to_dict() # converting a series back to a dictionary"
   ]
  },
  {
   "cell_type": "code",
   "execution_count": 24,
   "id": "9283e838-37d5-45ad-8852-c0ee101891dc",
   "metadata": {},
   "outputs": [
    {
     "data": {
      "text/plain": [
       "Amasya        500000.0\n",
       "Giresun       450000.0\n",
       "İstanbul    19000000.0\n",
       "Krakow             NaN\n",
       "dtype: float64"
      ]
     },
     "execution_count": 24,
     "metadata": {},
     "output_type": "execute_result"
    }
   ],
   "source": [
    "indexes = [\"Amasya\", \"Giresun\", \"İstanbul\", \"Krakow\"] # overriding the order of the series\n",
    "obj4 = pd.Series(sdata, index=indexes)\n",
    "obj4"
   ]
  },
  {
   "cell_type": "code",
   "execution_count": 25,
   "id": "f238b8eb-7bff-40a6-9a0a-99b70b1f2732",
   "metadata": {},
   "outputs": [],
   "source": [
    "# isna and notna can be used for detecting missing data"
   ]
  },
  {
   "cell_type": "code",
   "execution_count": 26,
   "id": "9bdb30a0-1d48-440f-93dc-006f36fbeb55",
   "metadata": {},
   "outputs": [
    {
     "data": {
      "text/plain": [
       "Amasya      False\n",
       "Giresun     False\n",
       "İstanbul    False\n",
       "Krakow       True\n",
       "dtype: bool"
      ]
     },
     "execution_count": 26,
     "metadata": {},
     "output_type": "execute_result"
    }
   ],
   "source": [
    "pd.isna(obj4) "
   ]
  },
  {
   "cell_type": "code",
   "execution_count": 27,
   "id": "b0313114-b36f-4a53-a2d5-3c35cf1c080d",
   "metadata": {},
   "outputs": [
    {
     "data": {
      "text/plain": [
       "Amasya       True\n",
       "Giresun      True\n",
       "İstanbul     True\n",
       "Krakow      False\n",
       "dtype: bool"
      ]
     },
     "execution_count": 27,
     "metadata": {},
     "output_type": "execute_result"
    }
   ],
   "source": [
    "pd.notna(obj4)"
   ]
  },
  {
   "cell_type": "code",
   "execution_count": 28,
   "id": "5cbe9a77-2e5d-4a8f-87e0-55716d7434cc",
   "metadata": {},
   "outputs": [
    {
     "data": {
      "text/plain": [
       "Amasya      False\n",
       "Giresun     False\n",
       "İstanbul    False\n",
       "Krakow       True\n",
       "dtype: bool"
      ]
     },
     "execution_count": 28,
     "metadata": {},
     "output_type": "execute_result"
    }
   ],
   "source": [
    "obj4.isna() # also this is an instance method used for same purpose like pd.isna"
   ]
  },
  {
   "cell_type": "code",
   "execution_count": 29,
   "id": "33c587c3-310d-4341-90b6-4cb8ce4af6b5",
   "metadata": {},
   "outputs": [
    {
     "data": {
      "text/plain": [
       "Amasya        500000.0\n",
       "Giresun       450000.0\n",
       "İstanbul    19000000.0\n",
       "Krakow             NaN\n",
       "dtype: float64"
      ]
     },
     "execution_count": 29,
     "metadata": {},
     "output_type": "execute_result"
    }
   ],
   "source": [
    "obj4"
   ]
  },
  {
   "cell_type": "code",
   "execution_count": 30,
   "id": "6df5fbde-9fe5-4551-ad12-03334052f972",
   "metadata": {},
   "outputs": [
    {
     "data": {
      "text/plain": [
       "İstanbul    19000000\n",
       "Amasya        500000\n",
       "Giresun       450000\n",
       "dtype: int64"
      ]
     },
     "execution_count": 30,
     "metadata": {},
     "output_type": "execute_result"
    }
   ],
   "source": [
    "obj5 = pd.Series({\"İstanbul\": 19000000, \"Amasya\": 500000, \"Giresun\": 450000})\n",
    "obj5"
   ]
  },
  {
   "cell_type": "code",
   "execution_count": 31,
   "id": "e895e820-851b-4c37-b413-81f753c3f6c3",
   "metadata": {},
   "outputs": [
    {
     "data": {
      "text/plain": [
       "Amasya       1000000.0\n",
       "Giresun       900000.0\n",
       "Krakow             NaN\n",
       "İstanbul    38000000.0\n",
       "dtype: float64"
      ]
     },
     "execution_count": 31,
     "metadata": {},
     "output_type": "execute_result"
    }
   ],
   "source": [
    "obj4 + obj5 # automatic alignment in arithmetic operations"
   ]
  },
  {
   "cell_type": "code",
   "execution_count": 32,
   "id": "1fed8fd4-40bc-4bd0-bdac-3c893eb41f69",
   "metadata": {},
   "outputs": [
    {
     "data": {
      "text/plain": [
       "province\n",
       "Amasya        500000.0\n",
       "Giresun       450000.0\n",
       "İstanbul    19000000.0\n",
       "Krakow             NaN\n",
       "Name: population, dtype: float64"
      ]
     },
     "execution_count": 32,
     "metadata": {},
     "output_type": "execute_result"
    }
   ],
   "source": [
    "obj4.name = \"population\"\n",
    "obj4.index.name = \"province\"\n",
    "obj4"
   ]
  },
  {
   "cell_type": "markdown",
   "id": "62956fa0-da17-41bc-a926-dac6c4d8348f",
   "metadata": {
    "jp-MarkdownHeadingCollapsed": true
   },
   "source": [
    "### DataFrame"
   ]
  },
  {
   "cell_type": "code",
   "execution_count": 34,
   "id": "b0c16a35-6419-4efd-8123-4057d9ee09f1",
   "metadata": {},
   "outputs": [],
   "source": [
    "data = {\n",
    "    \"name\" : [\"Doğukan\", \"Atakan\", \"Hazal Asu\", \"Ekinsu\", \"Berke Kaan\", \"Ece Dilara\", \"Yavuzhan\", \"Muhammed Ali\"],\n",
    "    \"height\" : [170, 170, 135, 160, 187, 160, 178, 179],\n",
    "    \"weight\" : [75.4, 66.8, 23.2, 52.5, 85.0, 55.5, 88.7, 80.4]\n",
    "}\n",
    "\n",
    "df1 = pd.DataFrame(data)"
   ]
  },
  {
   "cell_type": "code",
   "execution_count": 35,
   "id": "f665b219-30d3-4d9d-93d7-3ec6cae7ddf7",
   "metadata": {},
   "outputs": [
    {
     "data": {
      "text/html": [
       "<div>\n",
       "<style scoped>\n",
       "    .dataframe tbody tr th:only-of-type {\n",
       "        vertical-align: middle;\n",
       "    }\n",
       "\n",
       "    .dataframe tbody tr th {\n",
       "        vertical-align: top;\n",
       "    }\n",
       "\n",
       "    .dataframe thead th {\n",
       "        text-align: right;\n",
       "    }\n",
       "</style>\n",
       "<table border=\"1\" class=\"dataframe\">\n",
       "  <thead>\n",
       "    <tr style=\"text-align: right;\">\n",
       "      <th></th>\n",
       "      <th>name</th>\n",
       "      <th>height</th>\n",
       "      <th>weight</th>\n",
       "    </tr>\n",
       "  </thead>\n",
       "  <tbody>\n",
       "    <tr>\n",
       "      <th>0</th>\n",
       "      <td>Doğukan</td>\n",
       "      <td>170</td>\n",
       "      <td>75.4</td>\n",
       "    </tr>\n",
       "    <tr>\n",
       "      <th>1</th>\n",
       "      <td>Atakan</td>\n",
       "      <td>170</td>\n",
       "      <td>66.8</td>\n",
       "    </tr>\n",
       "    <tr>\n",
       "      <th>2</th>\n",
       "      <td>Hazal Asu</td>\n",
       "      <td>135</td>\n",
       "      <td>23.2</td>\n",
       "    </tr>\n",
       "    <tr>\n",
       "      <th>3</th>\n",
       "      <td>Ekinsu</td>\n",
       "      <td>160</td>\n",
       "      <td>52.5</td>\n",
       "    </tr>\n",
       "    <tr>\n",
       "      <th>4</th>\n",
       "      <td>Berke Kaan</td>\n",
       "      <td>187</td>\n",
       "      <td>85.0</td>\n",
       "    </tr>\n",
       "    <tr>\n",
       "      <th>5</th>\n",
       "      <td>Ece Dilara</td>\n",
       "      <td>160</td>\n",
       "      <td>55.5</td>\n",
       "    </tr>\n",
       "    <tr>\n",
       "      <th>6</th>\n",
       "      <td>Yavuzhan</td>\n",
       "      <td>178</td>\n",
       "      <td>88.7</td>\n",
       "    </tr>\n",
       "    <tr>\n",
       "      <th>7</th>\n",
       "      <td>Muhammed Ali</td>\n",
       "      <td>179</td>\n",
       "      <td>80.4</td>\n",
       "    </tr>\n",
       "  </tbody>\n",
       "</table>\n",
       "</div>"
      ],
      "text/plain": [
       "           name  height  weight\n",
       "0       Doğukan     170    75.4\n",
       "1        Atakan     170    66.8\n",
       "2     Hazal Asu     135    23.2\n",
       "3        Ekinsu     160    52.5\n",
       "4    Berke Kaan     187    85.0\n",
       "5    Ece Dilara     160    55.5\n",
       "6      Yavuzhan     178    88.7\n",
       "7  Muhammed Ali     179    80.4"
      ]
     },
     "execution_count": 35,
     "metadata": {},
     "output_type": "execute_result"
    }
   ],
   "source": [
    "df1"
   ]
  },
  {
   "cell_type": "code",
   "execution_count": 36,
   "id": "56eeed2c-e288-4329-94f5-435fb30cd471",
   "metadata": {},
   "outputs": [
    {
     "data": {
      "text/html": [
       "<div>\n",
       "<style scoped>\n",
       "    .dataframe tbody tr th:only-of-type {\n",
       "        vertical-align: middle;\n",
       "    }\n",
       "\n",
       "    .dataframe tbody tr th {\n",
       "        vertical-align: top;\n",
       "    }\n",
       "\n",
       "    .dataframe thead th {\n",
       "        text-align: right;\n",
       "    }\n",
       "</style>\n",
       "<table border=\"1\" class=\"dataframe\">\n",
       "  <thead>\n",
       "    <tr style=\"text-align: right;\">\n",
       "      <th></th>\n",
       "      <th>name</th>\n",
       "      <th>height</th>\n",
       "      <th>weight</th>\n",
       "    </tr>\n",
       "  </thead>\n",
       "  <tbody>\n",
       "    <tr>\n",
       "      <th>0</th>\n",
       "      <td>Doğukan</td>\n",
       "      <td>170</td>\n",
       "      <td>75.4</td>\n",
       "    </tr>\n",
       "    <tr>\n",
       "      <th>1</th>\n",
       "      <td>Atakan</td>\n",
       "      <td>170</td>\n",
       "      <td>66.8</td>\n",
       "    </tr>\n",
       "    <tr>\n",
       "      <th>2</th>\n",
       "      <td>Hazal Asu</td>\n",
       "      <td>135</td>\n",
       "      <td>23.2</td>\n",
       "    </tr>\n",
       "    <tr>\n",
       "      <th>3</th>\n",
       "      <td>Ekinsu</td>\n",
       "      <td>160</td>\n",
       "      <td>52.5</td>\n",
       "    </tr>\n",
       "    <tr>\n",
       "      <th>4</th>\n",
       "      <td>Berke Kaan</td>\n",
       "      <td>187</td>\n",
       "      <td>85.0</td>\n",
       "    </tr>\n",
       "  </tbody>\n",
       "</table>\n",
       "</div>"
      ],
      "text/plain": [
       "         name  height  weight\n",
       "0     Doğukan     170    75.4\n",
       "1      Atakan     170    66.8\n",
       "2   Hazal Asu     135    23.2\n",
       "3      Ekinsu     160    52.5\n",
       "4  Berke Kaan     187    85.0"
      ]
     },
     "execution_count": 36,
     "metadata": {},
     "output_type": "execute_result"
    }
   ],
   "source": [
    "df1.head()"
   ]
  },
  {
   "cell_type": "code",
   "execution_count": 37,
   "id": "478a04b9-57d8-4552-8a5b-c9df67034d1a",
   "metadata": {},
   "outputs": [
    {
     "data": {
      "text/html": [
       "<div>\n",
       "<style scoped>\n",
       "    .dataframe tbody tr th:only-of-type {\n",
       "        vertical-align: middle;\n",
       "    }\n",
       "\n",
       "    .dataframe tbody tr th {\n",
       "        vertical-align: top;\n",
       "    }\n",
       "\n",
       "    .dataframe thead th {\n",
       "        text-align: right;\n",
       "    }\n",
       "</style>\n",
       "<table border=\"1\" class=\"dataframe\">\n",
       "  <thead>\n",
       "    <tr style=\"text-align: right;\">\n",
       "      <th></th>\n",
       "      <th>name</th>\n",
       "      <th>height</th>\n",
       "      <th>weight</th>\n",
       "    </tr>\n",
       "  </thead>\n",
       "  <tbody>\n",
       "    <tr>\n",
       "      <th>3</th>\n",
       "      <td>Ekinsu</td>\n",
       "      <td>160</td>\n",
       "      <td>52.5</td>\n",
       "    </tr>\n",
       "    <tr>\n",
       "      <th>4</th>\n",
       "      <td>Berke Kaan</td>\n",
       "      <td>187</td>\n",
       "      <td>85.0</td>\n",
       "    </tr>\n",
       "    <tr>\n",
       "      <th>5</th>\n",
       "      <td>Ece Dilara</td>\n",
       "      <td>160</td>\n",
       "      <td>55.5</td>\n",
       "    </tr>\n",
       "    <tr>\n",
       "      <th>6</th>\n",
       "      <td>Yavuzhan</td>\n",
       "      <td>178</td>\n",
       "      <td>88.7</td>\n",
       "    </tr>\n",
       "    <tr>\n",
       "      <th>7</th>\n",
       "      <td>Muhammed Ali</td>\n",
       "      <td>179</td>\n",
       "      <td>80.4</td>\n",
       "    </tr>\n",
       "  </tbody>\n",
       "</table>\n",
       "</div>"
      ],
      "text/plain": [
       "           name  height  weight\n",
       "3        Ekinsu     160    52.5\n",
       "4    Berke Kaan     187    85.0\n",
       "5    Ece Dilara     160    55.5\n",
       "6      Yavuzhan     178    88.7\n",
       "7  Muhammed Ali     179    80.4"
      ]
     },
     "execution_count": 37,
     "metadata": {},
     "output_type": "execute_result"
    }
   ],
   "source": [
    "df1.tail()"
   ]
  },
  {
   "cell_type": "code",
   "execution_count": 38,
   "id": "07470fe1-eb31-4d99-95a8-1aa150996c83",
   "metadata": {},
   "outputs": [
    {
     "data": {
      "text/html": [
       "<div>\n",
       "<style scoped>\n",
       "    .dataframe tbody tr th:only-of-type {\n",
       "        vertical-align: middle;\n",
       "    }\n",
       "\n",
       "    .dataframe tbody tr th {\n",
       "        vertical-align: top;\n",
       "    }\n",
       "\n",
       "    .dataframe thead th {\n",
       "        text-align: right;\n",
       "    }\n",
       "</style>\n",
       "<table border=\"1\" class=\"dataframe\">\n",
       "  <thead>\n",
       "    <tr style=\"text-align: right;\">\n",
       "      <th></th>\n",
       "      <th>name</th>\n",
       "      <th>weight</th>\n",
       "      <th>height</th>\n",
       "    </tr>\n",
       "  </thead>\n",
       "  <tbody>\n",
       "    <tr>\n",
       "      <th>0</th>\n",
       "      <td>Doğukan</td>\n",
       "      <td>75.4</td>\n",
       "      <td>170</td>\n",
       "    </tr>\n",
       "    <tr>\n",
       "      <th>1</th>\n",
       "      <td>Atakan</td>\n",
       "      <td>66.8</td>\n",
       "      <td>170</td>\n",
       "    </tr>\n",
       "    <tr>\n",
       "      <th>2</th>\n",
       "      <td>Hazal Asu</td>\n",
       "      <td>23.2</td>\n",
       "      <td>135</td>\n",
       "    </tr>\n",
       "    <tr>\n",
       "      <th>3</th>\n",
       "      <td>Ekinsu</td>\n",
       "      <td>52.5</td>\n",
       "      <td>160</td>\n",
       "    </tr>\n",
       "    <tr>\n",
       "      <th>4</th>\n",
       "      <td>Berke Kaan</td>\n",
       "      <td>85.0</td>\n",
       "      <td>187</td>\n",
       "    </tr>\n",
       "    <tr>\n",
       "      <th>5</th>\n",
       "      <td>Ece Dilara</td>\n",
       "      <td>55.5</td>\n",
       "      <td>160</td>\n",
       "    </tr>\n",
       "    <tr>\n",
       "      <th>6</th>\n",
       "      <td>Yavuzhan</td>\n",
       "      <td>88.7</td>\n",
       "      <td>178</td>\n",
       "    </tr>\n",
       "    <tr>\n",
       "      <th>7</th>\n",
       "      <td>Muhammed Ali</td>\n",
       "      <td>80.4</td>\n",
       "      <td>179</td>\n",
       "    </tr>\n",
       "  </tbody>\n",
       "</table>\n",
       "</div>"
      ],
      "text/plain": [
       "           name  weight  height\n",
       "0       Doğukan    75.4     170\n",
       "1        Atakan    66.8     170\n",
       "2     Hazal Asu    23.2     135\n",
       "3        Ekinsu    52.5     160\n",
       "4    Berke Kaan    85.0     187\n",
       "5    Ece Dilara    55.5     160\n",
       "6      Yavuzhan    88.7     178\n",
       "7  Muhammed Ali    80.4     179"
      ]
     },
     "execution_count": 38,
     "metadata": {},
     "output_type": "execute_result"
    }
   ],
   "source": [
    "df2 = pd.DataFrame(data, columns = [\"name\", \"weight\", \"height\"]) # using columns attribute to arrange order of columns\n",
    "df2"
   ]
  },
  {
   "cell_type": "code",
   "execution_count": 39,
   "id": "838bc030-8011-473b-a0c2-2c6ddf8562e9",
   "metadata": {},
   "outputs": [
    {
     "data": {
      "text/html": [
       "<div>\n",
       "<style scoped>\n",
       "    .dataframe tbody tr th:only-of-type {\n",
       "        vertical-align: middle;\n",
       "    }\n",
       "\n",
       "    .dataframe tbody tr th {\n",
       "        vertical-align: top;\n",
       "    }\n",
       "\n",
       "    .dataframe thead th {\n",
       "        text-align: right;\n",
       "    }\n",
       "</style>\n",
       "<table border=\"1\" class=\"dataframe\">\n",
       "  <thead>\n",
       "    <tr style=\"text-align: right;\">\n",
       "      <th></th>\n",
       "      <th>name</th>\n",
       "      <th>weight</th>\n",
       "      <th>height</th>\n",
       "      <th>BMI</th>\n",
       "    </tr>\n",
       "  </thead>\n",
       "  <tbody>\n",
       "    <tr>\n",
       "      <th>0</th>\n",
       "      <td>Doğukan</td>\n",
       "      <td>75.4</td>\n",
       "      <td>170</td>\n",
       "      <td>NaN</td>\n",
       "    </tr>\n",
       "    <tr>\n",
       "      <th>1</th>\n",
       "      <td>Atakan</td>\n",
       "      <td>66.8</td>\n",
       "      <td>170</td>\n",
       "      <td>NaN</td>\n",
       "    </tr>\n",
       "    <tr>\n",
       "      <th>2</th>\n",
       "      <td>Hazal Asu</td>\n",
       "      <td>23.2</td>\n",
       "      <td>135</td>\n",
       "      <td>NaN</td>\n",
       "    </tr>\n",
       "    <tr>\n",
       "      <th>3</th>\n",
       "      <td>Ekinsu</td>\n",
       "      <td>52.5</td>\n",
       "      <td>160</td>\n",
       "      <td>NaN</td>\n",
       "    </tr>\n",
       "    <tr>\n",
       "      <th>4</th>\n",
       "      <td>Berke Kaan</td>\n",
       "      <td>85.0</td>\n",
       "      <td>187</td>\n",
       "      <td>NaN</td>\n",
       "    </tr>\n",
       "    <tr>\n",
       "      <th>5</th>\n",
       "      <td>Ece Dilara</td>\n",
       "      <td>55.5</td>\n",
       "      <td>160</td>\n",
       "      <td>NaN</td>\n",
       "    </tr>\n",
       "    <tr>\n",
       "      <th>6</th>\n",
       "      <td>Yavuzhan</td>\n",
       "      <td>88.7</td>\n",
       "      <td>178</td>\n",
       "      <td>NaN</td>\n",
       "    </tr>\n",
       "    <tr>\n",
       "      <th>7</th>\n",
       "      <td>Muhammed Ali</td>\n",
       "      <td>80.4</td>\n",
       "      <td>179</td>\n",
       "      <td>NaN</td>\n",
       "    </tr>\n",
       "  </tbody>\n",
       "</table>\n",
       "</div>"
      ],
      "text/plain": [
       "           name  weight  height  BMI\n",
       "0       Doğukan    75.4     170  NaN\n",
       "1        Atakan    66.8     170  NaN\n",
       "2     Hazal Asu    23.2     135  NaN\n",
       "3        Ekinsu    52.5     160  NaN\n",
       "4    Berke Kaan    85.0     187  NaN\n",
       "5    Ece Dilara    55.5     160  NaN\n",
       "6      Yavuzhan    88.7     178  NaN\n",
       "7  Muhammed Ali    80.4     179  NaN"
      ]
     },
     "execution_count": 39,
     "metadata": {},
     "output_type": "execute_result"
    }
   ],
   "source": [
    "df3 = pd.DataFrame(data, columns = [\"name\", \"weight\", \"height\", \"BMI\"]) # passing a column name that it is not in the dictionary.\n",
    "df3"
   ]
  },
  {
   "cell_type": "code",
   "execution_count": 40,
   "id": "af6ffb8f-ab8d-42e5-8bda-6b56988015a9",
   "metadata": {},
   "outputs": [
    {
     "data": {
      "text/plain": [
       "Index(['name', 'weight', 'height', 'BMI'], dtype='object')"
      ]
     },
     "execution_count": 40,
     "metadata": {},
     "output_type": "execute_result"
    }
   ],
   "source": [
    "df3.columns # displaying columns of a data frame"
   ]
  },
  {
   "cell_type": "code",
   "execution_count": 41,
   "id": "5943e643-4b96-4ac2-a2bd-ed569fc299e9",
   "metadata": {},
   "outputs": [
    {
     "data": {
      "text/html": [
       "<div>\n",
       "<style scoped>\n",
       "    .dataframe tbody tr th:only-of-type {\n",
       "        vertical-align: middle;\n",
       "    }\n",
       "\n",
       "    .dataframe tbody tr th {\n",
       "        vertical-align: top;\n",
       "    }\n",
       "\n",
       "    .dataframe thead th {\n",
       "        text-align: right;\n",
       "    }\n",
       "</style>\n",
       "<table border=\"1\" class=\"dataframe\">\n",
       "  <thead>\n",
       "    <tr style=\"text-align: right;\">\n",
       "      <th></th>\n",
       "      <th>name</th>\n",
       "      <th>weight</th>\n",
       "      <th>height</th>\n",
       "    </tr>\n",
       "  </thead>\n",
       "  <tbody>\n",
       "    <tr>\n",
       "      <th>0</th>\n",
       "      <td>Doğukan</td>\n",
       "      <td>75.4</td>\n",
       "      <td>170</td>\n",
       "    </tr>\n",
       "    <tr>\n",
       "      <th>1</th>\n",
       "      <td>Atakan</td>\n",
       "      <td>66.8</td>\n",
       "      <td>170</td>\n",
       "    </tr>\n",
       "    <tr>\n",
       "      <th>2</th>\n",
       "      <td>Hazal Asu</td>\n",
       "      <td>23.2</td>\n",
       "      <td>135</td>\n",
       "    </tr>\n",
       "    <tr>\n",
       "      <th>3</th>\n",
       "      <td>Ekinsu</td>\n",
       "      <td>52.5</td>\n",
       "      <td>160</td>\n",
       "    </tr>\n",
       "    <tr>\n",
       "      <th>4</th>\n",
       "      <td>Berke Kaan</td>\n",
       "      <td>85.0</td>\n",
       "      <td>187</td>\n",
       "    </tr>\n",
       "    <tr>\n",
       "      <th>5</th>\n",
       "      <td>Ece Dilara</td>\n",
       "      <td>55.5</td>\n",
       "      <td>160</td>\n",
       "    </tr>\n",
       "    <tr>\n",
       "      <th>6</th>\n",
       "      <td>Yavuzhan</td>\n",
       "      <td>88.7</td>\n",
       "      <td>178</td>\n",
       "    </tr>\n",
       "    <tr>\n",
       "      <th>7</th>\n",
       "      <td>Muhammed Ali</td>\n",
       "      <td>80.4</td>\n",
       "      <td>179</td>\n",
       "    </tr>\n",
       "  </tbody>\n",
       "</table>\n",
       "</div>"
      ],
      "text/plain": [
       "           name  weight  height\n",
       "0       Doğukan    75.4     170\n",
       "1        Atakan    66.8     170\n",
       "2     Hazal Asu    23.2     135\n",
       "3        Ekinsu    52.5     160\n",
       "4    Berke Kaan    85.0     187\n",
       "5    Ece Dilara    55.5     160\n",
       "6      Yavuzhan    88.7     178\n",
       "7  Muhammed Ali    80.4     179"
      ]
     },
     "execution_count": 41,
     "metadata": {},
     "output_type": "execute_result"
    }
   ],
   "source": [
    "df2"
   ]
  },
  {
   "cell_type": "code",
   "execution_count": 42,
   "id": "b2e963d8-9d1b-4388-80f1-8d12477b6a52",
   "metadata": {},
   "outputs": [],
   "source": [
    "# retrieving a column from a data frame"
   ]
  },
  {
   "cell_type": "code",
   "execution_count": 43,
   "id": "b18d4ed9-128d-45aa-8174-549b76a80118",
   "metadata": {},
   "outputs": [
    {
     "data": {
      "text/plain": [
       "0         Doğukan\n",
       "1          Atakan\n",
       "2       Hazal Asu\n",
       "3          Ekinsu\n",
       "4      Berke Kaan\n",
       "5      Ece Dilara\n",
       "6        Yavuzhan\n",
       "7    Muhammed Ali\n",
       "Name: name, dtype: object"
      ]
     },
     "execution_count": 43,
     "metadata": {},
     "output_type": "execute_result"
    }
   ],
   "source": [
    "df2[\"name\"]"
   ]
  },
  {
   "cell_type": "code",
   "execution_count": 44,
   "id": "fa662aef-a9ae-49fa-acab-03336439bf2c",
   "metadata": {},
   "outputs": [
    {
     "data": {
      "text/plain": [
       "0         Doğukan\n",
       "1          Atakan\n",
       "2       Hazal Asu\n",
       "3          Ekinsu\n",
       "4      Berke Kaan\n",
       "5      Ece Dilara\n",
       "6        Yavuzhan\n",
       "7    Muhammed Ali\n",
       "Name: name, dtype: object"
      ]
     },
     "execution_count": 44,
     "metadata": {},
     "output_type": "execute_result"
    }
   ],
   "source": [
    "df2.name"
   ]
  },
  {
   "cell_type": "code",
   "execution_count": 45,
   "id": "52a1d6f6-3a82-4b4a-90a8-19348e908b9e",
   "metadata": {},
   "outputs": [
    {
     "data": {
      "text/plain": [
       "'Doğukan'"
      ]
     },
     "execution_count": 45,
     "metadata": {},
     "output_type": "execute_result"
    }
   ],
   "source": [
    "df2[\"name\"][0]"
   ]
  },
  {
   "cell_type": "code",
   "execution_count": 46,
   "id": "b2b853d1-23d8-402c-b3cc-d32f4d3ae9d5",
   "metadata": {},
   "outputs": [],
   "source": [
    "# rows can also be retrieved by position or name with special \"iloc\" and \"loc\" attributes."
   ]
  },
  {
   "cell_type": "code",
   "execution_count": 47,
   "id": "c8320ccd-29d4-480f-9dc6-ad37295233e4",
   "metadata": {},
   "outputs": [
    {
     "data": {
      "text/plain": [
       "name      Doğukan\n",
       "weight       75.4\n",
       "height        170\n",
       "Name: 0, dtype: object"
      ]
     },
     "execution_count": 47,
     "metadata": {},
     "output_type": "execute_result"
    }
   ],
   "source": [
    "df2.loc[0] # you can use \"loc\" also for string indexes."
   ]
  },
  {
   "cell_type": "code",
   "execution_count": 48,
   "id": "fa284a08-d866-473b-bdaa-cdb821f43bf3",
   "metadata": {},
   "outputs": [
    {
     "data": {
      "text/plain": [
       "name      Doğukan\n",
       "weight       75.4\n",
       "height        170\n",
       "Name: 0, dtype: object"
      ]
     },
     "execution_count": 48,
     "metadata": {},
     "output_type": "execute_result"
    }
   ],
   "source": [
    "df2.iloc[0]"
   ]
  },
  {
   "cell_type": "code",
   "execution_count": 49,
   "id": "ea03b8cc-4324-40ea-bf9d-b804d07f7319",
   "metadata": {},
   "outputs": [
    {
     "name": "stderr",
     "output_type": "stream",
     "text": [
      "C:\\Users\\doguk\\AppData\\Local\\Temp\\ipykernel_2824\\2505707218.py:1: FutureWarning: ChainedAssignmentError: behaviour will change in pandas 3.0!\n",
      "You are setting values through chained assignment. Currently this works in certain cases, but when using Copy-on-Write (which will become the default behaviour in pandas 3.0) this will never work to update the original DataFrame or Series, because the intermediate object on which we are setting values will behave as a copy.\n",
      "A typical example is when you are setting values in a column of a DataFrame, like:\n",
      "\n",
      "df[\"col\"][row_indexer] = value\n",
      "\n",
      "Use `df.loc[row_indexer, \"col\"] = values` instead, to perform the assignment in a single step and ensure this keeps updating the original `df`.\n",
      "\n",
      "See the caveats in the documentation: https://pandas.pydata.org/pandas-docs/stable/user_guide/indexing.html#returning-a-view-versus-a-copy\n",
      "\n",
      "  df2[\"weight\"][0] = 75.2 # you can modify a value in a specific column and row and also you can change whole columns, for ex. df2[\"weight\"] = 75\n",
      "C:\\Users\\doguk\\AppData\\Local\\Temp\\ipykernel_2824\\2505707218.py:1: SettingWithCopyWarning: \n",
      "A value is trying to be set on a copy of a slice from a DataFrame\n",
      "\n",
      "See the caveats in the documentation: https://pandas.pydata.org/pandas-docs/stable/user_guide/indexing.html#returning-a-view-versus-a-copy\n",
      "  df2[\"weight\"][0] = 75.2 # you can modify a value in a specific column and row and also you can change whole columns, for ex. df2[\"weight\"] = 75\n"
     ]
    }
   ],
   "source": [
    "df2[\"weight\"][0] = 75.2 # you can modify a value in a specific column and row and also you can change whole columns, for ex. df2[\"weight\"] = 75"
   ]
  },
  {
   "cell_type": "code",
   "execution_count": 50,
   "id": "45048cbf-29db-4108-af90-2fccf2f34559",
   "metadata": {},
   "outputs": [
    {
     "data": {
      "text/html": [
       "<div>\n",
       "<style scoped>\n",
       "    .dataframe tbody tr th:only-of-type {\n",
       "        vertical-align: middle;\n",
       "    }\n",
       "\n",
       "    .dataframe tbody tr th {\n",
       "        vertical-align: top;\n",
       "    }\n",
       "\n",
       "    .dataframe thead th {\n",
       "        text-align: right;\n",
       "    }\n",
       "</style>\n",
       "<table border=\"1\" class=\"dataframe\">\n",
       "  <thead>\n",
       "    <tr style=\"text-align: right;\">\n",
       "      <th></th>\n",
       "      <th>name</th>\n",
       "      <th>weight</th>\n",
       "      <th>height</th>\n",
       "    </tr>\n",
       "  </thead>\n",
       "  <tbody>\n",
       "    <tr>\n",
       "      <th>0</th>\n",
       "      <td>Doğukan</td>\n",
       "      <td>75.2</td>\n",
       "      <td>170</td>\n",
       "    </tr>\n",
       "    <tr>\n",
       "      <th>1</th>\n",
       "      <td>Atakan</td>\n",
       "      <td>66.8</td>\n",
       "      <td>170</td>\n",
       "    </tr>\n",
       "    <tr>\n",
       "      <th>2</th>\n",
       "      <td>Hazal Asu</td>\n",
       "      <td>23.2</td>\n",
       "      <td>135</td>\n",
       "    </tr>\n",
       "    <tr>\n",
       "      <th>3</th>\n",
       "      <td>Ekinsu</td>\n",
       "      <td>52.5</td>\n",
       "      <td>160</td>\n",
       "    </tr>\n",
       "    <tr>\n",
       "      <th>4</th>\n",
       "      <td>Berke Kaan</td>\n",
       "      <td>85.0</td>\n",
       "      <td>187</td>\n",
       "    </tr>\n",
       "    <tr>\n",
       "      <th>5</th>\n",
       "      <td>Ece Dilara</td>\n",
       "      <td>55.5</td>\n",
       "      <td>160</td>\n",
       "    </tr>\n",
       "    <tr>\n",
       "      <th>6</th>\n",
       "      <td>Yavuzhan</td>\n",
       "      <td>88.7</td>\n",
       "      <td>178</td>\n",
       "    </tr>\n",
       "    <tr>\n",
       "      <th>7</th>\n",
       "      <td>Muhammed Ali</td>\n",
       "      <td>80.4</td>\n",
       "      <td>179</td>\n",
       "    </tr>\n",
       "  </tbody>\n",
       "</table>\n",
       "</div>"
      ],
      "text/plain": [
       "           name  weight  height\n",
       "0       Doğukan    75.2     170\n",
       "1        Atakan    66.8     170\n",
       "2     Hazal Asu    23.2     135\n",
       "3        Ekinsu    52.5     160\n",
       "4    Berke Kaan    85.0     187\n",
       "5    Ece Dilara    55.5     160\n",
       "6      Yavuzhan    88.7     178\n",
       "7  Muhammed Ali    80.4     179"
      ]
     },
     "execution_count": 50,
     "metadata": {},
     "output_type": "execute_result"
    }
   ],
   "source": [
    "df2"
   ]
  },
  {
   "cell_type": "code",
   "execution_count": 51,
   "id": "5bcaef5b-4c56-4675-903a-e3b454c05e5f",
   "metadata": {},
   "outputs": [
    {
     "data": {
      "text/html": [
       "<div>\n",
       "<style scoped>\n",
       "    .dataframe tbody tr th:only-of-type {\n",
       "        vertical-align: middle;\n",
       "    }\n",
       "\n",
       "    .dataframe tbody tr th {\n",
       "        vertical-align: top;\n",
       "    }\n",
       "\n",
       "    .dataframe thead th {\n",
       "        text-align: right;\n",
       "    }\n",
       "</style>\n",
       "<table border=\"1\" class=\"dataframe\">\n",
       "  <thead>\n",
       "    <tr style=\"text-align: right;\">\n",
       "      <th></th>\n",
       "      <th>name</th>\n",
       "      <th>weight</th>\n",
       "      <th>height</th>\n",
       "      <th>BMI</th>\n",
       "    </tr>\n",
       "  </thead>\n",
       "  <tbody>\n",
       "    <tr>\n",
       "      <th>0</th>\n",
       "      <td>Doğukan</td>\n",
       "      <td>75.4</td>\n",
       "      <td>170</td>\n",
       "      <td>NaN</td>\n",
       "    </tr>\n",
       "    <tr>\n",
       "      <th>1</th>\n",
       "      <td>Atakan</td>\n",
       "      <td>66.8</td>\n",
       "      <td>170</td>\n",
       "      <td>NaN</td>\n",
       "    </tr>\n",
       "    <tr>\n",
       "      <th>2</th>\n",
       "      <td>Hazal Asu</td>\n",
       "      <td>23.2</td>\n",
       "      <td>135</td>\n",
       "      <td>NaN</td>\n",
       "    </tr>\n",
       "    <tr>\n",
       "      <th>3</th>\n",
       "      <td>Ekinsu</td>\n",
       "      <td>52.5</td>\n",
       "      <td>160</td>\n",
       "      <td>NaN</td>\n",
       "    </tr>\n",
       "    <tr>\n",
       "      <th>4</th>\n",
       "      <td>Berke Kaan</td>\n",
       "      <td>85.0</td>\n",
       "      <td>187</td>\n",
       "      <td>NaN</td>\n",
       "    </tr>\n",
       "    <tr>\n",
       "      <th>5</th>\n",
       "      <td>Ece Dilara</td>\n",
       "      <td>55.5</td>\n",
       "      <td>160</td>\n",
       "      <td>NaN</td>\n",
       "    </tr>\n",
       "    <tr>\n",
       "      <th>6</th>\n",
       "      <td>Yavuzhan</td>\n",
       "      <td>88.7</td>\n",
       "      <td>178</td>\n",
       "      <td>NaN</td>\n",
       "    </tr>\n",
       "    <tr>\n",
       "      <th>7</th>\n",
       "      <td>Muhammed Ali</td>\n",
       "      <td>80.4</td>\n",
       "      <td>179</td>\n",
       "      <td>NaN</td>\n",
       "    </tr>\n",
       "  </tbody>\n",
       "</table>\n",
       "</div>"
      ],
      "text/plain": [
       "           name  weight  height  BMI\n",
       "0       Doğukan    75.4     170  NaN\n",
       "1        Atakan    66.8     170  NaN\n",
       "2     Hazal Asu    23.2     135  NaN\n",
       "3        Ekinsu    52.5     160  NaN\n",
       "4    Berke Kaan    85.0     187  NaN\n",
       "5    Ece Dilara    55.5     160  NaN\n",
       "6      Yavuzhan    88.7     178  NaN\n",
       "7  Muhammed Ali    80.4     179  NaN"
      ]
     },
     "execution_count": 51,
     "metadata": {},
     "output_type": "execute_result"
    }
   ],
   "source": [
    "df3"
   ]
  },
  {
   "cell_type": "code",
   "execution_count": 52,
   "id": "9103f6df-81e7-461a-8e70-623f48e3c690",
   "metadata": {},
   "outputs": [
    {
     "data": {
      "text/html": [
       "<div>\n",
       "<style scoped>\n",
       "    .dataframe tbody tr th:only-of-type {\n",
       "        vertical-align: middle;\n",
       "    }\n",
       "\n",
       "    .dataframe tbody tr th {\n",
       "        vertical-align: top;\n",
       "    }\n",
       "\n",
       "    .dataframe thead th {\n",
       "        text-align: right;\n",
       "    }\n",
       "</style>\n",
       "<table border=\"1\" class=\"dataframe\">\n",
       "  <thead>\n",
       "    <tr style=\"text-align: right;\">\n",
       "      <th></th>\n",
       "      <th>name</th>\n",
       "      <th>weight</th>\n",
       "      <th>height</th>\n",
       "      <th>BMI</th>\n",
       "    </tr>\n",
       "  </thead>\n",
       "  <tbody>\n",
       "    <tr>\n",
       "      <th>0</th>\n",
       "      <td>Doğukan</td>\n",
       "      <td>75.4</td>\n",
       "      <td>170</td>\n",
       "      <td>25</td>\n",
       "    </tr>\n",
       "    <tr>\n",
       "      <th>1</th>\n",
       "      <td>Atakan</td>\n",
       "      <td>66.8</td>\n",
       "      <td>170</td>\n",
       "      <td>29</td>\n",
       "    </tr>\n",
       "    <tr>\n",
       "      <th>2</th>\n",
       "      <td>Hazal Asu</td>\n",
       "      <td>23.2</td>\n",
       "      <td>135</td>\n",
       "      <td>20</td>\n",
       "    </tr>\n",
       "    <tr>\n",
       "      <th>3</th>\n",
       "      <td>Ekinsu</td>\n",
       "      <td>52.5</td>\n",
       "      <td>160</td>\n",
       "      <td>22</td>\n",
       "    </tr>\n",
       "    <tr>\n",
       "      <th>4</th>\n",
       "      <td>Berke Kaan</td>\n",
       "      <td>85.0</td>\n",
       "      <td>187</td>\n",
       "      <td>25</td>\n",
       "    </tr>\n",
       "    <tr>\n",
       "      <th>5</th>\n",
       "      <td>Ece Dilara</td>\n",
       "      <td>55.5</td>\n",
       "      <td>160</td>\n",
       "      <td>20</td>\n",
       "    </tr>\n",
       "    <tr>\n",
       "      <th>6</th>\n",
       "      <td>Yavuzhan</td>\n",
       "      <td>88.7</td>\n",
       "      <td>178</td>\n",
       "      <td>24</td>\n",
       "    </tr>\n",
       "    <tr>\n",
       "      <th>7</th>\n",
       "      <td>Muhammed Ali</td>\n",
       "      <td>80.4</td>\n",
       "      <td>179</td>\n",
       "      <td>20</td>\n",
       "    </tr>\n",
       "  </tbody>\n",
       "</table>\n",
       "</div>"
      ],
      "text/plain": [
       "           name  weight  height  BMI\n",
       "0       Doğukan    75.4     170   25\n",
       "1        Atakan    66.8     170   29\n",
       "2     Hazal Asu    23.2     135   20\n",
       "3        Ekinsu    52.5     160   22\n",
       "4    Berke Kaan    85.0     187   25\n",
       "5    Ece Dilara    55.5     160   20\n",
       "6      Yavuzhan    88.7     178   24\n",
       "7  Muhammed Ali    80.4     179   20"
      ]
     },
     "execution_count": 52,
     "metadata": {},
     "output_type": "execute_result"
    }
   ],
   "source": [
    "df3[\"BMI\"] = np.random.randint(20, 30, size=8)\n",
    "df3"
   ]
  },
  {
   "cell_type": "code",
   "execution_count": 53,
   "id": "a1aaa2c4-5760-4ec3-9fc0-273b8960f6ec",
   "metadata": {},
   "outputs": [
    {
     "data": {
      "text/html": [
       "<div>\n",
       "<style scoped>\n",
       "    .dataframe tbody tr th:only-of-type {\n",
       "        vertical-align: middle;\n",
       "    }\n",
       "\n",
       "    .dataframe tbody tr th {\n",
       "        vertical-align: top;\n",
       "    }\n",
       "\n",
       "    .dataframe thead th {\n",
       "        text-align: right;\n",
       "    }\n",
       "</style>\n",
       "<table border=\"1\" class=\"dataframe\">\n",
       "  <thead>\n",
       "    <tr style=\"text-align: right;\">\n",
       "      <th></th>\n",
       "      <th>name</th>\n",
       "      <th>weight</th>\n",
       "      <th>height</th>\n",
       "    </tr>\n",
       "  </thead>\n",
       "  <tbody>\n",
       "    <tr>\n",
       "      <th>0</th>\n",
       "      <td>Doğukan</td>\n",
       "      <td>75.4</td>\n",
       "      <td>170</td>\n",
       "    </tr>\n",
       "    <tr>\n",
       "      <th>1</th>\n",
       "      <td>Atakan</td>\n",
       "      <td>66.8</td>\n",
       "      <td>170</td>\n",
       "    </tr>\n",
       "    <tr>\n",
       "      <th>2</th>\n",
       "      <td>Hazal Asu</td>\n",
       "      <td>23.2</td>\n",
       "      <td>135</td>\n",
       "    </tr>\n",
       "    <tr>\n",
       "      <th>3</th>\n",
       "      <td>Ekinsu</td>\n",
       "      <td>52.5</td>\n",
       "      <td>160</td>\n",
       "    </tr>\n",
       "    <tr>\n",
       "      <th>4</th>\n",
       "      <td>Berke Kaan</td>\n",
       "      <td>85.0</td>\n",
       "      <td>187</td>\n",
       "    </tr>\n",
       "    <tr>\n",
       "      <th>5</th>\n",
       "      <td>Ece Dilara</td>\n",
       "      <td>55.5</td>\n",
       "      <td>160</td>\n",
       "    </tr>\n",
       "    <tr>\n",
       "      <th>6</th>\n",
       "      <td>Yavuzhan</td>\n",
       "      <td>88.7</td>\n",
       "      <td>178</td>\n",
       "    </tr>\n",
       "    <tr>\n",
       "      <th>7</th>\n",
       "      <td>Muhammed Ali</td>\n",
       "      <td>80.4</td>\n",
       "      <td>179</td>\n",
       "    </tr>\n",
       "  </tbody>\n",
       "</table>\n",
       "</div>"
      ],
      "text/plain": [
       "           name  weight  height\n",
       "0       Doğukan    75.4     170\n",
       "1        Atakan    66.8     170\n",
       "2     Hazal Asu    23.2     135\n",
       "3        Ekinsu    52.5     160\n",
       "4    Berke Kaan    85.0     187\n",
       "5    Ece Dilara    55.5     160\n",
       "6      Yavuzhan    88.7     178\n",
       "7  Muhammed Ali    80.4     179"
      ]
     },
     "execution_count": 53,
     "metadata": {},
     "output_type": "execute_result"
    }
   ],
   "source": [
    "del df3[\"BMI\"] # to remove a specific column\n",
    "df3"
   ]
  },
  {
   "cell_type": "code",
   "execution_count": 54,
   "id": "9ecf1e52-2cd5-4519-a301-6b8c2bd4dfd5",
   "metadata": {},
   "outputs": [
    {
     "data": {
      "text/html": [
       "<div>\n",
       "<style scoped>\n",
       "    .dataframe tbody tr th:only-of-type {\n",
       "        vertical-align: middle;\n",
       "    }\n",
       "\n",
       "    .dataframe tbody tr th {\n",
       "        vertical-align: top;\n",
       "    }\n",
       "\n",
       "    .dataframe thead th {\n",
       "        text-align: right;\n",
       "    }\n",
       "</style>\n",
       "<table border=\"1\" class=\"dataframe\">\n",
       "  <thead>\n",
       "    <tr style=\"text-align: right;\">\n",
       "      <th></th>\n",
       "      <th>İstanbul</th>\n",
       "      <th>Krakow</th>\n",
       "    </tr>\n",
       "  </thead>\n",
       "  <tbody>\n",
       "    <tr>\n",
       "      <th>2000</th>\n",
       "      <td>10000000</td>\n",
       "      <td>300000</td>\n",
       "    </tr>\n",
       "    <tr>\n",
       "      <th>2015</th>\n",
       "      <td>15000000</td>\n",
       "      <td>700000</td>\n",
       "    </tr>\n",
       "    <tr>\n",
       "      <th>2025</th>\n",
       "      <td>20000000</td>\n",
       "      <td>1800000</td>\n",
       "    </tr>\n",
       "  </tbody>\n",
       "</table>\n",
       "</div>"
      ],
      "text/plain": [
       "      İstanbul   Krakow\n",
       "2000  10000000   300000\n",
       "2015  15000000   700000\n",
       "2025  20000000  1800000"
      ]
     },
     "execution_count": 54,
     "metadata": {},
     "output_type": "execute_result"
    }
   ],
   "source": [
    "populations = {\n",
    "    \"İstanbul\" : {2000: 10000000, 2015: 15000000, 2025: 20000000},\n",
    "    \"Krakow\": {2000: 300000, 2015: 700000, 2025: 1800000}\n",
    "}\n",
    "df4 = pd.DataFrame(populations)\n",
    "df4\n",
    "# If the nested dictionary is passed to the DataFrame, pandas will interpret the outer dictionary keys as the columns, and the inner keys as the row indices."
   ]
  },
  {
   "cell_type": "code",
   "execution_count": 55,
   "id": "3fabd6b8-ec74-42a7-8c65-ddcb566ffc90",
   "metadata": {},
   "outputs": [
    {
     "data": {
      "text/html": [
       "<div>\n",
       "<style scoped>\n",
       "    .dataframe tbody tr th:only-of-type {\n",
       "        vertical-align: middle;\n",
       "    }\n",
       "\n",
       "    .dataframe tbody tr th {\n",
       "        vertical-align: top;\n",
       "    }\n",
       "\n",
       "    .dataframe thead th {\n",
       "        text-align: right;\n",
       "    }\n",
       "</style>\n",
       "<table border=\"1\" class=\"dataframe\">\n",
       "  <thead>\n",
       "    <tr style=\"text-align: right;\">\n",
       "      <th></th>\n",
       "      <th>2000</th>\n",
       "      <th>2015</th>\n",
       "      <th>2025</th>\n",
       "    </tr>\n",
       "  </thead>\n",
       "  <tbody>\n",
       "    <tr>\n",
       "      <th>İstanbul</th>\n",
       "      <td>10000000</td>\n",
       "      <td>15000000</td>\n",
       "      <td>20000000</td>\n",
       "    </tr>\n",
       "    <tr>\n",
       "      <th>Krakow</th>\n",
       "      <td>300000</td>\n",
       "      <td>700000</td>\n",
       "      <td>1800000</td>\n",
       "    </tr>\n",
       "  </tbody>\n",
       "</table>\n",
       "</div>"
      ],
      "text/plain": [
       "              2000      2015      2025\n",
       "İstanbul  10000000  15000000  20000000\n",
       "Krakow      300000    700000   1800000"
      ]
     },
     "execution_count": 55,
     "metadata": {},
     "output_type": "execute_result"
    }
   ],
   "source": [
    "df4.T # transposing a data frame"
   ]
  },
  {
   "cell_type": "code",
   "execution_count": 56,
   "id": "0d35d475-4d35-4bb7-ab5b-5b7699eb621a",
   "metadata": {},
   "outputs": [
    {
     "data": {
      "text/html": [
       "<div>\n",
       "<style scoped>\n",
       "    .dataframe tbody tr th:only-of-type {\n",
       "        vertical-align: middle;\n",
       "    }\n",
       "\n",
       "    .dataframe tbody tr th {\n",
       "        vertical-align: top;\n",
       "    }\n",
       "\n",
       "    .dataframe thead th {\n",
       "        text-align: right;\n",
       "    }\n",
       "</style>\n",
       "<table border=\"1\" class=\"dataframe\">\n",
       "  <thead>\n",
       "    <tr style=\"text-align: right;\">\n",
       "      <th></th>\n",
       "      <th>name</th>\n",
       "      <th>weight</th>\n",
       "      <th>height</th>\n",
       "    </tr>\n",
       "    <tr>\n",
       "      <th>personal number</th>\n",
       "      <th></th>\n",
       "      <th></th>\n",
       "      <th></th>\n",
       "    </tr>\n",
       "  </thead>\n",
       "  <tbody>\n",
       "    <tr>\n",
       "      <th>0</th>\n",
       "      <td>Doğukan</td>\n",
       "      <td>75.2</td>\n",
       "      <td>170</td>\n",
       "    </tr>\n",
       "    <tr>\n",
       "      <th>1</th>\n",
       "      <td>Atakan</td>\n",
       "      <td>66.8</td>\n",
       "      <td>170</td>\n",
       "    </tr>\n",
       "    <tr>\n",
       "      <th>2</th>\n",
       "      <td>Hazal Asu</td>\n",
       "      <td>23.2</td>\n",
       "      <td>135</td>\n",
       "    </tr>\n",
       "    <tr>\n",
       "      <th>3</th>\n",
       "      <td>Ekinsu</td>\n",
       "      <td>52.5</td>\n",
       "      <td>160</td>\n",
       "    </tr>\n",
       "    <tr>\n",
       "      <th>4</th>\n",
       "      <td>Berke Kaan</td>\n",
       "      <td>85.0</td>\n",
       "      <td>187</td>\n",
       "    </tr>\n",
       "    <tr>\n",
       "      <th>5</th>\n",
       "      <td>Ece Dilara</td>\n",
       "      <td>55.5</td>\n",
       "      <td>160</td>\n",
       "    </tr>\n",
       "    <tr>\n",
       "      <th>6</th>\n",
       "      <td>Yavuzhan</td>\n",
       "      <td>88.7</td>\n",
       "      <td>178</td>\n",
       "    </tr>\n",
       "    <tr>\n",
       "      <th>7</th>\n",
       "      <td>Muhammed Ali</td>\n",
       "      <td>80.4</td>\n",
       "      <td>179</td>\n",
       "    </tr>\n",
       "  </tbody>\n",
       "</table>\n",
       "</div>"
      ],
      "text/plain": [
       "                         name  weight  height\n",
       "personal number                              \n",
       "0                     Doğukan    75.2     170\n",
       "1                      Atakan    66.8     170\n",
       "2                   Hazal Asu    23.2     135\n",
       "3                      Ekinsu    52.5     160\n",
       "4                  Berke Kaan    85.0     187\n",
       "5                  Ece Dilara    55.5     160\n",
       "6                    Yavuzhan    88.7     178\n",
       "7                Muhammed Ali    80.4     179"
      ]
     },
     "execution_count": 56,
     "metadata": {},
     "output_type": "execute_result"
    }
   ],
   "source": [
    "df2.index.name = \"personal number\"\n",
    "df2"
   ]
  },
  {
   "cell_type": "code",
   "execution_count": 57,
   "id": "cfb0e675-c409-46af-a095-957248db610f",
   "metadata": {},
   "outputs": [
    {
     "data": {
      "text/html": [
       "<div>\n",
       "<style scoped>\n",
       "    .dataframe tbody tr th:only-of-type {\n",
       "        vertical-align: middle;\n",
       "    }\n",
       "\n",
       "    .dataframe tbody tr th {\n",
       "        vertical-align: top;\n",
       "    }\n",
       "\n",
       "    .dataframe thead th {\n",
       "        text-align: right;\n",
       "    }\n",
       "</style>\n",
       "<table border=\"1\" class=\"dataframe\">\n",
       "  <thead>\n",
       "    <tr style=\"text-align: right;\">\n",
       "      <th>personal informations</th>\n",
       "      <th>name</th>\n",
       "      <th>weight</th>\n",
       "      <th>height</th>\n",
       "    </tr>\n",
       "    <tr>\n",
       "      <th>personal number</th>\n",
       "      <th></th>\n",
       "      <th></th>\n",
       "      <th></th>\n",
       "    </tr>\n",
       "  </thead>\n",
       "  <tbody>\n",
       "    <tr>\n",
       "      <th>0</th>\n",
       "      <td>Doğukan</td>\n",
       "      <td>75.2</td>\n",
       "      <td>170</td>\n",
       "    </tr>\n",
       "    <tr>\n",
       "      <th>1</th>\n",
       "      <td>Atakan</td>\n",
       "      <td>66.8</td>\n",
       "      <td>170</td>\n",
       "    </tr>\n",
       "    <tr>\n",
       "      <th>2</th>\n",
       "      <td>Hazal Asu</td>\n",
       "      <td>23.2</td>\n",
       "      <td>135</td>\n",
       "    </tr>\n",
       "    <tr>\n",
       "      <th>3</th>\n",
       "      <td>Ekinsu</td>\n",
       "      <td>52.5</td>\n",
       "      <td>160</td>\n",
       "    </tr>\n",
       "    <tr>\n",
       "      <th>4</th>\n",
       "      <td>Berke Kaan</td>\n",
       "      <td>85.0</td>\n",
       "      <td>187</td>\n",
       "    </tr>\n",
       "    <tr>\n",
       "      <th>5</th>\n",
       "      <td>Ece Dilara</td>\n",
       "      <td>55.5</td>\n",
       "      <td>160</td>\n",
       "    </tr>\n",
       "    <tr>\n",
       "      <th>6</th>\n",
       "      <td>Yavuzhan</td>\n",
       "      <td>88.7</td>\n",
       "      <td>178</td>\n",
       "    </tr>\n",
       "    <tr>\n",
       "      <th>7</th>\n",
       "      <td>Muhammed Ali</td>\n",
       "      <td>80.4</td>\n",
       "      <td>179</td>\n",
       "    </tr>\n",
       "  </tbody>\n",
       "</table>\n",
       "</div>"
      ],
      "text/plain": [
       "personal informations          name  weight  height\n",
       "personal number                                    \n",
       "0                           Doğukan    75.2     170\n",
       "1                            Atakan    66.8     170\n",
       "2                         Hazal Asu    23.2     135\n",
       "3                            Ekinsu    52.5     160\n",
       "4                        Berke Kaan    85.0     187\n",
       "5                        Ece Dilara    55.5     160\n",
       "6                          Yavuzhan    88.7     178\n",
       "7                      Muhammed Ali    80.4     179"
      ]
     },
     "execution_count": 57,
     "metadata": {},
     "output_type": "execute_result"
    }
   ],
   "source": [
    "df2.columns.name = \"personal informations\"\n",
    "df2"
   ]
  },
  {
   "cell_type": "code",
   "execution_count": 58,
   "id": "bb96f76e-1624-4644-ba8d-f317f2e7355e",
   "metadata": {},
   "outputs": [
    {
     "data": {
      "text/plain": [
       "array([['Doğukan', 75.4, 170],\n",
       "       ['Atakan', 66.8, 170],\n",
       "       ['Hazal Asu', 23.2, 135],\n",
       "       ['Ekinsu', 52.5, 160],\n",
       "       ['Berke Kaan', 85.0, 187],\n",
       "       ['Ece Dilara', 55.5, 160],\n",
       "       ['Yavuzhan', 88.7, 178],\n",
       "       ['Muhammed Ali', 80.4, 179]], dtype=object)"
      ]
     },
     "execution_count": 58,
     "metadata": {},
     "output_type": "execute_result"
    }
   ],
   "source": [
    "df3.to_numpy() # return the data contained in the DataFrame as a two-dimensional ndarray"
   ]
  },
  {
   "cell_type": "markdown",
   "id": "956a7853-5c1f-4cc4-9ed3-328013cbc64a",
   "metadata": {
    "jp-MarkdownHeadingCollapsed": true
   },
   "source": [
    "### Index Objects"
   ]
  },
  {
   "cell_type": "code",
   "execution_count": 60,
   "id": "297277a5-d4bb-4357-98b3-6ea7f035d879",
   "metadata": {},
   "outputs": [],
   "source": [
    "myObj = pd.Series(np.arange(3), index=[\"a\",\"b\",\"c\"])\n",
    "index = myObj.index"
   ]
  },
  {
   "cell_type": "code",
   "execution_count": 61,
   "id": "84d459e3-fac8-4de2-bb1b-774f259b92f9",
   "metadata": {},
   "outputs": [
    {
     "data": {
      "text/plain": [
       "Index(['a', 'b', 'c'], dtype='object')"
      ]
     },
     "execution_count": 61,
     "metadata": {},
     "output_type": "execute_result"
    }
   ],
   "source": [
    "index"
   ]
  },
  {
   "cell_type": "code",
   "execution_count": 62,
   "id": "ad4412bf-d75d-43fb-aba8-0de11c81073f",
   "metadata": {},
   "outputs": [
    {
     "data": {
      "text/plain": [
       "Index(['b', 'c'], dtype='object')"
      ]
     },
     "execution_count": 62,
     "metadata": {},
     "output_type": "execute_result"
    }
   ],
   "source": [
    "index[1:]"
   ]
  },
  {
   "cell_type": "code",
   "execution_count": 63,
   "id": "9b562dda-0d44-4666-b3c7-02e836b3ee73",
   "metadata": {},
   "outputs": [],
   "source": [
    "# index[0] = \"d\" # index objects are immutable and thus cannot be modified by the user. Immutability makes it safer to share Index objects among data structures."
   ]
  },
  {
   "cell_type": "code",
   "execution_count": 64,
   "id": "d6e77155-7fae-46a8-a585-26122123e087",
   "metadata": {},
   "outputs": [
    {
     "data": {
      "text/plain": [
       "Index([0, 1, 2], dtype='int32')"
      ]
     },
     "execution_count": 64,
     "metadata": {},
     "output_type": "execute_result"
    }
   ],
   "source": [
    "labels = pd.Index(np.arange(3))\n",
    "labels"
   ]
  },
  {
   "cell_type": "code",
   "execution_count": 65,
   "id": "9aef4ce8-2d3a-4310-9a27-23eb0e376fb6",
   "metadata": {},
   "outputs": [
    {
     "data": {
      "text/plain": [
       "0    1.5\n",
       "1   -2.5\n",
       "2    0.0\n",
       "dtype: float64"
      ]
     },
     "execution_count": 65,
     "metadata": {},
     "output_type": "execute_result"
    }
   ],
   "source": [
    "myObj2 = pd.Series([1.5, -2.5, 0], index=labels)\n",
    "myObj2"
   ]
  },
  {
   "cell_type": "code",
   "execution_count": 66,
   "id": "e32d3083-2b90-4469-9630-aaa9185f6507",
   "metadata": {},
   "outputs": [
    {
     "data": {
      "text/plain": [
       "True"
      ]
     },
     "execution_count": 66,
     "metadata": {},
     "output_type": "execute_result"
    }
   ],
   "source": [
    "myObj2.index is labels"
   ]
  },
  {
   "cell_type": "code",
   "execution_count": 67,
   "id": "01edc298-23ce-42c4-97f3-178f0944e21c",
   "metadata": {},
   "outputs": [
    {
     "data": {
      "text/html": [
       "<div>\n",
       "<style scoped>\n",
       "    .dataframe tbody tr th:only-of-type {\n",
       "        vertical-align: middle;\n",
       "    }\n",
       "\n",
       "    .dataframe tbody tr th {\n",
       "        vertical-align: top;\n",
       "    }\n",
       "\n",
       "    .dataframe thead th {\n",
       "        text-align: right;\n",
       "    }\n",
       "</style>\n",
       "<table border=\"1\" class=\"dataframe\">\n",
       "  <thead>\n",
       "    <tr style=\"text-align: right;\">\n",
       "      <th></th>\n",
       "      <th>name</th>\n",
       "      <th>height</th>\n",
       "      <th>weight</th>\n",
       "    </tr>\n",
       "  </thead>\n",
       "  <tbody>\n",
       "    <tr>\n",
       "      <th>0</th>\n",
       "      <td>Doğukan</td>\n",
       "      <td>170</td>\n",
       "      <td>75.4</td>\n",
       "    </tr>\n",
       "    <tr>\n",
       "      <th>1</th>\n",
       "      <td>Atakan</td>\n",
       "      <td>170</td>\n",
       "      <td>66.8</td>\n",
       "    </tr>\n",
       "    <tr>\n",
       "      <th>2</th>\n",
       "      <td>Hazal Asu</td>\n",
       "      <td>135</td>\n",
       "      <td>23.2</td>\n",
       "    </tr>\n",
       "    <tr>\n",
       "      <th>3</th>\n",
       "      <td>Ekinsu</td>\n",
       "      <td>160</td>\n",
       "      <td>52.5</td>\n",
       "    </tr>\n",
       "    <tr>\n",
       "      <th>4</th>\n",
       "      <td>Berke Kaan</td>\n",
       "      <td>187</td>\n",
       "      <td>85.0</td>\n",
       "    </tr>\n",
       "    <tr>\n",
       "      <th>5</th>\n",
       "      <td>Ece Dilara</td>\n",
       "      <td>160</td>\n",
       "      <td>55.5</td>\n",
       "    </tr>\n",
       "    <tr>\n",
       "      <th>6</th>\n",
       "      <td>Yavuzhan</td>\n",
       "      <td>178</td>\n",
       "      <td>88.7</td>\n",
       "    </tr>\n",
       "    <tr>\n",
       "      <th>7</th>\n",
       "      <td>Muhammed Ali</td>\n",
       "      <td>179</td>\n",
       "      <td>80.4</td>\n",
       "    </tr>\n",
       "  </tbody>\n",
       "</table>\n",
       "</div>"
      ],
      "text/plain": [
       "           name  height  weight\n",
       "0       Doğukan     170    75.4\n",
       "1        Atakan     170    66.8\n",
       "2     Hazal Asu     135    23.2\n",
       "3        Ekinsu     160    52.5\n",
       "4    Berke Kaan     187    85.0\n",
       "5    Ece Dilara     160    55.5\n",
       "6      Yavuzhan     178    88.7\n",
       "7  Muhammed Ali     179    80.4"
      ]
     },
     "execution_count": 67,
     "metadata": {},
     "output_type": "execute_result"
    }
   ],
   "source": [
    "df1"
   ]
  },
  {
   "cell_type": "code",
   "execution_count": 68,
   "id": "da615244-f234-4c8f-8d60-22ae5d6dc81e",
   "metadata": {},
   "outputs": [
    {
     "data": {
      "text/plain": [
       "True"
      ]
     },
     "execution_count": 68,
     "metadata": {},
     "output_type": "execute_result"
    }
   ],
   "source": [
    "\"name\" in df1.columns"
   ]
  },
  {
   "cell_type": "code",
   "execution_count": 69,
   "id": "d75b2258-2d54-4735-93fc-4a63f2d0f6d0",
   "metadata": {},
   "outputs": [
    {
     "data": {
      "text/html": [
       "<div>\n",
       "<style scoped>\n",
       "    .dataframe tbody tr th:only-of-type {\n",
       "        vertical-align: middle;\n",
       "    }\n",
       "\n",
       "    .dataframe tbody tr th {\n",
       "        vertical-align: top;\n",
       "    }\n",
       "\n",
       "    .dataframe thead th {\n",
       "        text-align: right;\n",
       "    }\n",
       "</style>\n",
       "<table border=\"1\" class=\"dataframe\">\n",
       "  <thead>\n",
       "    <tr style=\"text-align: right;\">\n",
       "      <th></th>\n",
       "      <th>İstanbul</th>\n",
       "      <th>Krakow</th>\n",
       "    </tr>\n",
       "  </thead>\n",
       "  <tbody>\n",
       "    <tr>\n",
       "      <th>2000</th>\n",
       "      <td>10000000</td>\n",
       "      <td>300000</td>\n",
       "    </tr>\n",
       "    <tr>\n",
       "      <th>2015</th>\n",
       "      <td>15000000</td>\n",
       "      <td>700000</td>\n",
       "    </tr>\n",
       "    <tr>\n",
       "      <th>2025</th>\n",
       "      <td>20000000</td>\n",
       "      <td>1800000</td>\n",
       "    </tr>\n",
       "  </tbody>\n",
       "</table>\n",
       "</div>"
      ],
      "text/plain": [
       "      İstanbul   Krakow\n",
       "2000  10000000   300000\n",
       "2015  15000000   700000\n",
       "2025  20000000  1800000"
      ]
     },
     "execution_count": 69,
     "metadata": {},
     "output_type": "execute_result"
    }
   ],
   "source": [
    "df4"
   ]
  },
  {
   "cell_type": "code",
   "execution_count": 70,
   "id": "ed42b07e-eb3b-46f0-ad49-3a89ef8759a6",
   "metadata": {},
   "outputs": [
    {
     "data": {
      "text/plain": [
       "True"
      ]
     },
     "execution_count": 70,
     "metadata": {},
     "output_type": "execute_result"
    }
   ],
   "source": [
    "2000 in df4.index"
   ]
  },
  {
   "cell_type": "code",
   "execution_count": 71,
   "id": "1f27250f-3d05-4e6b-9f0e-64850909af3f",
   "metadata": {},
   "outputs": [
    {
     "data": {
      "text/plain": [
       "False"
      ]
     },
     "execution_count": 71,
     "metadata": {},
     "output_type": "execute_result"
    }
   ],
   "source": [
    "\"2000\" in df4.index"
   ]
  },
  {
   "cell_type": "code",
   "execution_count": 72,
   "id": "7dd0c8ed-0da0-4528-b5a3-d3c195956f30",
   "metadata": {},
   "outputs": [
    {
     "data": {
      "text/plain": [
       "Index(['doğukan', 'atakan', 'hazal asu', 'doğukan'], dtype='object')"
      ]
     },
     "execution_count": 72,
     "metadata": {},
     "output_type": "execute_result"
    }
   ],
   "source": [
    "pd.Index([\"doğukan\", \"atakan\", \"hazal asu\", \"doğukan\"]) # unlike Python sets, a pandas Index can contain duplicate labels.\n",
    "\n",
    "# and selection with duplicate labels will select all occurences of that label."
   ]
  },
  {
   "cell_type": "code",
   "execution_count": 73,
   "id": "0a705527-b9d5-44e7-b7da-be9bdaee72dd",
   "metadata": {},
   "outputs": [],
   "source": [
    "# some useful index methods and properties: \n",
    "# append(), difference(), intersection(), union(), isin(), delete(), drop(), insert(), is_monotonic, is_unique, unique()"
   ]
  },
  {
   "cell_type": "markdown",
   "id": "a48ab830-5ef6-41a7-b59a-edf9776fe799",
   "metadata": {},
   "source": [
    "## Essential Functionality"
   ]
  },
  {
   "cell_type": "markdown",
   "id": "392a9d93-8948-4552-8bd0-69b54b87d20e",
   "metadata": {
    "jp-MarkdownHeadingCollapsed": true
   },
   "source": [
    "### Reindexing"
   ]
  },
  {
   "cell_type": "code",
   "execution_count": 146,
   "id": "16a79c4e-b602-4fb9-a0c3-d8a1c874edce",
   "metadata": {},
   "outputs": [
    {
     "data": {
      "text/plain": [
       "d    4.5\n",
       "b    7.2\n",
       "a   -5.3\n",
       "c    3.6\n",
       "dtype: float64"
      ]
     },
     "execution_count": 146,
     "metadata": {},
     "output_type": "execute_result"
    }
   ],
   "source": [
    "obj = pd.Series([4.5, 7.2, -5.3, 3.6], index=[\"d\", \"b\", \"a\", \"c\"])\n",
    "obj"
   ]
  },
  {
   "cell_type": "code",
   "execution_count": 148,
   "id": "fc465fa0-705a-476e-a4d6-27090f036e63",
   "metadata": {},
   "outputs": [
    {
     "data": {
      "text/plain": [
       "a   -5.3\n",
       "b    7.2\n",
       "c    3.6\n",
       "d    4.5\n",
       "e    NaN\n",
       "dtype: float64"
      ]
     },
     "execution_count": 148,
     "metadata": {},
     "output_type": "execute_result"
    }
   ],
   "source": [
    "obj2 = obj.reindex([\"a\", \"b\", \"c\", \"d\", \"e\"])\n",
    "obj2"
   ]
  },
  {
   "cell_type": "code",
   "execution_count": 150,
   "id": "46f227a5-87ac-4157-90a9-f308f38557a6",
   "metadata": {},
   "outputs": [
    {
     "data": {
      "text/plain": [
       "0      blue\n",
       "2    purple\n",
       "4    yellow\n",
       "dtype: object"
      ]
     },
     "execution_count": 150,
     "metadata": {},
     "output_type": "execute_result"
    }
   ],
   "source": [
    "obj3 = pd.Series([\"blue\", \"purple\", \"yellow\"], index=[0, 2, 4])\n",
    "obj3"
   ]
  },
  {
   "cell_type": "code",
   "execution_count": 168,
   "id": "74ba81d8-ee49-42d3-8ed3-788a9081f761",
   "metadata": {},
   "outputs": [
    {
     "data": {
      "text/plain": [
       "0      blue\n",
       "1      blue\n",
       "2    purple\n",
       "3    purple\n",
       "4    yellow\n",
       "5    yellow\n",
       "dtype: object"
      ]
     },
     "execution_count": 168,
     "metadata": {},
     "output_type": "execute_result"
    }
   ],
   "source": [
    "obj3.reindex(np.arange(6), method=\"ffill\") # other method is bfill (fill backward)"
   ]
  },
  {
   "cell_type": "code",
   "execution_count": 170,
   "id": "dff6e60b-22d7-42ed-bb00-19684a0214ec",
   "metadata": {},
   "outputs": [
    {
     "data": {
      "text/html": [
       "<div>\n",
       "<style scoped>\n",
       "    .dataframe tbody tr th:only-of-type {\n",
       "        vertical-align: middle;\n",
       "    }\n",
       "\n",
       "    .dataframe tbody tr th {\n",
       "        vertical-align: top;\n",
       "    }\n",
       "\n",
       "    .dataframe thead th {\n",
       "        text-align: right;\n",
       "    }\n",
       "</style>\n",
       "<table border=\"1\" class=\"dataframe\">\n",
       "  <thead>\n",
       "    <tr style=\"text-align: right;\">\n",
       "      <th></th>\n",
       "      <th>Ohio</th>\n",
       "      <th>Texas</th>\n",
       "      <th>California</th>\n",
       "    </tr>\n",
       "  </thead>\n",
       "  <tbody>\n",
       "    <tr>\n",
       "      <th>a</th>\n",
       "      <td>0</td>\n",
       "      <td>1</td>\n",
       "      <td>2</td>\n",
       "    </tr>\n",
       "    <tr>\n",
       "      <th>b</th>\n",
       "      <td>3</td>\n",
       "      <td>4</td>\n",
       "      <td>5</td>\n",
       "    </tr>\n",
       "    <tr>\n",
       "      <th>c</th>\n",
       "      <td>6</td>\n",
       "      <td>7</td>\n",
       "      <td>8</td>\n",
       "    </tr>\n",
       "  </tbody>\n",
       "</table>\n",
       "</div>"
      ],
      "text/plain": [
       "   Ohio  Texas  California\n",
       "a     0      1           2\n",
       "b     3      4           5\n",
       "c     6      7           8"
      ]
     },
     "execution_count": 170,
     "metadata": {},
     "output_type": "execute_result"
    }
   ],
   "source": [
    "df = pd.DataFrame(np.arange(9).reshape((3, 3)), index=[\"a\", \"b\", \"c\"], columns=[\"Ohio\", \"Texas\", \"California\"])\n",
    "df"
   ]
  },
  {
   "cell_type": "code",
   "execution_count": 172,
   "id": "e164ddc2-0640-429b-8fc5-c3efe8f0b9dd",
   "metadata": {},
   "outputs": [
    {
     "data": {
      "text/html": [
       "<div>\n",
       "<style scoped>\n",
       "    .dataframe tbody tr th:only-of-type {\n",
       "        vertical-align: middle;\n",
       "    }\n",
       "\n",
       "    .dataframe tbody tr th {\n",
       "        vertical-align: top;\n",
       "    }\n",
       "\n",
       "    .dataframe thead th {\n",
       "        text-align: right;\n",
       "    }\n",
       "</style>\n",
       "<table border=\"1\" class=\"dataframe\">\n",
       "  <thead>\n",
       "    <tr style=\"text-align: right;\">\n",
       "      <th></th>\n",
       "      <th>Ohio</th>\n",
       "      <th>Texas</th>\n",
       "      <th>California</th>\n",
       "    </tr>\n",
       "  </thead>\n",
       "  <tbody>\n",
       "    <tr>\n",
       "      <th>a</th>\n",
       "      <td>0.0</td>\n",
       "      <td>1.0</td>\n",
       "      <td>2.0</td>\n",
       "    </tr>\n",
       "    <tr>\n",
       "      <th>b</th>\n",
       "      <td>3.0</td>\n",
       "      <td>4.0</td>\n",
       "      <td>5.0</td>\n",
       "    </tr>\n",
       "    <tr>\n",
       "      <th>c</th>\n",
       "      <td>6.0</td>\n",
       "      <td>7.0</td>\n",
       "      <td>8.0</td>\n",
       "    </tr>\n",
       "    <tr>\n",
       "      <th>d</th>\n",
       "      <td>NaN</td>\n",
       "      <td>NaN</td>\n",
       "      <td>NaN</td>\n",
       "    </tr>\n",
       "  </tbody>\n",
       "</table>\n",
       "</div>"
      ],
      "text/plain": [
       "   Ohio  Texas  California\n",
       "a   0.0    1.0         2.0\n",
       "b   3.0    4.0         5.0\n",
       "c   6.0    7.0         8.0\n",
       "d   NaN    NaN         NaN"
      ]
     },
     "execution_count": 172,
     "metadata": {},
     "output_type": "execute_result"
    }
   ],
   "source": [
    "df2 = df.reindex(index=[\"a\", \"b\", \"c\", \"d\"])\n",
    "df2"
   ]
  },
  {
   "cell_type": "code",
   "execution_count": 174,
   "id": "524d68c4-49d7-4548-9aef-d64f62893ede",
   "metadata": {},
   "outputs": [
    {
     "data": {
      "text/html": [
       "<div>\n",
       "<style scoped>\n",
       "    .dataframe tbody tr th:only-of-type {\n",
       "        vertical-align: middle;\n",
       "    }\n",
       "\n",
       "    .dataframe tbody tr th {\n",
       "        vertical-align: top;\n",
       "    }\n",
       "\n",
       "    .dataframe thead th {\n",
       "        text-align: right;\n",
       "    }\n",
       "</style>\n",
       "<table border=\"1\" class=\"dataframe\">\n",
       "  <thead>\n",
       "    <tr style=\"text-align: right;\">\n",
       "      <th></th>\n",
       "      <th>Texas</th>\n",
       "      <th>Utah</th>\n",
       "      <th>California</th>\n",
       "    </tr>\n",
       "  </thead>\n",
       "  <tbody>\n",
       "    <tr>\n",
       "      <th>a</th>\n",
       "      <td>1</td>\n",
       "      <td>NaN</td>\n",
       "      <td>2</td>\n",
       "    </tr>\n",
       "    <tr>\n",
       "      <th>b</th>\n",
       "      <td>4</td>\n",
       "      <td>NaN</td>\n",
       "      <td>5</td>\n",
       "    </tr>\n",
       "    <tr>\n",
       "      <th>c</th>\n",
       "      <td>7</td>\n",
       "      <td>NaN</td>\n",
       "      <td>8</td>\n",
       "    </tr>\n",
       "  </tbody>\n",
       "</table>\n",
       "</div>"
      ],
      "text/plain": [
       "   Texas  Utah  California\n",
       "a      1   NaN           2\n",
       "b      4   NaN           5\n",
       "c      7   NaN           8"
      ]
     },
     "execution_count": 174,
     "metadata": {},
     "output_type": "execute_result"
    }
   ],
   "source": [
    "states = [\"Texas\", \"Utah\", \"California\"]\n",
    "df.reindex(columns=states)"
   ]
  },
  {
   "cell_type": "code",
   "execution_count": 176,
   "id": "7a2c25c5-cb2d-455a-af73-124d2bc314a1",
   "metadata": {},
   "outputs": [
    {
     "data": {
      "text/html": [
       "<div>\n",
       "<style scoped>\n",
       "    .dataframe tbody tr th:only-of-type {\n",
       "        vertical-align: middle;\n",
       "    }\n",
       "\n",
       "    .dataframe tbody tr th {\n",
       "        vertical-align: top;\n",
       "    }\n",
       "\n",
       "    .dataframe thead th {\n",
       "        text-align: right;\n",
       "    }\n",
       "</style>\n",
       "<table border=\"1\" class=\"dataframe\">\n",
       "  <thead>\n",
       "    <tr style=\"text-align: right;\">\n",
       "      <th></th>\n",
       "      <th>Ohio</th>\n",
       "      <th>Texas</th>\n",
       "      <th>California</th>\n",
       "    </tr>\n",
       "  </thead>\n",
       "  <tbody>\n",
       "    <tr>\n",
       "      <th>a</th>\n",
       "      <td>0</td>\n",
       "      <td>1</td>\n",
       "      <td>2</td>\n",
       "    </tr>\n",
       "    <tr>\n",
       "      <th>b</th>\n",
       "      <td>3</td>\n",
       "      <td>4</td>\n",
       "      <td>5</td>\n",
       "    </tr>\n",
       "    <tr>\n",
       "      <th>c</th>\n",
       "      <td>6</td>\n",
       "      <td>7</td>\n",
       "      <td>8</td>\n",
       "    </tr>\n",
       "  </tbody>\n",
       "</table>\n",
       "</div>"
      ],
      "text/plain": [
       "   Ohio  Texas  California\n",
       "a     0      1           2\n",
       "b     3      4           5\n",
       "c     6      7           8"
      ]
     },
     "execution_count": 176,
     "metadata": {},
     "output_type": "execute_result"
    }
   ],
   "source": [
    "df"
   ]
  },
  {
   "cell_type": "code",
   "execution_count": 178,
   "id": "f854ecf7-561a-4351-ac6b-74218af9e3a8",
   "metadata": {},
   "outputs": [
    {
     "data": {
      "text/html": [
       "<div>\n",
       "<style scoped>\n",
       "    .dataframe tbody tr th:only-of-type {\n",
       "        vertical-align: middle;\n",
       "    }\n",
       "\n",
       "    .dataframe tbody tr th {\n",
       "        vertical-align: top;\n",
       "    }\n",
       "\n",
       "    .dataframe thead th {\n",
       "        text-align: right;\n",
       "    }\n",
       "</style>\n",
       "<table border=\"1\" class=\"dataframe\">\n",
       "  <thead>\n",
       "    <tr style=\"text-align: right;\">\n",
       "      <th></th>\n",
       "      <th>Texas</th>\n",
       "      <th>Utah</th>\n",
       "      <th>California</th>\n",
       "    </tr>\n",
       "  </thead>\n",
       "  <tbody>\n",
       "    <tr>\n",
       "      <th>a</th>\n",
       "      <td>1</td>\n",
       "      <td>NaN</td>\n",
       "      <td>2</td>\n",
       "    </tr>\n",
       "    <tr>\n",
       "      <th>b</th>\n",
       "      <td>4</td>\n",
       "      <td>NaN</td>\n",
       "      <td>5</td>\n",
       "    </tr>\n",
       "    <tr>\n",
       "      <th>c</th>\n",
       "      <td>7</td>\n",
       "      <td>NaN</td>\n",
       "      <td>8</td>\n",
       "    </tr>\n",
       "  </tbody>\n",
       "</table>\n",
       "</div>"
      ],
      "text/plain": [
       "   Texas  Utah  California\n",
       "a      1   NaN           2\n",
       "b      4   NaN           5\n",
       "c      7   NaN           8"
      ]
     },
     "execution_count": 178,
     "metadata": {},
     "output_type": "execute_result"
    }
   ],
   "source": [
    "df.reindex(states, axis=\"columns\")"
   ]
  },
  {
   "cell_type": "code",
   "execution_count": 180,
   "id": "575fffbc-1735-4f4d-8c36-e80404a068b6",
   "metadata": {},
   "outputs": [
    {
     "data": {
      "text/html": [
       "<div>\n",
       "<style scoped>\n",
       "    .dataframe tbody tr th:only-of-type {\n",
       "        vertical-align: middle;\n",
       "    }\n",
       "\n",
       "    .dataframe tbody tr th {\n",
       "        vertical-align: top;\n",
       "    }\n",
       "\n",
       "    .dataframe thead th {\n",
       "        text-align: right;\n",
       "    }\n",
       "</style>\n",
       "<table border=\"1\" class=\"dataframe\">\n",
       "  <thead>\n",
       "    <tr style=\"text-align: right;\">\n",
       "      <th></th>\n",
       "      <th>Ohio</th>\n",
       "      <th>Texas</th>\n",
       "      <th>California</th>\n",
       "    </tr>\n",
       "  </thead>\n",
       "  <tbody>\n",
       "    <tr>\n",
       "      <th>Texas</th>\n",
       "      <td>NaN</td>\n",
       "      <td>NaN</td>\n",
       "      <td>NaN</td>\n",
       "    </tr>\n",
       "    <tr>\n",
       "      <th>Utah</th>\n",
       "      <td>NaN</td>\n",
       "      <td>NaN</td>\n",
       "      <td>NaN</td>\n",
       "    </tr>\n",
       "    <tr>\n",
       "      <th>California</th>\n",
       "      <td>NaN</td>\n",
       "      <td>NaN</td>\n",
       "      <td>NaN</td>\n",
       "    </tr>\n",
       "  </tbody>\n",
       "</table>\n",
       "</div>"
      ],
      "text/plain": [
       "            Ohio  Texas  California\n",
       "Texas        NaN    NaN         NaN\n",
       "Utah         NaN    NaN         NaN\n",
       "California   NaN    NaN         NaN"
      ]
     },
     "execution_count": 180,
     "metadata": {},
     "output_type": "execute_result"
    }
   ],
   "source": [
    "df.reindex(states, axis=\"rows\")"
   ]
  },
  {
   "cell_type": "code",
   "execution_count": 190,
   "id": "e8f34fcd-b335-4fb8-bbb2-7923164ba3e4",
   "metadata": {},
   "outputs": [
    {
     "data": {
      "text/html": [
       "<div>\n",
       "<style scoped>\n",
       "    .dataframe tbody tr th:only-of-type {\n",
       "        vertical-align: middle;\n",
       "    }\n",
       "\n",
       "    .dataframe tbody tr th {\n",
       "        vertical-align: top;\n",
       "    }\n",
       "\n",
       "    .dataframe thead th {\n",
       "        text-align: right;\n",
       "    }\n",
       "</style>\n",
       "<table border=\"1\" class=\"dataframe\">\n",
       "  <thead>\n",
       "    <tr style=\"text-align: right;\">\n",
       "      <th></th>\n",
       "      <th>California</th>\n",
       "      <th>Texas</th>\n",
       "      <th>Ohio</th>\n",
       "    </tr>\n",
       "  </thead>\n",
       "  <tbody>\n",
       "    <tr>\n",
       "      <th>c</th>\n",
       "      <td>8</td>\n",
       "      <td>7</td>\n",
       "      <td>6</td>\n",
       "    </tr>\n",
       "    <tr>\n",
       "      <th>b</th>\n",
       "      <td>5</td>\n",
       "      <td>4</td>\n",
       "      <td>3</td>\n",
       "    </tr>\n",
       "    <tr>\n",
       "      <th>a</th>\n",
       "      <td>2</td>\n",
       "      <td>1</td>\n",
       "      <td>0</td>\n",
       "    </tr>\n",
       "  </tbody>\n",
       "</table>\n",
       "</div>"
      ],
      "text/plain": [
       "   California  Texas  Ohio\n",
       "c           8      7     6\n",
       "b           5      4     3\n",
       "a           2      1     0"
      ]
     },
     "execution_count": 190,
     "metadata": {},
     "output_type": "execute_result"
    }
   ],
   "source": [
    "df.loc[[\"c\",\"b\",\"a\"], [\"California\", \"Texas\", \"Ohio\"]]"
   ]
  },
  {
   "cell_type": "markdown",
   "id": "dee5af43-cc12-46f2-9b90-ccba7d1230f5",
   "metadata": {
    "jp-MarkdownHeadingCollapsed": true
   },
   "source": [
    "### Dropping Entries from an Axis"
   ]
  },
  {
   "cell_type": "code",
   "execution_count": 193,
   "id": "6e1696b1-6723-4516-88ce-c90002a74c64",
   "metadata": {},
   "outputs": [
    {
     "data": {
      "text/plain": [
       "a    0.0\n",
       "b    1.0\n",
       "c    2.0\n",
       "d    3.0\n",
       "e    4.0\n",
       "dtype: float64"
      ]
     },
     "execution_count": 193,
     "metadata": {},
     "output_type": "execute_result"
    }
   ],
   "source": [
    "obj = pd.Series(np.arange(5.), index=[\"a\", \"b\", \"c\", \"d\", \"e\"])\n",
    "obj"
   ]
  },
  {
   "cell_type": "code",
   "execution_count": 195,
   "id": "d5a93493-0d96-40bd-ae16-d663727e4437",
   "metadata": {},
   "outputs": [
    {
     "data": {
      "text/plain": [
       "a    0.0\n",
       "b    1.0\n",
       "d    3.0\n",
       "e    4.0\n",
       "dtype: float64"
      ]
     },
     "execution_count": 195,
     "metadata": {},
     "output_type": "execute_result"
    }
   ],
   "source": [
    "new_obj = obj.drop(\"c\")\n",
    "new_obj"
   ]
  },
  {
   "cell_type": "code",
   "execution_count": 197,
   "id": "660bd06d-2b28-4857-b82a-4d16abed8701",
   "metadata": {},
   "outputs": [
    {
     "data": {
      "text/plain": [
       "a    0.0\n",
       "b    1.0\n",
       "e    4.0\n",
       "dtype: float64"
      ]
     },
     "execution_count": 197,
     "metadata": {},
     "output_type": "execute_result"
    }
   ],
   "source": [
    "obj.drop([\"d\",\"c\"])"
   ]
  },
  {
   "cell_type": "code",
   "execution_count": 199,
   "id": "ac59b2c1-96b0-411e-8114-5b1d66bcc1be",
   "metadata": {},
   "outputs": [
    {
     "data": {
      "text/html": [
       "<div>\n",
       "<style scoped>\n",
       "    .dataframe tbody tr th:only-of-type {\n",
       "        vertical-align: middle;\n",
       "    }\n",
       "\n",
       "    .dataframe tbody tr th {\n",
       "        vertical-align: top;\n",
       "    }\n",
       "\n",
       "    .dataframe thead th {\n",
       "        text-align: right;\n",
       "    }\n",
       "</style>\n",
       "<table border=\"1\" class=\"dataframe\">\n",
       "  <thead>\n",
       "    <tr style=\"text-align: right;\">\n",
       "      <th></th>\n",
       "      <th>name</th>\n",
       "      <th>height</th>\n",
       "      <th>weight</th>\n",
       "    </tr>\n",
       "  </thead>\n",
       "  <tbody>\n",
       "    <tr>\n",
       "      <th>0</th>\n",
       "      <td>Doğukan</td>\n",
       "      <td>170</td>\n",
       "      <td>75.4</td>\n",
       "    </tr>\n",
       "    <tr>\n",
       "      <th>1</th>\n",
       "      <td>Atakan</td>\n",
       "      <td>170</td>\n",
       "      <td>66.8</td>\n",
       "    </tr>\n",
       "    <tr>\n",
       "      <th>2</th>\n",
       "      <td>Hazal Asu</td>\n",
       "      <td>135</td>\n",
       "      <td>23.2</td>\n",
       "    </tr>\n",
       "    <tr>\n",
       "      <th>3</th>\n",
       "      <td>Ekinsu</td>\n",
       "      <td>160</td>\n",
       "      <td>52.5</td>\n",
       "    </tr>\n",
       "    <tr>\n",
       "      <th>4</th>\n",
       "      <td>Berke Kaan</td>\n",
       "      <td>187</td>\n",
       "      <td>85.0</td>\n",
       "    </tr>\n",
       "    <tr>\n",
       "      <th>5</th>\n",
       "      <td>Ece Dilara</td>\n",
       "      <td>160</td>\n",
       "      <td>55.5</td>\n",
       "    </tr>\n",
       "    <tr>\n",
       "      <th>6</th>\n",
       "      <td>Yavuzhan</td>\n",
       "      <td>178</td>\n",
       "      <td>88.7</td>\n",
       "    </tr>\n",
       "    <tr>\n",
       "      <th>7</th>\n",
       "      <td>Muhammed Ali</td>\n",
       "      <td>179</td>\n",
       "      <td>80.4</td>\n",
       "    </tr>\n",
       "  </tbody>\n",
       "</table>\n",
       "</div>"
      ],
      "text/plain": [
       "           name  height  weight\n",
       "0       Doğukan     170    75.4\n",
       "1        Atakan     170    66.8\n",
       "2     Hazal Asu     135    23.2\n",
       "3        Ekinsu     160    52.5\n",
       "4    Berke Kaan     187    85.0\n",
       "5    Ece Dilara     160    55.5\n",
       "6      Yavuzhan     178    88.7\n",
       "7  Muhammed Ali     179    80.4"
      ]
     },
     "execution_count": 199,
     "metadata": {},
     "output_type": "execute_result"
    }
   ],
   "source": [
    "df = pd.DataFrame(data)\n",
    "df"
   ]
  },
  {
   "cell_type": "code",
   "execution_count": 203,
   "id": "3f2f6e31-4714-4468-813c-68b9251dfbd5",
   "metadata": {
    "scrolled": true
   },
   "outputs": [
    {
     "data": {
      "text/html": [
       "<div>\n",
       "<style scoped>\n",
       "    .dataframe tbody tr th:only-of-type {\n",
       "        vertical-align: middle;\n",
       "    }\n",
       "\n",
       "    .dataframe tbody tr th {\n",
       "        vertical-align: top;\n",
       "    }\n",
       "\n",
       "    .dataframe thead th {\n",
       "        text-align: right;\n",
       "    }\n",
       "</style>\n",
       "<table border=\"1\" class=\"dataframe\">\n",
       "  <thead>\n",
       "    <tr style=\"text-align: right;\">\n",
       "      <th></th>\n",
       "      <th>name</th>\n",
       "      <th>height</th>\n",
       "      <th>weight</th>\n",
       "    </tr>\n",
       "  </thead>\n",
       "  <tbody>\n",
       "    <tr>\n",
       "      <th>0</th>\n",
       "      <td>Doğukan</td>\n",
       "      <td>170</td>\n",
       "      <td>75.4</td>\n",
       "    </tr>\n",
       "    <tr>\n",
       "      <th>1</th>\n",
       "      <td>Atakan</td>\n",
       "      <td>170</td>\n",
       "      <td>66.8</td>\n",
       "    </tr>\n",
       "    <tr>\n",
       "      <th>2</th>\n",
       "      <td>Hazal Asu</td>\n",
       "      <td>135</td>\n",
       "      <td>23.2</td>\n",
       "    </tr>\n",
       "    <tr>\n",
       "      <th>3</th>\n",
       "      <td>Ekinsu</td>\n",
       "      <td>160</td>\n",
       "      <td>52.5</td>\n",
       "    </tr>\n",
       "    <tr>\n",
       "      <th>6</th>\n",
       "      <td>Yavuzhan</td>\n",
       "      <td>178</td>\n",
       "      <td>88.7</td>\n",
       "    </tr>\n",
       "  </tbody>\n",
       "</table>\n",
       "</div>"
      ],
      "text/plain": [
       "        name  height  weight\n",
       "0    Doğukan     170    75.4\n",
       "1     Atakan     170    66.8\n",
       "2  Hazal Asu     135    23.2\n",
       "3     Ekinsu     160    52.5\n",
       "6   Yavuzhan     178    88.7"
      ]
     },
     "execution_count": 203,
     "metadata": {},
     "output_type": "execute_result"
    }
   ],
   "source": [
    "df.drop(index=[4, 5, 7])"
   ]
  },
  {
   "cell_type": "code",
   "execution_count": 211,
   "id": "2ffa24b0-fbd1-4e8d-9a9a-28ee3a8c6f8f",
   "metadata": {},
   "outputs": [
    {
     "data": {
      "text/html": [
       "<div>\n",
       "<style scoped>\n",
       "    .dataframe tbody tr th:only-of-type {\n",
       "        vertical-align: middle;\n",
       "    }\n",
       "\n",
       "    .dataframe tbody tr th {\n",
       "        vertical-align: top;\n",
       "    }\n",
       "\n",
       "    .dataframe thead th {\n",
       "        text-align: right;\n",
       "    }\n",
       "</style>\n",
       "<table border=\"1\" class=\"dataframe\">\n",
       "  <thead>\n",
       "    <tr style=\"text-align: right;\">\n",
       "      <th></th>\n",
       "      <th>name</th>\n",
       "      <th>height</th>\n",
       "      <th>weight</th>\n",
       "    </tr>\n",
       "  </thead>\n",
       "  <tbody>\n",
       "    <tr>\n",
       "      <th>3</th>\n",
       "      <td>Ekinsu</td>\n",
       "      <td>160</td>\n",
       "      <td>52.5</td>\n",
       "    </tr>\n",
       "    <tr>\n",
       "      <th>4</th>\n",
       "      <td>Berke Kaan</td>\n",
       "      <td>187</td>\n",
       "      <td>85.0</td>\n",
       "    </tr>\n",
       "    <tr>\n",
       "      <th>5</th>\n",
       "      <td>Ece Dilara</td>\n",
       "      <td>160</td>\n",
       "      <td>55.5</td>\n",
       "    </tr>\n",
       "    <tr>\n",
       "      <th>6</th>\n",
       "      <td>Yavuzhan</td>\n",
       "      <td>178</td>\n",
       "      <td>88.7</td>\n",
       "    </tr>\n",
       "    <tr>\n",
       "      <th>7</th>\n",
       "      <td>Muhammed Ali</td>\n",
       "      <td>179</td>\n",
       "      <td>80.4</td>\n",
       "    </tr>\n",
       "  </tbody>\n",
       "</table>\n",
       "</div>"
      ],
      "text/plain": [
       "           name  height  weight\n",
       "3        Ekinsu     160    52.5\n",
       "4    Berke Kaan     187    85.0\n",
       "5    Ece Dilara     160    55.5\n",
       "6      Yavuzhan     178    88.7\n",
       "7  Muhammed Ali     179    80.4"
      ]
     },
     "execution_count": 211,
     "metadata": {},
     "output_type": "execute_result"
    }
   ],
   "source": [
    "df.drop([0, 1, 2], axis=0) # you do not need to write axis=0 because it is default."
   ]
  },
  {
   "cell_type": "code",
   "execution_count": 205,
   "id": "2952642a-9afd-4a48-b66f-3518abd227c9",
   "metadata": {},
   "outputs": [
    {
     "data": {
      "text/html": [
       "<div>\n",
       "<style scoped>\n",
       "    .dataframe tbody tr th:only-of-type {\n",
       "        vertical-align: middle;\n",
       "    }\n",
       "\n",
       "    .dataframe tbody tr th {\n",
       "        vertical-align: top;\n",
       "    }\n",
       "\n",
       "    .dataframe thead th {\n",
       "        text-align: right;\n",
       "    }\n",
       "</style>\n",
       "<table border=\"1\" class=\"dataframe\">\n",
       "  <thead>\n",
       "    <tr style=\"text-align: right;\">\n",
       "      <th></th>\n",
       "      <th>name</th>\n",
       "      <th>weight</th>\n",
       "    </tr>\n",
       "  </thead>\n",
       "  <tbody>\n",
       "    <tr>\n",
       "      <th>0</th>\n",
       "      <td>Doğukan</td>\n",
       "      <td>75.4</td>\n",
       "    </tr>\n",
       "    <tr>\n",
       "      <th>1</th>\n",
       "      <td>Atakan</td>\n",
       "      <td>66.8</td>\n",
       "    </tr>\n",
       "    <tr>\n",
       "      <th>2</th>\n",
       "      <td>Hazal Asu</td>\n",
       "      <td>23.2</td>\n",
       "    </tr>\n",
       "    <tr>\n",
       "      <th>3</th>\n",
       "      <td>Ekinsu</td>\n",
       "      <td>52.5</td>\n",
       "    </tr>\n",
       "    <tr>\n",
       "      <th>4</th>\n",
       "      <td>Berke Kaan</td>\n",
       "      <td>85.0</td>\n",
       "    </tr>\n",
       "    <tr>\n",
       "      <th>5</th>\n",
       "      <td>Ece Dilara</td>\n",
       "      <td>55.5</td>\n",
       "    </tr>\n",
       "    <tr>\n",
       "      <th>6</th>\n",
       "      <td>Yavuzhan</td>\n",
       "      <td>88.7</td>\n",
       "    </tr>\n",
       "    <tr>\n",
       "      <th>7</th>\n",
       "      <td>Muhammed Ali</td>\n",
       "      <td>80.4</td>\n",
       "    </tr>\n",
       "  </tbody>\n",
       "</table>\n",
       "</div>"
      ],
      "text/plain": [
       "           name  weight\n",
       "0       Doğukan    75.4\n",
       "1        Atakan    66.8\n",
       "2     Hazal Asu    23.2\n",
       "3        Ekinsu    52.5\n",
       "4    Berke Kaan    85.0\n",
       "5    Ece Dilara    55.5\n",
       "6      Yavuzhan    88.7\n",
       "7  Muhammed Ali    80.4"
      ]
     },
     "execution_count": 205,
     "metadata": {},
     "output_type": "execute_result"
    }
   ],
   "source": [
    "df.drop(columns=[\"height\"])"
   ]
  },
  {
   "cell_type": "code",
   "execution_count": 213,
   "id": "378142ca-9112-4cf7-9e26-f1709cd78335",
   "metadata": {},
   "outputs": [
    {
     "data": {
      "text/html": [
       "<div>\n",
       "<style scoped>\n",
       "    .dataframe tbody tr th:only-of-type {\n",
       "        vertical-align: middle;\n",
       "    }\n",
       "\n",
       "    .dataframe tbody tr th {\n",
       "        vertical-align: top;\n",
       "    }\n",
       "\n",
       "    .dataframe thead th {\n",
       "        text-align: right;\n",
       "    }\n",
       "</style>\n",
       "<table border=\"1\" class=\"dataframe\">\n",
       "  <thead>\n",
       "    <tr style=\"text-align: right;\">\n",
       "      <th></th>\n",
       "      <th>name</th>\n",
       "      <th>height</th>\n",
       "    </tr>\n",
       "  </thead>\n",
       "  <tbody>\n",
       "    <tr>\n",
       "      <th>0</th>\n",
       "      <td>Doğukan</td>\n",
       "      <td>170</td>\n",
       "    </tr>\n",
       "    <tr>\n",
       "      <th>1</th>\n",
       "      <td>Atakan</td>\n",
       "      <td>170</td>\n",
       "    </tr>\n",
       "    <tr>\n",
       "      <th>2</th>\n",
       "      <td>Hazal Asu</td>\n",
       "      <td>135</td>\n",
       "    </tr>\n",
       "    <tr>\n",
       "      <th>3</th>\n",
       "      <td>Ekinsu</td>\n",
       "      <td>160</td>\n",
       "    </tr>\n",
       "    <tr>\n",
       "      <th>4</th>\n",
       "      <td>Berke Kaan</td>\n",
       "      <td>187</td>\n",
       "    </tr>\n",
       "    <tr>\n",
       "      <th>5</th>\n",
       "      <td>Ece Dilara</td>\n",
       "      <td>160</td>\n",
       "    </tr>\n",
       "    <tr>\n",
       "      <th>6</th>\n",
       "      <td>Yavuzhan</td>\n",
       "      <td>178</td>\n",
       "    </tr>\n",
       "    <tr>\n",
       "      <th>7</th>\n",
       "      <td>Muhammed Ali</td>\n",
       "      <td>179</td>\n",
       "    </tr>\n",
       "  </tbody>\n",
       "</table>\n",
       "</div>"
      ],
      "text/plain": [
       "           name  height\n",
       "0       Doğukan     170\n",
       "1        Atakan     170\n",
       "2     Hazal Asu     135\n",
       "3        Ekinsu     160\n",
       "4    Berke Kaan     187\n",
       "5    Ece Dilara     160\n",
       "6      Yavuzhan     178\n",
       "7  Muhammed Ali     179"
      ]
     },
     "execution_count": 213,
     "metadata": {},
     "output_type": "execute_result"
    }
   ],
   "source": [
    "df.drop([\"weight\"], axis=1)"
   ]
  },
  {
   "cell_type": "markdown",
   "id": "eb20bd95-493f-4229-aca3-5d9c82e69389",
   "metadata": {
    "jp-MarkdownHeadingCollapsed": true
   },
   "source": [
    "### Indexing, Selection, and Filtering"
   ]
  },
  {
   "cell_type": "code",
   "execution_count": 216,
   "id": "d78fc410-517f-418e-8c61-b397af50ed19",
   "metadata": {},
   "outputs": [
    {
     "data": {
      "text/plain": [
       "a    0.0\n",
       "b    1.0\n",
       "c    2.0\n",
       "d    3.0\n",
       "dtype: float64"
      ]
     },
     "execution_count": 216,
     "metadata": {},
     "output_type": "execute_result"
    }
   ],
   "source": [
    "obj = pd.Series(np.arange(4.), index=[\"a\", \"b\", \"c\", \"d\"])\n",
    "obj"
   ]
  },
  {
   "cell_type": "code",
   "execution_count": 218,
   "id": "92aceb5a-1ec8-45c6-8ec1-e567872b9773",
   "metadata": {},
   "outputs": [
    {
     "data": {
      "text/plain": [
       "1.0"
      ]
     },
     "execution_count": 218,
     "metadata": {},
     "output_type": "execute_result"
    }
   ],
   "source": [
    "obj[\"b\"]"
   ]
  },
  {
   "cell_type": "code",
   "execution_count": 220,
   "id": "3944728e-e438-42e8-9b71-d174228d763c",
   "metadata": {},
   "outputs": [
    {
     "name": "stderr",
     "output_type": "stream",
     "text": [
      "C:\\Users\\doguk\\AppData\\Local\\Temp\\ipykernel_2824\\2469632899.py:1: FutureWarning: Series.__getitem__ treating keys as positions is deprecated. In a future version, integer keys will always be treated as labels (consistent with DataFrame behavior). To access a value by position, use `ser.iloc[pos]`\n",
      "  obj[1]\n"
     ]
    },
    {
     "data": {
      "text/plain": [
       "1.0"
      ]
     },
     "execution_count": 220,
     "metadata": {},
     "output_type": "execute_result"
    }
   ],
   "source": [
    "obj[1]"
   ]
  },
  {
   "cell_type": "code",
   "execution_count": 224,
   "id": "148061bc-4dcd-414c-820f-074f878b30d5",
   "metadata": {},
   "outputs": [
    {
     "data": {
      "text/plain": [
       "b    1.0\n",
       "c    2.0\n",
       "dtype: float64"
      ]
     },
     "execution_count": 224,
     "metadata": {},
     "output_type": "execute_result"
    }
   ],
   "source": [
    "obj[1:3]"
   ]
  },
  {
   "cell_type": "code",
   "execution_count": 226,
   "id": "cabb2e73-179b-4051-a547-efd8b3496314",
   "metadata": {},
   "outputs": [
    {
     "data": {
      "text/plain": [
       "a    0.0\n",
       "d    3.0\n",
       "dtype: float64"
      ]
     },
     "execution_count": 226,
     "metadata": {},
     "output_type": "execute_result"
    }
   ],
   "source": [
    "obj[[\"a\",\"d\"]]"
   ]
  },
  {
   "cell_type": "code",
   "execution_count": 228,
   "id": "c2ae55bd-d874-426b-9bfc-4f7b4d4abe4a",
   "metadata": {},
   "outputs": [
    {
     "name": "stderr",
     "output_type": "stream",
     "text": [
      "C:\\Users\\doguk\\AppData\\Local\\Temp\\ipykernel_2824\\3463432521.py:1: FutureWarning: Series.__getitem__ treating keys as positions is deprecated. In a future version, integer keys will always be treated as labels (consistent with DataFrame behavior). To access a value by position, use `ser.iloc[pos]`\n",
      "  obj[[0, 1]]\n"
     ]
    },
    {
     "data": {
      "text/plain": [
       "a    0.0\n",
       "b    1.0\n",
       "dtype: float64"
      ]
     },
     "execution_count": 228,
     "metadata": {},
     "output_type": "execute_result"
    }
   ],
   "source": [
    "obj[[0, 1]]"
   ]
  },
  {
   "cell_type": "code",
   "execution_count": 230,
   "id": "92ab6c11-bf50-4fe5-aded-bcfec7c388e8",
   "metadata": {},
   "outputs": [
    {
     "data": {
      "text/plain": [
       "a    0.0\n",
       "b    1.0\n",
       "dtype: float64"
      ]
     },
     "execution_count": 230,
     "metadata": {},
     "output_type": "execute_result"
    }
   ],
   "source": [
    "obj[obj < 2]"
   ]
  },
  {
   "cell_type": "code",
   "execution_count": 232,
   "id": "e781d86c-2789-4956-9cf4-a7c86223fdc3",
   "metadata": {},
   "outputs": [
    {
     "data": {
      "text/plain": [
       "b    1.0\n",
       "a    0.0\n",
       "dtype: float64"
      ]
     },
     "execution_count": 232,
     "metadata": {},
     "output_type": "execute_result"
    }
   ],
   "source": [
    "obj.loc[[\"b\",\"a\"]] # preferred way to select index values"
   ]
  },
  {
   "cell_type": "code",
   "execution_count": 234,
   "id": "333a9c2a-155a-4f57-9e3d-60d219278672",
   "metadata": {},
   "outputs": [],
   "source": [
    "obj1 = pd.Series([1, 2, 3], index=[2, 0, 1])\n",
    "obj2 = pd.Series([1, 2, 3], index=[\"a\", \"b\", \"c\"])"
   ]
  },
  {
   "cell_type": "code",
   "execution_count": 236,
   "id": "019b1b98-4adc-4df5-8627-b878923fa290",
   "metadata": {},
   "outputs": [
    {
     "data": {
      "text/plain": [
       "2    1\n",
       "0    2\n",
       "1    3\n",
       "dtype: int64"
      ]
     },
     "execution_count": 236,
     "metadata": {},
     "output_type": "execute_result"
    }
   ],
   "source": [
    "obj1"
   ]
  },
  {
   "cell_type": "code",
   "execution_count": 238,
   "id": "bfa2d41d-ce81-4b9c-8659-8a678c50e011",
   "metadata": {},
   "outputs": [
    {
     "data": {
      "text/plain": [
       "a    1\n",
       "b    2\n",
       "c    3\n",
       "dtype: int64"
      ]
     },
     "execution_count": 238,
     "metadata": {},
     "output_type": "execute_result"
    }
   ],
   "source": [
    "obj2"
   ]
  },
  {
   "cell_type": "code",
   "execution_count": 252,
   "id": "7ade90bd-bb1c-41c7-aec8-f5dca3391ec2",
   "metadata": {},
   "outputs": [
    {
     "data": {
      "text/plain": [
       "0    2\n",
       "1    3\n",
       "2    1\n",
       "dtype: int64"
      ]
     },
     "execution_count": 252,
     "metadata": {},
     "output_type": "execute_result"
    }
   ],
   "source": [
    "obj1[[0, 1, 2]]"
   ]
  },
  {
   "cell_type": "code",
   "execution_count": 242,
   "id": "d8ea9fe5-da8a-4569-a220-5bf15ed376fc",
   "metadata": {},
   "outputs": [
    {
     "name": "stderr",
     "output_type": "stream",
     "text": [
      "C:\\Users\\doguk\\AppData\\Local\\Temp\\ipykernel_2824\\2599987575.py:1: FutureWarning: Series.__getitem__ treating keys as positions is deprecated. In a future version, integer keys will always be treated as labels (consistent with DataFrame behavior). To access a value by position, use `ser.iloc[pos]`\n",
      "  obj2[[0, 1, 2]]\n"
     ]
    },
    {
     "data": {
      "text/plain": [
       "a    1\n",
       "b    2\n",
       "c    3\n",
       "dtype: int64"
      ]
     },
     "execution_count": 242,
     "metadata": {},
     "output_type": "execute_result"
    }
   ],
   "source": [
    "obj2[[0, 1, 2]]"
   ]
  },
  {
   "cell_type": "code",
   "execution_count": 246,
   "id": "da5c9672-d587-450f-9d93-f91e47971368",
   "metadata": {},
   "outputs": [
    {
     "data": {
      "text/plain": [
       "a    0.0\n",
       "b    1.0\n",
       "c    2.0\n",
       "dtype: float64"
      ]
     },
     "execution_count": 246,
     "metadata": {},
     "output_type": "execute_result"
    }
   ],
   "source": [
    "# obj.loc[[0, 1, 2]] # will throw an error instead use obj.iloc[[0,1,2]]\n",
    "obj.iloc[[0,1,2]]"
   ]
  },
  {
   "cell_type": "code",
   "execution_count": 256,
   "id": "3fd61515-8028-47a7-9f81-93ac4083410c",
   "metadata": {},
   "outputs": [
    {
     "data": {
      "text/plain": [
       "0    2\n",
       "1    3\n",
       "2    1\n",
       "dtype: int64"
      ]
     },
     "execution_count": 256,
     "metadata": {},
     "output_type": "execute_result"
    }
   ],
   "source": [
    "obj1.loc[[0, 1, 2]]"
   ]
  },
  {
   "cell_type": "code",
   "execution_count": 258,
   "id": "024e751e-d5d9-4ada-962d-17e93c59e7e4",
   "metadata": {},
   "outputs": [
    {
     "data": {
      "text/plain": [
       "b    2\n",
       "c    3\n",
       "dtype: int64"
      ]
     },
     "execution_count": 258,
     "metadata": {},
     "output_type": "execute_result"
    }
   ],
   "source": [
    "obj2.loc[\"b\":\"c\"]"
   ]
  },
  {
   "cell_type": "code",
   "execution_count": 266,
   "id": "d29f72ee-11c3-4d34-af87-c70a32bc32ae",
   "metadata": {},
   "outputs": [],
   "source": [
    "# slicing by using loc is differently working than Python built-in slicing, the former works inclusively, latter is not."
   ]
  },
  {
   "cell_type": "code",
   "execution_count": 272,
   "id": "73a89096-317d-491b-94b3-38e6d331f87f",
   "metadata": {},
   "outputs": [
    {
     "data": {
      "text/plain": [
       "2    1\n",
       "0    2\n",
       "dtype: int64"
      ]
     },
     "execution_count": 272,
     "metadata": {},
     "output_type": "execute_result"
    }
   ],
   "source": [
    "obj1.loc[2:0]"
   ]
  },
  {
   "cell_type": "code",
   "execution_count": 274,
   "id": "07903941-0dcc-40a4-a55d-3cc5922bfd2e",
   "metadata": {},
   "outputs": [
    {
     "data": {
      "text/plain": [
       "2    1\n",
       "dtype: int64"
      ]
     },
     "execution_count": 274,
     "metadata": {},
     "output_type": "execute_result"
    }
   ],
   "source": [
    "obj1[0:1]"
   ]
  },
  {
   "cell_type": "code",
   "execution_count": 278,
   "id": "6a3b853e-8517-4be0-ba25-c4ce1438c589",
   "metadata": {},
   "outputs": [],
   "source": [
    "# modifying a part of series using loc"
   ]
  },
  {
   "cell_type": "code",
   "execution_count": 280,
   "id": "2bf58340-15e6-4003-aec3-b42f00fcedd4",
   "metadata": {},
   "outputs": [
    {
     "data": {
      "text/plain": [
       "2    1\n",
       "0    2\n",
       "1    3\n",
       "dtype: int64"
      ]
     },
     "execution_count": 280,
     "metadata": {},
     "output_type": "execute_result"
    }
   ],
   "source": [
    "obj1"
   ]
  },
  {
   "cell_type": "code",
   "execution_count": 282,
   "id": "71140b84-8aaf-4e51-8f4f-039eb366800f",
   "metadata": {},
   "outputs": [
    {
     "data": {
      "text/plain": [
       "2    7\n",
       "0    7\n",
       "1    3\n",
       "dtype: int64"
      ]
     },
     "execution_count": 282,
     "metadata": {},
     "output_type": "execute_result"
    }
   ],
   "source": [
    "obj1.loc[2:0] = 7\n",
    "obj1"
   ]
  },
  {
   "cell_type": "code",
   "execution_count": 286,
   "id": "419f753e-12df-4d15-9201-9b5e6bd7f85c",
   "metadata": {},
   "outputs": [],
   "source": [
    "# indexing into a data frame"
   ]
  },
  {
   "cell_type": "code",
   "execution_count": 288,
   "id": "1ac947cc-4b39-40fd-b71a-01336e0d9c98",
   "metadata": {},
   "outputs": [
    {
     "data": {
      "text/html": [
       "<div>\n",
       "<style scoped>\n",
       "    .dataframe tbody tr th:only-of-type {\n",
       "        vertical-align: middle;\n",
       "    }\n",
       "\n",
       "    .dataframe tbody tr th {\n",
       "        vertical-align: top;\n",
       "    }\n",
       "\n",
       "    .dataframe thead th {\n",
       "        text-align: right;\n",
       "    }\n",
       "</style>\n",
       "<table border=\"1\" class=\"dataframe\">\n",
       "  <thead>\n",
       "    <tr style=\"text-align: right;\">\n",
       "      <th></th>\n",
       "      <th>name</th>\n",
       "      <th>height</th>\n",
       "      <th>weight</th>\n",
       "    </tr>\n",
       "  </thead>\n",
       "  <tbody>\n",
       "    <tr>\n",
       "      <th>0</th>\n",
       "      <td>Doğukan</td>\n",
       "      <td>170</td>\n",
       "      <td>75.4</td>\n",
       "    </tr>\n",
       "    <tr>\n",
       "      <th>1</th>\n",
       "      <td>Atakan</td>\n",
       "      <td>170</td>\n",
       "      <td>66.8</td>\n",
       "    </tr>\n",
       "    <tr>\n",
       "      <th>2</th>\n",
       "      <td>Hazal Asu</td>\n",
       "      <td>135</td>\n",
       "      <td>23.2</td>\n",
       "    </tr>\n",
       "    <tr>\n",
       "      <th>3</th>\n",
       "      <td>Ekinsu</td>\n",
       "      <td>160</td>\n",
       "      <td>52.5</td>\n",
       "    </tr>\n",
       "    <tr>\n",
       "      <th>4</th>\n",
       "      <td>Berke Kaan</td>\n",
       "      <td>187</td>\n",
       "      <td>85.0</td>\n",
       "    </tr>\n",
       "    <tr>\n",
       "      <th>5</th>\n",
       "      <td>Ece Dilara</td>\n",
       "      <td>160</td>\n",
       "      <td>55.5</td>\n",
       "    </tr>\n",
       "    <tr>\n",
       "      <th>6</th>\n",
       "      <td>Yavuzhan</td>\n",
       "      <td>178</td>\n",
       "      <td>88.7</td>\n",
       "    </tr>\n",
       "    <tr>\n",
       "      <th>7</th>\n",
       "      <td>Muhammed Ali</td>\n",
       "      <td>179</td>\n",
       "      <td>80.4</td>\n",
       "    </tr>\n",
       "  </tbody>\n",
       "</table>\n",
       "</div>"
      ],
      "text/plain": [
       "           name  height  weight\n",
       "0       Doğukan     170    75.4\n",
       "1        Atakan     170    66.8\n",
       "2     Hazal Asu     135    23.2\n",
       "3        Ekinsu     160    52.5\n",
       "4    Berke Kaan     187    85.0\n",
       "5    Ece Dilara     160    55.5\n",
       "6      Yavuzhan     178    88.7\n",
       "7  Muhammed Ali     179    80.4"
      ]
     },
     "execution_count": 288,
     "metadata": {},
     "output_type": "execute_result"
    }
   ],
   "source": [
    " df"
   ]
  },
  {
   "cell_type": "code",
   "execution_count": 290,
   "id": "a4dd0568-fa52-492f-b6c9-e4218eb72bfd",
   "metadata": {},
   "outputs": [
    {
     "data": {
      "text/plain": [
       "0         Doğukan\n",
       "1          Atakan\n",
       "2       Hazal Asu\n",
       "3          Ekinsu\n",
       "4      Berke Kaan\n",
       "5      Ece Dilara\n",
       "6        Yavuzhan\n",
       "7    Muhammed Ali\n",
       "Name: name, dtype: object"
      ]
     },
     "execution_count": 290,
     "metadata": {},
     "output_type": "execute_result"
    }
   ],
   "source": [
    "df[\"name\"]"
   ]
  },
  {
   "cell_type": "code",
   "execution_count": 294,
   "id": "21c24d4b-cd71-484c-825c-1f742fba5b97",
   "metadata": {},
   "outputs": [
    {
     "data": {
      "text/html": [
       "<div>\n",
       "<style scoped>\n",
       "    .dataframe tbody tr th:only-of-type {\n",
       "        vertical-align: middle;\n",
       "    }\n",
       "\n",
       "    .dataframe tbody tr th {\n",
       "        vertical-align: top;\n",
       "    }\n",
       "\n",
       "    .dataframe thead th {\n",
       "        text-align: right;\n",
       "    }\n",
       "</style>\n",
       "<table border=\"1\" class=\"dataframe\">\n",
       "  <thead>\n",
       "    <tr style=\"text-align: right;\">\n",
       "      <th></th>\n",
       "      <th>name</th>\n",
       "      <th>height</th>\n",
       "    </tr>\n",
       "  </thead>\n",
       "  <tbody>\n",
       "    <tr>\n",
       "      <th>0</th>\n",
       "      <td>Doğukan</td>\n",
       "      <td>170</td>\n",
       "    </tr>\n",
       "    <tr>\n",
       "      <th>1</th>\n",
       "      <td>Atakan</td>\n",
       "      <td>170</td>\n",
       "    </tr>\n",
       "    <tr>\n",
       "      <th>2</th>\n",
       "      <td>Hazal Asu</td>\n",
       "      <td>135</td>\n",
       "    </tr>\n",
       "    <tr>\n",
       "      <th>3</th>\n",
       "      <td>Ekinsu</td>\n",
       "      <td>160</td>\n",
       "    </tr>\n",
       "    <tr>\n",
       "      <th>4</th>\n",
       "      <td>Berke Kaan</td>\n",
       "      <td>187</td>\n",
       "    </tr>\n",
       "    <tr>\n",
       "      <th>5</th>\n",
       "      <td>Ece Dilara</td>\n",
       "      <td>160</td>\n",
       "    </tr>\n",
       "    <tr>\n",
       "      <th>6</th>\n",
       "      <td>Yavuzhan</td>\n",
       "      <td>178</td>\n",
       "    </tr>\n",
       "    <tr>\n",
       "      <th>7</th>\n",
       "      <td>Muhammed Ali</td>\n",
       "      <td>179</td>\n",
       "    </tr>\n",
       "  </tbody>\n",
       "</table>\n",
       "</div>"
      ],
      "text/plain": [
       "           name  height\n",
       "0       Doğukan     170\n",
       "1        Atakan     170\n",
       "2     Hazal Asu     135\n",
       "3        Ekinsu     160\n",
       "4    Berke Kaan     187\n",
       "5    Ece Dilara     160\n",
       "6      Yavuzhan     178\n",
       "7  Muhammed Ali     179"
      ]
     },
     "execution_count": 294,
     "metadata": {},
     "output_type": "execute_result"
    }
   ],
   "source": [
    "df[[\"name\", \"height\"]]"
   ]
  },
  {
   "cell_type": "code",
   "execution_count": 298,
   "id": "5e17b037-ee6c-496b-9b42-8cfbd8103736",
   "metadata": {
    "scrolled": true
   },
   "outputs": [
    {
     "data": {
      "text/html": [
       "<div>\n",
       "<style scoped>\n",
       "    .dataframe tbody tr th:only-of-type {\n",
       "        vertical-align: middle;\n",
       "    }\n",
       "\n",
       "    .dataframe tbody tr th {\n",
       "        vertical-align: top;\n",
       "    }\n",
       "\n",
       "    .dataframe thead th {\n",
       "        text-align: right;\n",
       "    }\n",
       "</style>\n",
       "<table border=\"1\" class=\"dataframe\">\n",
       "  <thead>\n",
       "    <tr style=\"text-align: right;\">\n",
       "      <th></th>\n",
       "      <th>name</th>\n",
       "      <th>height</th>\n",
       "      <th>weight</th>\n",
       "    </tr>\n",
       "  </thead>\n",
       "  <tbody>\n",
       "    <tr>\n",
       "      <th>0</th>\n",
       "      <td>Doğukan</td>\n",
       "      <td>170</td>\n",
       "      <td>75.4</td>\n",
       "    </tr>\n",
       "    <tr>\n",
       "      <th>1</th>\n",
       "      <td>Atakan</td>\n",
       "      <td>170</td>\n",
       "      <td>66.8</td>\n",
       "    </tr>\n",
       "    <tr>\n",
       "      <th>2</th>\n",
       "      <td>Hazal Asu</td>\n",
       "      <td>135</td>\n",
       "      <td>23.2</td>\n",
       "    </tr>\n",
       "  </tbody>\n",
       "</table>\n",
       "</div>"
      ],
      "text/plain": [
       "        name  height  weight\n",
       "0    Doğukan     170    75.4\n",
       "1     Atakan     170    66.8\n",
       "2  Hazal Asu     135    23.2"
      ]
     },
     "execution_count": 298,
     "metadata": {},
     "output_type": "execute_result"
    }
   ],
   "source": [
    "df[0:3]"
   ]
  },
  {
   "cell_type": "code",
   "execution_count": 316,
   "id": "986621a4-0575-45ad-86fd-4840373fd9e0",
   "metadata": {},
   "outputs": [
    {
     "data": {
      "text/html": [
       "<div>\n",
       "<style scoped>\n",
       "    .dataframe tbody tr th:only-of-type {\n",
       "        vertical-align: middle;\n",
       "    }\n",
       "\n",
       "    .dataframe tbody tr th {\n",
       "        vertical-align: top;\n",
       "    }\n",
       "\n",
       "    .dataframe thead th {\n",
       "        text-align: right;\n",
       "    }\n",
       "</style>\n",
       "<table border=\"1\" class=\"dataframe\">\n",
       "  <thead>\n",
       "    <tr style=\"text-align: right;\">\n",
       "      <th></th>\n",
       "      <th>name</th>\n",
       "      <th>height</th>\n",
       "      <th>weight</th>\n",
       "    </tr>\n",
       "  </thead>\n",
       "  <tbody>\n",
       "    <tr>\n",
       "      <th>4</th>\n",
       "      <td>Berke Kaan</td>\n",
       "      <td>187</td>\n",
       "      <td>85.0</td>\n",
       "    </tr>\n",
       "    <tr>\n",
       "      <th>6</th>\n",
       "      <td>Yavuzhan</td>\n",
       "      <td>178</td>\n",
       "      <td>88.7</td>\n",
       "    </tr>\n",
       "    <tr>\n",
       "      <th>7</th>\n",
       "      <td>Muhammed Ali</td>\n",
       "      <td>179</td>\n",
       "      <td>80.4</td>\n",
       "    </tr>\n",
       "  </tbody>\n",
       "</table>\n",
       "</div>"
      ],
      "text/plain": [
       "           name  height  weight\n",
       "4    Berke Kaan     187    85.0\n",
       "6      Yavuzhan     178    88.7\n",
       "7  Muhammed Ali     179    80.4"
      ]
     },
     "execution_count": 316,
     "metadata": {},
     "output_type": "execute_result"
    }
   ],
   "source": [
    "df[df[\"height\"] > 175]"
   ]
  },
  {
   "cell_type": "code",
   "execution_count": 318,
   "id": "66c91da9-6542-40b0-9b95-7fba09b11a1f",
   "metadata": {},
   "outputs": [
    {
     "data": {
      "text/html": [
       "<div>\n",
       "<style scoped>\n",
       "    .dataframe tbody tr th:only-of-type {\n",
       "        vertical-align: middle;\n",
       "    }\n",
       "\n",
       "    .dataframe tbody tr th {\n",
       "        vertical-align: top;\n",
       "    }\n",
       "\n",
       "    .dataframe thead th {\n",
       "        text-align: right;\n",
       "    }\n",
       "</style>\n",
       "<table border=\"1\" class=\"dataframe\">\n",
       "  <thead>\n",
       "    <tr style=\"text-align: right;\">\n",
       "      <th></th>\n",
       "      <th>name</th>\n",
       "      <th>height</th>\n",
       "      <th>weight</th>\n",
       "    </tr>\n",
       "  </thead>\n",
       "  <tbody>\n",
       "    <tr>\n",
       "      <th>0</th>\n",
       "      <td>Doğukan</td>\n",
       "      <td>170</td>\n",
       "      <td>75.4</td>\n",
       "    </tr>\n",
       "    <tr>\n",
       "      <th>1</th>\n",
       "      <td>Atakan</td>\n",
       "      <td>170</td>\n",
       "      <td>66.8</td>\n",
       "    </tr>\n",
       "    <tr>\n",
       "      <th>6</th>\n",
       "      <td>Yavuzhan</td>\n",
       "      <td>178</td>\n",
       "      <td>88.7</td>\n",
       "    </tr>\n",
       "    <tr>\n",
       "      <th>7</th>\n",
       "      <td>Muhammed Ali</td>\n",
       "      <td>179</td>\n",
       "      <td>80.4</td>\n",
       "    </tr>\n",
       "  </tbody>\n",
       "</table>\n",
       "</div>"
      ],
      "text/plain": [
       "           name  height  weight\n",
       "0       Doğukan     170    75.4\n",
       "1        Atakan     170    66.8\n",
       "6      Yavuzhan     178    88.7\n",
       "7  Muhammed Ali     179    80.4"
      ]
     },
     "execution_count": 318,
     "metadata": {},
     "output_type": "execute_result"
    }
   ],
   "source": [
    "df[(df[\"height\"] >= 170 ) & (df[\"height\"] < 180)]"
   ]
  },
  {
   "cell_type": "code",
   "execution_count": 336,
   "id": "98bd22a2-7d5c-450b-b3e1-a39bf45f7be2",
   "metadata": {},
   "outputs": [
    {
     "data": {
      "text/html": [
       "<div>\n",
       "<style scoped>\n",
       "    .dataframe tbody tr th:only-of-type {\n",
       "        vertical-align: middle;\n",
       "    }\n",
       "\n",
       "    .dataframe tbody tr th {\n",
       "        vertical-align: top;\n",
       "    }\n",
       "\n",
       "    .dataframe thead th {\n",
       "        text-align: right;\n",
       "    }\n",
       "</style>\n",
       "<table border=\"1\" class=\"dataframe\">\n",
       "  <thead>\n",
       "    <tr style=\"text-align: right;\">\n",
       "      <th></th>\n",
       "      <th>height</th>\n",
       "      <th>weight</th>\n",
       "    </tr>\n",
       "  </thead>\n",
       "  <tbody>\n",
       "    <tr>\n",
       "      <th>0</th>\n",
       "      <td>True</td>\n",
       "      <td>True</td>\n",
       "    </tr>\n",
       "    <tr>\n",
       "      <th>1</th>\n",
       "      <td>True</td>\n",
       "      <td>True</td>\n",
       "    </tr>\n",
       "    <tr>\n",
       "      <th>2</th>\n",
       "      <td>True</td>\n",
       "      <td>True</td>\n",
       "    </tr>\n",
       "    <tr>\n",
       "      <th>3</th>\n",
       "      <td>True</td>\n",
       "      <td>True</td>\n",
       "    </tr>\n",
       "    <tr>\n",
       "      <th>4</th>\n",
       "      <td>False</td>\n",
       "      <td>True</td>\n",
       "    </tr>\n",
       "    <tr>\n",
       "      <th>5</th>\n",
       "      <td>True</td>\n",
       "      <td>True</td>\n",
       "    </tr>\n",
       "    <tr>\n",
       "      <th>6</th>\n",
       "      <td>False</td>\n",
       "      <td>True</td>\n",
       "    </tr>\n",
       "    <tr>\n",
       "      <th>7</th>\n",
       "      <td>False</td>\n",
       "      <td>True</td>\n",
       "    </tr>\n",
       "  </tbody>\n",
       "</table>\n",
       "</div>"
      ],
      "text/plain": [
       "   height  weight\n",
       "0    True    True\n",
       "1    True    True\n",
       "2    True    True\n",
       "3    True    True\n",
       "4   False    True\n",
       "5    True    True\n",
       "6   False    True\n",
       "7   False    True"
      ]
     },
     "execution_count": 336,
     "metadata": {},
     "output_type": "execute_result"
    }
   ],
   "source": [
    "df[[\"height\", \"weight\"]] < 175"
   ]
  },
  {
   "cell_type": "code",
   "execution_count": 348,
   "id": "74590100-ae37-4203-bda6-02356968bb33",
   "metadata": {},
   "outputs": [
    {
     "data": {
      "text/html": [
       "<div>\n",
       "<style scoped>\n",
       "    .dataframe tbody tr th:only-of-type {\n",
       "        vertical-align: middle;\n",
       "    }\n",
       "\n",
       "    .dataframe tbody tr th {\n",
       "        vertical-align: top;\n",
       "    }\n",
       "\n",
       "    .dataframe thead th {\n",
       "        text-align: right;\n",
       "    }\n",
       "</style>\n",
       "<table border=\"1\" class=\"dataframe\">\n",
       "  <thead>\n",
       "    <tr style=\"text-align: right;\">\n",
       "      <th></th>\n",
       "      <th>name</th>\n",
       "      <th>height</th>\n",
       "      <th>weight</th>\n",
       "    </tr>\n",
       "  </thead>\n",
       "  <tbody>\n",
       "    <tr>\n",
       "      <th>0</th>\n",
       "      <td>Doğukan</td>\n",
       "      <td>170</td>\n",
       "      <td>75.4</td>\n",
       "    </tr>\n",
       "    <tr>\n",
       "      <th>1</th>\n",
       "      <td>Atakan</td>\n",
       "      <td>170</td>\n",
       "      <td>66.8</td>\n",
       "    </tr>\n",
       "    <tr>\n",
       "      <th>2</th>\n",
       "      <td>Hazal Asu</td>\n",
       "      <td>135</td>\n",
       "      <td>23.2</td>\n",
       "    </tr>\n",
       "    <tr>\n",
       "      <th>3</th>\n",
       "      <td>Ekinsu</td>\n",
       "      <td>160</td>\n",
       "      <td>52.5</td>\n",
       "    </tr>\n",
       "    <tr>\n",
       "      <th>4</th>\n",
       "      <td>Berke Kaan</td>\n",
       "      <td>187</td>\n",
       "      <td>85.0</td>\n",
       "    </tr>\n",
       "    <tr>\n",
       "      <th>5</th>\n",
       "      <td>Ece Dilara</td>\n",
       "      <td>160</td>\n",
       "      <td>55.5</td>\n",
       "    </tr>\n",
       "    <tr>\n",
       "      <th>6</th>\n",
       "      <td>Yavuzhan</td>\n",
       "      <td>178</td>\n",
       "      <td>88.7</td>\n",
       "    </tr>\n",
       "    <tr>\n",
       "      <th>7</th>\n",
       "      <td>Muhammed Ali</td>\n",
       "      <td>179</td>\n",
       "      <td>80.4</td>\n",
       "    </tr>\n",
       "  </tbody>\n",
       "</table>\n",
       "</div>"
      ],
      "text/plain": [
       "           name  height  weight\n",
       "0       Doğukan     170    75.4\n",
       "1        Atakan     170    66.8\n",
       "2     Hazal Asu     135    23.2\n",
       "3        Ekinsu     160    52.5\n",
       "4    Berke Kaan     187    85.0\n",
       "5    Ece Dilara     160    55.5\n",
       "6      Yavuzhan     178    88.7\n",
       "7  Muhammed Ali     179    80.4"
      ]
     },
     "execution_count": 348,
     "metadata": {},
     "output_type": "execute_result"
    }
   ],
   "source": [
    "df2 = pd.DataFrame(data)\n",
    "df2"
   ]
  },
  {
   "cell_type": "code",
   "execution_count": 350,
   "id": "5db54f72-4d79-4000-8026-d1caec771d1b",
   "metadata": {},
   "outputs": [
    {
     "data": {
      "text/plain": [
       "name      Doğukan\n",
       "height        170\n",
       "weight       75.4\n",
       "Name: 0, dtype: object"
      ]
     },
     "execution_count": 350,
     "metadata": {},
     "output_type": "execute_result"
    }
   ],
   "source": [
    "df2.loc[0]"
   ]
  },
  {
   "cell_type": "code",
   "execution_count": 356,
   "id": "925ba366-7e46-4135-add9-81df2b18c5e8",
   "metadata": {},
   "outputs": [
    {
     "data": {
      "text/html": [
       "<div>\n",
       "<style scoped>\n",
       "    .dataframe tbody tr th:only-of-type {\n",
       "        vertical-align: middle;\n",
       "    }\n",
       "\n",
       "    .dataframe tbody tr th {\n",
       "        vertical-align: top;\n",
       "    }\n",
       "\n",
       "    .dataframe thead th {\n",
       "        text-align: right;\n",
       "    }\n",
       "</style>\n",
       "<table border=\"1\" class=\"dataframe\">\n",
       "  <thead>\n",
       "    <tr style=\"text-align: right;\">\n",
       "      <th></th>\n",
       "      <th>name</th>\n",
       "      <th>height</th>\n",
       "      <th>weight</th>\n",
       "    </tr>\n",
       "  </thead>\n",
       "  <tbody>\n",
       "    <tr>\n",
       "      <th>0</th>\n",
       "      <td>Doğukan</td>\n",
       "      <td>170</td>\n",
       "      <td>75.4</td>\n",
       "    </tr>\n",
       "    <tr>\n",
       "      <th>3</th>\n",
       "      <td>Ekinsu</td>\n",
       "      <td>160</td>\n",
       "      <td>52.5</td>\n",
       "    </tr>\n",
       "  </tbody>\n",
       "</table>\n",
       "</div>"
      ],
      "text/plain": [
       "      name  height  weight\n",
       "0  Doğukan     170    75.4\n",
       "3   Ekinsu     160    52.5"
      ]
     },
     "execution_count": 356,
     "metadata": {},
     "output_type": "execute_result"
    }
   ],
   "source": [
    "df2.loc[[0, 3]]"
   ]
  },
  {
   "cell_type": "code",
   "execution_count": 360,
   "id": "a50073ad-5d47-48f4-9a3c-e6d6491e15ff",
   "metadata": {},
   "outputs": [
    {
     "data": {
      "text/html": [
       "<div>\n",
       "<style scoped>\n",
       "    .dataframe tbody tr th:only-of-type {\n",
       "        vertical-align: middle;\n",
       "    }\n",
       "\n",
       "    .dataframe tbody tr th {\n",
       "        vertical-align: top;\n",
       "    }\n",
       "\n",
       "    .dataframe thead th {\n",
       "        text-align: right;\n",
       "    }\n",
       "</style>\n",
       "<table border=\"1\" class=\"dataframe\">\n",
       "  <thead>\n",
       "    <tr style=\"text-align: right;\">\n",
       "      <th></th>\n",
       "      <th>name</th>\n",
       "    </tr>\n",
       "  </thead>\n",
       "  <tbody>\n",
       "    <tr>\n",
       "      <th>0</th>\n",
       "      <td>Doğukan</td>\n",
       "    </tr>\n",
       "    <tr>\n",
       "      <th>3</th>\n",
       "      <td>Ekinsu</td>\n",
       "    </tr>\n",
       "  </tbody>\n",
       "</table>\n",
       "</div>"
      ],
      "text/plain": [
       "      name\n",
       "0  Doğukan\n",
       "3   Ekinsu"
      ]
     },
     "execution_count": 360,
     "metadata": {},
     "output_type": "execute_result"
    }
   ],
   "source": [
    "df2.loc[[0, 3], [\"name\"]] # combining both row and column selection in loc"
   ]
  },
  {
   "cell_type": "code",
   "execution_count": 368,
   "id": "c6b34082-87a3-4400-b60f-3f04e07c4b66",
   "metadata": {},
   "outputs": [
    {
     "data": {
      "text/html": [
       "<div>\n",
       "<style scoped>\n",
       "    .dataframe tbody tr th:only-of-type {\n",
       "        vertical-align: middle;\n",
       "    }\n",
       "\n",
       "    .dataframe tbody tr th {\n",
       "        vertical-align: top;\n",
       "    }\n",
       "\n",
       "    .dataframe thead th {\n",
       "        text-align: right;\n",
       "    }\n",
       "</style>\n",
       "<table border=\"1\" class=\"dataframe\">\n",
       "  <thead>\n",
       "    <tr style=\"text-align: right;\">\n",
       "      <th></th>\n",
       "      <th>2000</th>\n",
       "      <th>2015</th>\n",
       "      <th>2025</th>\n",
       "    </tr>\n",
       "  </thead>\n",
       "  <tbody>\n",
       "    <tr>\n",
       "      <th>İstanbul</th>\n",
       "      <td>10000000</td>\n",
       "      <td>15000000</td>\n",
       "      <td>20000000</td>\n",
       "    </tr>\n",
       "    <tr>\n",
       "      <th>Krakow</th>\n",
       "      <td>300000</td>\n",
       "      <td>700000</td>\n",
       "      <td>1800000</td>\n",
       "    </tr>\n",
       "  </tbody>\n",
       "</table>\n",
       "</div>"
      ],
      "text/plain": [
       "              2000      2015      2025\n",
       "İstanbul  10000000  15000000  20000000\n",
       "Krakow      300000    700000   1800000"
      ]
     },
     "execution_count": 368,
     "metadata": {},
     "output_type": "execute_result"
    }
   ],
   "source": [
    "df4 = df4.T\n",
    "df4"
   ]
  },
  {
   "cell_type": "code",
   "execution_count": 376,
   "id": "b366d120-e802-4f7b-ba0a-96c48cb90bd2",
   "metadata": {},
   "outputs": [
    {
     "data": {
      "text/plain": [
       "2000    10000000\n",
       "2015    15000000\n",
       "2025    20000000\n",
       "Name: İstanbul, dtype: int64"
      ]
     },
     "execution_count": 376,
     "metadata": {},
     "output_type": "execute_result"
    }
   ],
   "source": [
    "df4.loc[\"İstanbul\"]"
   ]
  },
  {
   "cell_type": "code",
   "execution_count": 378,
   "id": "20d95753-c1ea-4e4f-b49a-6799fdea2d54",
   "metadata": {},
   "outputs": [
    {
     "data": {
      "text/plain": [
       "2000    10000000\n",
       "2015    15000000\n",
       "2025    20000000\n",
       "Name: İstanbul, dtype: int64"
      ]
     },
     "execution_count": 378,
     "metadata": {},
     "output_type": "execute_result"
    }
   ],
   "source": [
    "df4.iloc[0]"
   ]
  },
  {
   "cell_type": "code",
   "execution_count": 380,
   "id": "d4f24a1e-168b-43b3-b203-6e89a3e703d0",
   "metadata": {},
   "outputs": [
    {
     "data": {
      "text/html": [
       "<div>\n",
       "<style scoped>\n",
       "    .dataframe tbody tr th:only-of-type {\n",
       "        vertical-align: middle;\n",
       "    }\n",
       "\n",
       "    .dataframe tbody tr th {\n",
       "        vertical-align: top;\n",
       "    }\n",
       "\n",
       "    .dataframe thead th {\n",
       "        text-align: right;\n",
       "    }\n",
       "</style>\n",
       "<table border=\"1\" class=\"dataframe\">\n",
       "  <thead>\n",
       "    <tr style=\"text-align: right;\">\n",
       "      <th></th>\n",
       "      <th>2000</th>\n",
       "      <th>2015</th>\n",
       "      <th>2025</th>\n",
       "    </tr>\n",
       "  </thead>\n",
       "  <tbody>\n",
       "    <tr>\n",
       "      <th>İstanbul</th>\n",
       "      <td>10000000</td>\n",
       "      <td>15000000</td>\n",
       "      <td>20000000</td>\n",
       "    </tr>\n",
       "    <tr>\n",
       "      <th>Krakow</th>\n",
       "      <td>300000</td>\n",
       "      <td>700000</td>\n",
       "      <td>1800000</td>\n",
       "    </tr>\n",
       "  </tbody>\n",
       "</table>\n",
       "</div>"
      ],
      "text/plain": [
       "              2000      2015      2025\n",
       "İstanbul  10000000  15000000  20000000\n",
       "Krakow      300000    700000   1800000"
      ]
     },
     "execution_count": 380,
     "metadata": {},
     "output_type": "execute_result"
    }
   ],
   "source": [
    "df4.iloc[[0,1]]"
   ]
  },
  {
   "cell_type": "code",
   "execution_count": 396,
   "id": "c4184a3e-2978-458c-8b79-451d3fc62b59",
   "metadata": {},
   "outputs": [
    {
     "data": {
      "text/html": [
       "<div>\n",
       "<style scoped>\n",
       "    .dataframe tbody tr th:only-of-type {\n",
       "        vertical-align: middle;\n",
       "    }\n",
       "\n",
       "    .dataframe tbody tr th {\n",
       "        vertical-align: top;\n",
       "    }\n",
       "\n",
       "    .dataframe thead th {\n",
       "        text-align: right;\n",
       "    }\n",
       "</style>\n",
       "<table border=\"1\" class=\"dataframe\">\n",
       "  <thead>\n",
       "    <tr style=\"text-align: right;\">\n",
       "      <th></th>\n",
       "      <th>2000</th>\n",
       "      <th>2025</th>\n",
       "    </tr>\n",
       "  </thead>\n",
       "  <tbody>\n",
       "    <tr>\n",
       "      <th>İstanbul</th>\n",
       "      <td>10000000</td>\n",
       "      <td>20000000</td>\n",
       "    </tr>\n",
       "    <tr>\n",
       "      <th>Krakow</th>\n",
       "      <td>300000</td>\n",
       "      <td>1800000</td>\n",
       "    </tr>\n",
       "  </tbody>\n",
       "</table>\n",
       "</div>"
      ],
      "text/plain": [
       "              2000      2025\n",
       "İstanbul  10000000  20000000\n",
       "Krakow      300000   1800000"
      ]
     },
     "execution_count": 396,
     "metadata": {},
     "output_type": "execute_result"
    }
   ],
   "source": [
    "df4.iloc[:, [0, 2]]"
   ]
  },
  {
   "cell_type": "code",
   "execution_count": 408,
   "id": "a0e672eb-ac74-4c6a-bbb3-dfa044d6b16c",
   "metadata": {},
   "outputs": [
    {
     "data": {
      "text/html": [
       "<div>\n",
       "<style scoped>\n",
       "    .dataframe tbody tr th:only-of-type {\n",
       "        vertical-align: middle;\n",
       "    }\n",
       "\n",
       "    .dataframe tbody tr th {\n",
       "        vertical-align: top;\n",
       "    }\n",
       "\n",
       "    .dataframe thead th {\n",
       "        text-align: right;\n",
       "    }\n",
       "</style>\n",
       "<table border=\"1\" class=\"dataframe\">\n",
       "  <thead>\n",
       "    <tr style=\"text-align: right;\">\n",
       "      <th></th>\n",
       "      <th>2000</th>\n",
       "      <th>2015</th>\n",
       "      <th>2025</th>\n",
       "    </tr>\n",
       "  </thead>\n",
       "  <tbody>\n",
       "    <tr>\n",
       "      <th>İstanbul</th>\n",
       "      <td>10000000</td>\n",
       "      <td>15000000</td>\n",
       "      <td>20000000</td>\n",
       "    </tr>\n",
       "  </tbody>\n",
       "</table>\n",
       "</div>"
      ],
      "text/plain": [
       "              2000      2015      2025\n",
       "İstanbul  10000000  15000000  20000000"
      ]
     },
     "execution_count": 408,
     "metadata": {},
     "output_type": "execute_result"
    }
   ],
   "source": [
    "df4.iloc[:1, :]"
   ]
  },
  {
   "cell_type": "code",
   "execution_count": 418,
   "id": "0178ea1b-0cdc-4d6a-9630-76686ba26c5a",
   "metadata": {},
   "outputs": [
    {
     "data": {
      "text/plain": [
       "İstanbul    20000000\n",
       "Name: 2025, dtype: int64"
      ]
     },
     "execution_count": 418,
     "metadata": {},
     "output_type": "execute_result"
    }
   ],
   "source": [
    "df4.iloc[:, 2][df4[2025] > 15000000] # selecting provinces which have populations greater than 15 millions."
   ]
  },
  {
   "cell_type": "code",
   "execution_count": 426,
   "id": "2787eb1e-6cd6-48b1-83c6-e7476050517e",
   "metadata": {},
   "outputs": [
    {
     "data": {
      "text/plain": [
       "name      Muhammed Ali\n",
       "height             179\n",
       "weight              :(\n",
       "Name: 7, dtype: object"
      ]
     },
     "execution_count": 426,
     "metadata": {},
     "output_type": "execute_result"
    }
   ],
   "source": [
    "df.iloc[-1] # df[-1] will not work, instead it throw an error"
   ]
  },
  {
   "cell_type": "markdown",
   "id": "a8c224ca-5301-44cf-a3b3-e5c75671b633",
   "metadata": {},
   "source": [
    "### Arithmetic and Data Alignment"
   ]
  },
  {
   "cell_type": "code",
   "execution_count": null,
   "id": "6ae954f4-2574-4696-8e79-d85204200475",
   "metadata": {},
   "outputs": [],
   "source": []
  }
 ],
 "metadata": {
  "kernelspec": {
   "display_name": "Python [conda env:base] *",
   "language": "python",
   "name": "conda-base-py"
  },
  "language_info": {
   "codemirror_mode": {
    "name": "ipython",
    "version": 3
   },
   "file_extension": ".py",
   "mimetype": "text/x-python",
   "name": "python",
   "nbconvert_exporter": "python",
   "pygments_lexer": "ipython3",
   "version": "3.12.7"
  }
 },
 "nbformat": 4,
 "nbformat_minor": 5
}
